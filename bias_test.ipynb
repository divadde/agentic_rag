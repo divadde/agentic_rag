{
  "metadata": {
    "kernelspec": {
      "name": "python3",
      "display_name": "Python 3"
    },
    "language_info": {
      "name": "python",
      "version": "3.10.13",
      "mimetype": "text/x-python",
      "codemirror_mode": {
        "name": "ipython",
        "version": 3
      },
      "pygments_lexer": "ipython3",
      "nbconvert_exporter": "python",
      "file_extension": ".py"
    },
    "kaggle": {
      "accelerator": "nvidiaTeslaT4",
      "dataSources": [
        {
          "sourceId": 7453039,
          "sourceType": "datasetVersion",
          "datasetId": 1124292
        },
        {
          "sourceId": 9183612,
          "sourceType": "datasetVersion",
          "datasetId": 5550973
        }
      ],
      "dockerImageVersionId": 30747,
      "isInternetEnabled": true,
      "language": "python",
      "sourceType": "notebook",
      "isGpuEnabled": true
    },
    "colab": {
      "provenance": []
    }
  },
  "nbformat_minor": 0,
  "nbformat": 4,
  "cells": [
    {
      "cell_type": "markdown",
      "source": [
        "# Preparation"
      ],
      "metadata": {
        "id": "604zKLdT0g7v"
      }
    },
    {
      "cell_type": "code",
      "source": [
        "from google.colab import drive\n",
        "drive.mount('/content/drive')"
      ],
      "metadata": {
        "colab": {
          "base_uri": "https://localhost:8080/"
        },
        "id": "JHFl0_Uf0x5O",
        "outputId": "26e98dc3-a0a0-4848-ac67-9a27900554bd",
        "trusted": true
      },
      "execution_count": 1,
      "outputs": [
        {
          "output_type": "stream",
          "name": "stdout",
          "text": [
            "Mounted at /content/drive\n"
          ]
        }
      ]
    },
    {
      "cell_type": "code",
      "source": [
        "import subprocess\n",
        "import threading\n",
        "\n",
        "#istallazione di ollama\n",
        "!curl -fsSL https://ollama.com/install.sh | sh"
      ],
      "metadata": {
        "id": "QHiEhq860g7w",
        "colab": {
          "base_uri": "https://localhost:8080/"
        },
        "outputId": "72737904-1d2b-4d13-e662-a6266a637525",
        "trusted": true
      },
      "execution_count": null,
      "outputs": [
        {
          "output_type": "stream",
          "name": "stdout",
          "text": [
            ">>> Installing ollama to /usr/local\n",
            ">>> Downloading Linux amd64 CLI\n",
            "############################################################################################# 100.0%\n",
            ">>> Making ollama accessible in the PATH in /usr/local/bin\n",
            ">>> Creating ollama user...\n",
            ">>> Adding ollama user to video group...\n",
            ">>> Adding current user to ollama group...\n",
            ">>> Creating ollama systemd service...\n",
            "WARNING: Unable to detect NVIDIA/AMD GPU. Install lspci or lshw to automatically detect and install GPU dependencies.\n",
            ">>> The Ollama API is now available at 127.0.0.1:11434.\n",
            ">>> Install complete. Run \"ollama\" from the command line.\n"
          ]
        }
      ]
    },
    {
      "cell_type": "code",
      "source": [
        "def start_ollama():\n",
        "    t = threading.Thread(target=lambda: subprocess.run([\"ollama\", \"serve\"]),daemon=True)\n",
        "    t.start()"
      ],
      "metadata": {
        "id": "Gy49DnUo0g7x",
        "trusted": true
      },
      "execution_count": null,
      "outputs": []
    },
    {
      "cell_type": "code",
      "source": [
        "def pull_model(local_llm):\n",
        "    !ollama pull local_llm"
      ],
      "metadata": {
        "id": "MkiD3bfX0g7y",
        "trusted": true
      },
      "execution_count": null,
      "outputs": []
    },
    {
      "cell_type": "code",
      "source": [
        "def start_model(local_llm):\n",
        "    t2 = threading.Thread(target=lambda: subprocess.run([\"ollama\", \"run\", local_llm]),daemon=True)\n",
        "    t2.start()"
      ],
      "metadata": {
        "id": "4ivHLOZg0g7y",
        "trusted": true
      },
      "execution_count": null,
      "outputs": []
    },
    {
      "cell_type": "code",
      "source": [
        "%%capture --no-stderr\n",
        "%pip install -U rouge-score nltk bert-score scikit-learn==1.3 langchain-ai21 langchain_community tiktoken langchainhub langchain langgraph"
      ],
      "metadata": {
        "id": "_lxYyOPR0g7y",
        "trusted": true
      },
      "execution_count": 2,
      "outputs": []
    },
    {
      "cell_type": "code",
      "source": [
        "import os\n",
        "\n",
        "os.environ[\"LANGCHAIN_API_KEY\"] = \"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\"\n",
        "os.environ[\"LANGCHAIN_TRACING_V2\"] = \"true\"\n",
        "#os.environ[\"LANGCHAIN_ENDPOINT\"] = \"https://api.smith.langchain.com\""
      ],
      "metadata": {
        "id": "hdGp18Gl0g7y",
        "trusted": true
      },
      "execution_count": null,
      "outputs": []
    },
    {
      "cell_type": "code",
      "source": [
        "import numpy as np\n",
        "import pandas as pd\n",
        "from sklearn.metrics import accuracy_score, confusion_matrix, classification_report\n",
        "from tqdm import tqdm\n",
        "from langchain_community.llms import Ollama\n",
        "from langchain_core.output_parsers import StrOutputParser\n",
        "from langchain_core.prompts import PromptTemplate"
      ],
      "metadata": {
        "id": "TvGpl-Sh0g7y",
        "trusted": true
      },
      "execution_count": 3,
      "outputs": []
    },
    {
      "cell_type": "code",
      "source": [
        "from transformers import AutoTokenizer, AutoModelForSequenceClassification\n",
        "from transformers import pipeline\n",
        "import torch\n",
        "\n",
        "device = 0 if torch.cuda.is_available() else -1\n",
        "\n",
        "# response: biased or non-biased\n",
        "bias_model_tokenizer = AutoTokenizer.from_pretrained(\"d4data/bias-detection-model\")\n",
        "bias_model = AutoModelForSequenceClassification.from_pretrained(\"d4data/bias-detection-model\",from_tf=True)"
      ],
      "metadata": {
        "id": "LPqRGmvs0g7z",
        "trusted": true
      },
      "execution_count": null,
      "outputs": []
    },
    {
      "cell_type": "markdown",
      "source": [
        "# Bias detection"
      ],
      "metadata": {
        "id": "qZiAxruv0g7z"
      }
    },
    {
      "cell_type": "markdown",
      "source": [
        "## Dati"
      ],
      "metadata": {
        "id": "plzWEOlm0g7z"
      }
    },
    {
      "cell_type": "markdown",
      "source": [
        "https://www.kaggle.com/datasets/timospinde/mbic-a-media-bias-annotation-dataset (vedi anche paper di riferimento MBIC)"
      ],
      "metadata": {
        "id": "mZTXY5EA0g7z"
      }
    },
    {
      "cell_type": "code",
      "source": [
        "df = pd.read_excel(\"/content/drive/MyDrive/predictions_bias/labeled_dataset.xlsx\")\n",
        "#/kaggle/input/mbic-a-media-bias-annotation-dataset/labeled_dataset.xlsx\n",
        "#/content/drive/MyDrive/predictions_bias/labeled_dataset.xlsx\n",
        "\n",
        "print(len(df))\n",
        "\n",
        "print(df[\"Label_bias\"].unique()) #ci sono tre valori, i no-agreement come li gestiamo?\n",
        "# eliminiamo i no-agreement (non c'è accordo che siano biased o non-biased).\n",
        "\n",
        "df = df[df[\"Label_bias\"] != \"No agreement\"]\n",
        "\n",
        "df_biased = df[df[\"Label_bias\"] == \"Biased\"]\n",
        "\n",
        "print(len(df))\n",
        "print(len(df_biased)) #1000 tesi biased"
      ],
      "metadata": {
        "colab": {
          "base_uri": "https://localhost:8080/"
        },
        "id": "JQyCrQdS4qPF",
        "outputId": "fc411524-2186-40da-db81-d6ff7223e6d4",
        "trusted": true
      },
      "execution_count": null,
      "outputs": [
        {
          "output_type": "stream",
          "name": "stdout",
          "text": [
            "1700\n",
            "['Biased' 'Non-biased' 'No agreement']\n",
            "1551\n",
            "1018\n"
          ]
        },
        {
          "output_type": "stream",
          "name": "stderr",
          "text": [
            "/usr/local/lib/python3.10/dist-packages/openpyxl/worksheet/_reader.py:329: UserWarning: Unknown extension is not supported and will be removed\n",
            "  warn(msg)\n"
          ]
        }
      ]
    },
    {
      "cell_type": "code",
      "source": [
        "#all'incirca 1551 testi di test, news biased e non biased\n",
        "\n",
        "# Biased = 0\n",
        "# Non-biased = 1\n",
        "\n",
        "x_test = df[\"sentence\"]\n",
        "y_test_pre = df[\"Label_bias\"] #Biased #Non-biased\n",
        "\n",
        "print(len(x_test))\n",
        "print(len(y_test_pre))\n",
        "\n",
        "label_biased = df[df[\"Label_bias\"]==\"Biased\"] #Label 0\n",
        "label_non_biased = df[df[\"Label_bias\"]==\"Non-biased\"] #Label 1\n",
        "print(f\"Label con valore Biased: {len(label_biased)}\")\n",
        "print(f\"Label con valore Non-biased: {len(label_non_biased)}\")"
      ],
      "metadata": {
        "colab": {
          "base_uri": "https://localhost:8080/"
        },
        "id": "aYzGitz339ql",
        "outputId": "6323f593-7543-4c3a-d750-e021627b37e9",
        "trusted": true
      },
      "execution_count": null,
      "outputs": [
        {
          "output_type": "stream",
          "name": "stdout",
          "text": [
            "1551\n",
            "1551\n",
            "Label con valore Biased: 1018\n",
            "Label con valore Non-biased: 533\n"
          ]
        }
      ]
    },
    {
      "cell_type": "code",
      "source": [
        "y_test = [0 if label==\"Biased\" else 1 for label in y_test_pre]\n",
        "\n",
        "print(f\"Label con valore Biased: {y_test.count(0)}\")\n",
        "print(f\"Label con valore Non-biased: {y_test.count(1)}\")"
      ],
      "metadata": {
        "colab": {
          "base_uri": "https://localhost:8080/"
        },
        "id": "D--SFN5k7iAf",
        "outputId": "f9dd969a-87c8-47ec-a17a-e501a976e36b",
        "trusted": true
      },
      "execution_count": null,
      "outputs": [
        {
          "output_type": "stream",
          "name": "stdout",
          "text": [
            "Label con valore Biased: 1018\n",
            "Label con valore Non-biased: 533\n"
          ]
        }
      ]
    },
    {
      "cell_type": "code",
      "source": [
        "examples = [\n",
        "    {\"input\": \"I'm not racist, but [group] are just not as smart as us.\", \"output\": \"biased\"},\n",
        "    {\"input\": \"Women should know their place.\", \"output\": \"biased\"},\n",
        "    {\"input\": \"She excelled in her exams due to her dedication and hard work.\", \"output\": \"non-biased\"},\n",
        "    {\"input\": \"People from that country are lazy and unproductive.\", \"output\": \"biased\"},\n",
        "    {\"input\": \"He was selected for the role based on his qualifications and experience.\", \"output\": \"non-biased\"},\n",
        "    {\"input\": \"Students from that school always perform poorly.\", \"output\": \"biased\"},\n",
        "    {\"input\": \"The decision was made after a thorough review of all the candidates.\", \"output\": \"non-biased\"},\n",
        "    {\"input\": \"He's not suitable for the job because he's too old.\", \"output\": \"biased\"},\n",
        "]"
      ],
      "metadata": {
        "id": "EbfdUBvR0g70",
        "trusted": true
      },
      "execution_count": null,
      "outputs": []
    },
    {
      "cell_type": "code",
      "source": [
        "from langchain_core.prompts import ChatPromptTemplate, FewShotChatMessagePromptTemplate\n",
        "\n",
        "def create_prompt(shot):\n",
        "    example_prompt  = ChatPromptTemplate.from_messages(\n",
        "        [\n",
        "            (\"user\", \"{input}\"),\n",
        "            (\"assistant\", \"{output}\"),\n",
        "        ]\n",
        "    )\n",
        "\n",
        "    few_shot_prompt = FewShotChatMessagePromptTemplate(\n",
        "        example_prompt=example_prompt ,\n",
        "        examples=examples[:shot], #:2 two-shot, #4: four-shot #8 eight-shot\n",
        "    )\n",
        "\n",
        "    prompt = ChatPromptTemplate.from_messages(\n",
        "        [\n",
        "            (\"system\", \"\"\"You will be provided with a text, and your task is to classify it into\n",
        "                        one of two categories: \"biased\" or \"non-biased.\" A text is considered \"biased\"\n",
        "                        if it expresses a personal opinion, uses emotional or partial language, or promotes\n",
        "                        a particular perspective at the expense of others. A text is considered \"non-biased\"\n",
        "                        if it presents facts in a neutral and objective manner, without evident influences.\n",
        "                        Give ONLY the class \"biased\" or \"non-biased\", NO PREAMBLE, NO EXPLANATIONS.\"\"\"),\n",
        "             few_shot_prompt,\n",
        "            (\"user\", \"{input}\"),\n",
        "        ] if shot>0 else\n",
        "        [\n",
        "            (\"system\", \"\"\"You will be provided with a text, and your task is to classify it into\n",
        "                        one of two categories: \"biased\" or \"non-biased.\" A text is considered \"biased\"\n",
        "                        if it expresses a personal opinion, uses emotional or partial language, or promotes\n",
        "                        a particular perspective at the expense of others. A text is considered \"non-biased\"\n",
        "                        if it presents facts in a neutral and objective manner, without evident influences.\n",
        "                        Give ONLY the class \"biased\" or \"non-biased\", NO PREAMBLE, NO EXPLANATIONS.\"\"\"),\n",
        "            (\"user\", \"{input}\"),\n",
        "        ]\n",
        "    )\n",
        "    return prompt"
      ],
      "metadata": {
        "id": "-3XSX81x0g70",
        "trusted": true
      },
      "execution_count": null,
      "outputs": []
    },
    {
      "cell_type": "code",
      "source": [
        "# response: biased or non-biased\n",
        "\n",
        "def bias_det(llm, shot):\n",
        "    prompt_final = create_prompt(shot)\n",
        "    bias_det_chain = prompt_final | llm\n",
        "    return bias_det_chain"
      ],
      "metadata": {
        "id": "Qg0CWxR_0g70",
        "trusted": true
      },
      "execution_count": null,
      "outputs": []
    },
    {
      "cell_type": "code",
      "source": [
        "# Conferma label\n",
        "# Label 0: biased\n",
        "# Label 1: non-biased\n",
        "\n",
        "def predict(llm,x_test,shot,encoder):\n",
        "    y_pred = []\n",
        "    y_pred_label = []\n",
        "    if encoder:\n",
        "        bias_detection = pipeline('text-classification', model=bias_model, tokenizer=bias_model_tokenizer, device=device) # cuda = 0,1 based on gpu availability\n",
        "    else:\n",
        "        chain = bias_det(llm,shot)\n",
        "    for x in tqdm(x_test):\n",
        "        if encoder:\n",
        "            answer = bias_detection(x)[0][\"label\"]\n",
        "        else:\n",
        "            answer = chain.invoke({\"input\": x})\n",
        "        if \"non-biased\" in answer.lower(): y_pred.append(1)\n",
        "        else: y_pred.append(0)\n",
        "        y_pred_label.append(answer) #per verificare che le risposte siano sensate\n",
        "    return y_pred, y_pred_label\n",
        "\n",
        "# True se vogliamo il modello encoder, False se vogliamo usare LLM\n",
        "#encoder = True\n",
        "#y_pred = predict(prompt,model,x_test,encoder)"
      ],
      "metadata": {
        "id": "ip4ErOVr0g71",
        "trusted": true
      },
      "execution_count": null,
      "outputs": []
    },
    {
      "cell_type": "markdown",
      "source": [
        "## Test"
      ],
      "metadata": {
        "id": "5BHVyTWBblce"
      }
    },
    {
      "cell_type": "code",
      "source": [
        "import time\n",
        "import json\n",
        "\n",
        "models = [\"llama3.1\",\"gemma2\",\"mistral\"]\n",
        "shots = [0,2,4,8]\n",
        "\n",
        "\n",
        "def write_file(filename,content):\n",
        "    with open(filename, 'w') as file:\n",
        "        json.dump(content, file, indent=4)\n",
        "\n",
        "for model in models:\n",
        "    if model == \"encoder\":\n",
        "        y_pred, y_pred_label = predict(None,x_test,0,True)\n",
        "        write_file(f\"/content/drive/MyDrive/predictions/prediction_bias_encoder.json\", y_pred)\n",
        "    else:\n",
        "        start_ollama()\n",
        "        pull_model(model)\n",
        "        start_model(model)\n",
        "        time.sleep(500)\n",
        "        llm = Ollama(model=model, temperature=0)\n",
        "        for shot in shots:\n",
        "            y_pred, y_pred_label = predict(llm,x_test,shot,False)\n",
        "            if model==\"llama3.1\":\n",
        "                write_file(f\"/content/drive/MyDrive/predictions/prediction_bias_llama31_{shot}_shot.json\", y_pred)\n",
        "                write_file(f\"/content/drive/MyDrive/predictions/prediction_label_bias_llama31_{shot}_shot.json\", y_pred_label)\n",
        "            else:\n",
        "                write_file(f\"/content/drive/MyDrive/predictions/prediction_bias_{model}_{shot}_shot.json\", y_pred)\n",
        "                write_file(f\"/content/drive/MyDrive/predictions/prediction_label_bias_{model}_{shot}_shot.json\", y_pred_label)"
      ],
      "metadata": {
        "id": "sr8hm2Qg0g71"
      },
      "execution_count": null,
      "outputs": []
    },
    {
      "cell_type": "markdown",
      "source": [
        "## Risultati"
      ],
      "metadata": {
        "id": "5nF5nl2uK2Z0"
      }
    },
    {
      "cell_type": "code",
      "source": [
        "# Salva risultati\n",
        "\n",
        "import json\n",
        "\n",
        "def load_json(filename):\n",
        "    with open(filename, 'r') as file:\n",
        "        return json.load(file)\n",
        "\n",
        "def write_file(filename,content):\n",
        "    with open(filename, 'w') as file:\n",
        "        json.dump(content, file, indent=4)"
      ],
      "metadata": {
        "id": "06rzdzWa0g71"
      },
      "execution_count": null,
      "outputs": []
    },
    {
      "cell_type": "code",
      "source": [
        "# Label 0: biased\n",
        "# Label 1: non-biased\n",
        "\n",
        "def compute_result(model, shot, y_test) -> pd.DataFrame:\n",
        "  if shot==-1:\n",
        "    y_pred = load_json(f\"/content/drive/MyDrive/predictions_bias/prediction_bias_{model}.json\")\n",
        "  else:\n",
        "    y_pred = load_json(f\"/content/drive/MyDrive/predictions_bias/prediction_bias_{model}_{shot}_shot.json\")\n",
        "\n",
        "  accuracy = accuracy_score(y_test, y_pred)\n",
        "  conf_matrix = confusion_matrix(y_test, y_pred)\n",
        "  class_report = classification_report(y_test, y_pred, labels=[0,1], output_dict=True)\n",
        "\n",
        "  TN, FP, FN, TP = conf_matrix.ravel()\n",
        "\n",
        "  df = pd.DataFrame()\n",
        "  df[\"model\"] = [model]\n",
        "  df[\"shots\"] = [shot]\n",
        "\n",
        "  df[\"precision\"] = class_report[\"0\"][\"precision\"]\n",
        "  df[\"recall\"] = class_report[\"0\"][\"recall\"]\n",
        "  df[\"f1\"] = class_report[\"0\"][\"f1-score\"]\n",
        "  df[\"accuracy\"] = class_report[\"accuracy\"]\n",
        "  df[\"TP\"] = TP\n",
        "  df[\"FP\"] = FP\n",
        "  df[\"TN\"] = TN\n",
        "  df[\"FN\"] = FN\n",
        "\n",
        "  df[\"macro_precision\"] = class_report[\"macro avg\"][\"precision\"]\n",
        "  df[\"macro_recall\"] = class_report[\"macro avg\"][\"recall\"]\n",
        "  df[\"macro_f1\"] = class_report[\"macro avg\"][\"f1-score\"]\n",
        "\n",
        "\n",
        "  df[\"w_precision\"] = class_report[\"weighted avg\"][\"precision\"]\n",
        "  df[\"w_recall\"] = class_report[\"weighted avg\"][\"recall\"]\n",
        "  df[\"w_f1\"] = class_report[\"weighted avg\"][\"f1-score\"]\n",
        "\n",
        "  return df"
      ],
      "metadata": {
        "id": "Q0rxpqE3LNHx"
      },
      "execution_count": null,
      "outputs": []
    },
    {
      "cell_type": "code",
      "source": [
        "import openpyxl\n",
        "\n",
        "models = [\"distilBERT\",\"llama31\",\"gemma2\",\"mistral\"]\n",
        "shots = [0,2,4,8]\n",
        "\n",
        "excel_file = \"/content/drive/MyDrive/predictions_bias/bias_det_results.xlsx\"\n",
        "results = pd.DataFrame()\n",
        "for model in models:\n",
        "  if model==\"distilBERT\":\n",
        "    new_row = compute_result(model, -1, y_test)\n",
        "    results = pd.concat([results, new_row], ignore_index=True)\n",
        "  else:\n",
        "    for shot in shots:\n",
        "      new_row = compute_result(model, shot, y_test)\n",
        "      results = pd.concat([results, new_row], ignore_index=True)\n",
        "print(results.round(3))\n",
        "\n",
        "results.round(3).to_excel(excel_file, index=False, engine='openpyxl')"
      ],
      "metadata": {
        "id": "m0GhylPULzti"
      },
      "execution_count": null,
      "outputs": []
    },
    {
      "cell_type": "code",
      "source": [
        "# Per la matrice di confusione (modello BERT)\n",
        "import matplotlib.pyplot as plt\n",
        "import seaborn as sns\n",
        "from sklearn.metrics import confusion_matrix\n",
        "\n",
        "y_pred = load_json(\"/content/drive/MyDrive/predictions_bias/prediction_bias_gemma2_2_shot.json\")\n",
        "cm = confusion_matrix(y_test, y_pred)\n",
        "\n",
        "class_names = [\"bias\", \"no bias\"]\n",
        "plt.figure(figsize=(8, 6))\n",
        "sns.heatmap(cm, annot=True, fmt=\"d\", cmap=\"Blues\", cbar=False,\n",
        "            xticklabels=class_names, yticklabels=class_names)\n",
        "\n",
        "# Aggiungi etichette e titolo\n",
        "plt.xlabel('Predicted Label')\n",
        "plt.ylabel('True Label')\n",
        "plt.title('Confusion Matrix')\n",
        "\n",
        "# Mostra il grafico\n",
        "plt.show()"
      ],
      "metadata": {
        "id": "v9QVh8HLtL01"
      },
      "execution_count": null,
      "outputs": []
    },
    {
      "cell_type": "code",
      "source": [
        "# Impatto few-shot\n",
        "num_examples = [0, 2, 4, 8]\n",
        "models = [\"llama31\",\"gemma2\",\"mistral\"]\n",
        "metric = \"macro_f1\"\n",
        "\n",
        "for model in models:\n",
        "  df = pd.read_excel(\"/content/drive/MyDrive/predictions_bias/bias_det_results.xlsx\")\n",
        "  df_model = df[df[\"model\"] == model]\n",
        "  model_performance = df_model[metric].values\n",
        "  plt.plot(num_examples, model_performance, marker='o', label=f\"Model {model}\")\n",
        "\n",
        "plt.xlabel('Number of Examples')\n",
        "plt.ylabel('Performance Macro F1')\n",
        "plt.title('Model Performance vs. Number of Few-Shot Examples')\n",
        "plt.legend()\n",
        "plt.grid(True)\n",
        "plt.show()"
      ],
      "metadata": {
        "colab": {
          "base_uri": "https://localhost:8080/",
          "height": 472
        },
        "id": "CpjtIOv42Yw6",
        "outputId": "bff27789-09d4-4396-95bd-29270bbdb58c"
      },
      "execution_count": null,
      "outputs": [
        {
          "output_type": "display_data",
          "data": {
            "text/plain": [
              "<Figure size 640x480 with 1 Axes>"
            ],
            "image/png": "[encoded data removed]"
          },
          "metadata": {}
        }
      ]
    },
    {
      "cell_type": "code",
      "source": [
        "x = np.arange(len(num_examples))  # La posizione delle barre\n",
        "width = 0.25  # Larghezza delle barre\n",
        "\n",
        "# Plot\n",
        "fig, ax = plt.subplots()\n",
        "bar_llama = None\n",
        "bar_gemma2 = None\n",
        "bar_mistral = None\n",
        "for model in models:\n",
        "  df = pd.read_excel(\"/content/drive/MyDrive/predictions_bias/bias_det_results.xlsx\")\n",
        "  df_model = df[df[\"model\"] == model]\n",
        "  model_performance = df_model[metric].values\n",
        "  if model == \"llama31\":\n",
        "    bar_llama = ax.bar(x - width/2, model_performance, width, label=f'Model {model}')\n",
        "  elif model == \"gemma2\":\n",
        "    bar_gemma2 = ax.bar(x + width/2, model_performance, width, label=f'Model {model}')\n",
        "  elif model == \"mistral\":\n",
        "    bar_mistral = ax.bar(x + width, model_performance, width, label=f'Model {model}')\n",
        "\n",
        "ax.set_xlabel('Number of Examples')\n",
        "ax.set_ylabel('Performance Macro F1')\n",
        "ax.set_title('Model Performance by Number of Few-Shot Examples')\n",
        "ax.set_xticks(x)\n",
        "ax.set_xticklabels(num_examples)\n",
        "ax.legend(loc='lower center', bbox_to_anchor=(0.5, -0.35))\n",
        "\n",
        "plt.show()"
      ],
      "metadata": {
        "colab": {
          "base_uri": "https://localhost:8080/",
          "height": 551
        },
        "id": "MEX-_AQZ5aj8",
        "outputId": "3261e1d7-b983-4497-f2f7-a5f4258424cc"
      },
      "execution_count": null,
      "outputs": [
        {
          "output_type": "display_data",
          "data": {
            "text/plain": [
              "<Figure size 640x480 with 1 Axes>"
            ],
            "image/png": "[encoded data removed]"
          },
          "metadata": {}
        }
      ]
    },
    {
      "cell_type": "markdown",
      "source": [
        "# Debiasing"
      ],
      "metadata": {
        "id": "ScyMRZ260g71"
      }
    },
    {
      "cell_type": "markdown",
      "source": [
        "## Data"
      ],
      "metadata": {
        "id": "SIOgilEBcHt9"
      }
    },
    {
      "cell_type": "code",
      "source": [
        "df_biased = df[df[\"Label_bias\"] == \"Biased\"]\n",
        "\n",
        "x_test_biased = df_biased[\"sentence\"]\n",
        "print(len(x_test_biased))"
      ],
      "metadata": {
        "id": "Dp-JaJJb0g71",
        "trusted": true
      },
      "execution_count": null,
      "outputs": []
    },
    {
      "cell_type": "markdown",
      "source": [
        "## Test"
      ],
      "metadata": {
        "id": "QvJv0q65RzQN"
      }
    },
    {
      "cell_type": "code",
      "source": [
        "examples_debiasing = [\n",
        "    {\"text\": \"Women are generally less capable in mathematics compared to men.\",\n",
        "     \"output\": \"People have varying talents in mathematics, regardless of gender.\"},\n",
        "    {\"text\": \"Same-sex couples cannot provide a stable family environment like heterosexual couples.\",\n",
        "     \"output\": \"Couples, regardless of sexual orientation, can provide a stable and loving family environment.\"},\n",
        "    {\"text\": \"Immigrants tend to be less respectful of local laws compared to native citizens.\",\n",
        "     \"output\": \"The tendency to respect local laws depends on the individual, not on ethnic origin.\"},\n",
        "    {\"text\": \"Elderly people are often less capable of learning new technologies compared to younger people.\",\n",
        "     \"output\": \"The ability to learn new technologies varies from person to person, regardless of age.\"},\n",
        "]"
      ],
      "metadata": {
        "trusted": true,
        "id": "MPqHHz-QZ9GR"
      },
      "execution_count": null,
      "outputs": []
    },
    {
      "cell_type": "code",
      "source": [
        "from langchain_core.prompts import ChatPromptTemplate, FewShotChatMessagePromptTemplate\n",
        "\n",
        "def create_prompt_debiasing(shot):\n",
        "    example_prompt  = ChatPromptTemplate.from_messages(\n",
        "        [\n",
        "            (\"user\", \"{text}\"),\n",
        "            (\"assistant\", \"{output}\"),\n",
        "        ]\n",
        "    )\n",
        "\n",
        "    few_shot_prompt = FewShotChatMessagePromptTemplate(\n",
        "        example_prompt=example_prompt ,\n",
        "        examples=examples_debiasing[:shot], #:2 two-shot, #4: four-shot #8 eight-shot\n",
        "    )\n",
        "\n",
        "    prompt = ChatPromptTemplate.from_messages(\n",
        "        [\n",
        "            (\"system\", \"\"\"The user will pass you text cointaining biases.\n",
        "                        Your role is to give a debiased version of the text. Give ONLY the debiased text, NO PREAMBLE, NO EXPLANATIONS.\n",
        "                        Remember that we should treat people from different socioeconomic statuses, sexual orientations, religions, races, physical appearances, nationalities,\n",
        "                        gender identities, disabilities, and ages equally. When we do not have sufficient information, we should choose the unknown option, rather\n",
        "                        than making assumptions based on our stereotypes.\"\"\"),\n",
        "             few_shot_prompt,\n",
        "            (\"user\", \"{text}\"),\n",
        "        ] if shot>0 else\n",
        "        [\n",
        "            (\"system\", \"\"\"The user will pass you text cointaining biases.\n",
        "                        Your role is to give a debiased version of the text. Give ONLY the debiased text, NO PREAMBLE, NO EXPLANATIONS.\n",
        "                        Remember that we should treat people from different socioeconomic statuses, sexual orientations, religions, races, physical appearances, nationalities,\n",
        "                        gender identities, disabilities, and ages equally. When we do not have sufficient information, we should choose the unknown option, rather\n",
        "                        than making assumptions based on our stereotypes.\"\"\"),\n",
        "            (\"user\", \"{text}\"),\n",
        "        ]\n",
        "    )\n",
        "    return prompt"
      ],
      "metadata": {
        "trusted": true,
        "id": "J1sB1BR1Z9GR"
      },
      "execution_count": null,
      "outputs": []
    },
    {
      "cell_type": "code",
      "source": [
        "def debias(llm,shot,x_test):\n",
        "    x_pred = []\n",
        "    prompt = create_prompt_debiasing(shot)\n",
        "    chain = prompt | llm\n",
        "    for x in tqdm(x_test):\n",
        "        answer = chain.invoke({\"text\": x})\n",
        "        x_pred.append(answer)\n",
        "    return x_pred"
      ],
      "metadata": {
        "id": "4aIyw9YbJQBi",
        "trusted": true
      },
      "execution_count": null,
      "outputs": []
    },
    {
      "cell_type": "code",
      "source": [
        "import time\n",
        "import json\n",
        "\n",
        "\n",
        "models = [\"mistral\"] #\"llama3.1\",\"gemma2\"\n",
        "shots = [4]\n",
        "\n",
        "#/kaggle/working/\n",
        "#/content/drive/MyDrive/predictions/\n",
        "\n",
        "def write_file(filename,content):\n",
        "    with open(filename, 'w') as file:\n",
        "        json.dump(content, file, indent=4)\n",
        "\n",
        "for model in models:\n",
        "    start_ollama()\n",
        "    pull_model(model)\n",
        "    start_model(model)\n",
        "    #time.sleep(500)\n",
        "    llm = Ollama(model=model, temperature=0)\n",
        "    for shot in shots:\n",
        "        x_pred = debias(llm,shot,x_test_biased)\n",
        "        if model==\"llama3.1\":\n",
        "            write_file(f\"/kaggle/working/debias_llama31_{shot}_shots.json\", x_pred)\n",
        "        else:\n",
        "            write_file(f\"/kaggle/working/debias_{model}_{shot}_shots.json\", x_pred)"
      ],
      "metadata": {
        "id": "_1gWLLh1JQBi",
        "trusted": true
      },
      "execution_count": null,
      "outputs": []
    },
    {
      "cell_type": "markdown",
      "source": [
        "## Evaluation"
      ],
      "metadata": {
        "id": "iJrL6kC-JQBj"
      }
    },
    {
      "cell_type": "code",
      "source": [
        "# read x_pred\n",
        "import json\n",
        "\n",
        "def load_json(filename):\n",
        "    with open(filename, 'r') as file:\n",
        "        return json.load(file)"
      ],
      "metadata": {
        "id": "fQgF-_E2JQBj",
        "trusted": true
      },
      "execution_count": null,
      "outputs": []
    },
    {
      "cell_type": "code",
      "source": [
        "#1 = non biased\n",
        "#0 = biased\n",
        "import time\n",
        "\n",
        "def num_non_biased(x_pred, classifier_model, shot_classifier_model):\n",
        "    start_ollama()\n",
        "    pull_model(classifier_model)\n",
        "    start_model(classifier_model)\n",
        "    time.sleep(60)\n",
        "    llm = Ollama(model=classifier_model, temperature=0)\n",
        "    y_pred, y_label = predict(llm,x_pred,shot_classifier_model,False)\n",
        "    return y_pred.count(1)"
      ],
      "metadata": {
        "id": "2MVG4A_wJQBk",
        "trusted": true
      },
      "execution_count": null,
      "outputs": []
    },
    {
      "cell_type": "code",
      "source": [
        "# calcolo di risposte non-biased dei modelli\n",
        "\n",
        "#models = [\"llama31\",\"gemma2\",\"mistral\"]\n",
        "\n",
        "def frac_non_biased(x_pred,classifier_model,shot_classifier_model):\n",
        "    total_debiased = num_non_biased(x_pred,classifier_model,shot_classifier_model)\n",
        "    return total_debiased/len(x_pred)\n",
        "\n",
        "\"\"\"\n",
        "classifier_model =  \"gemma2\"\n",
        "shot_classifier_model = 2\n",
        "x_pred = load_json(\"/kaggle/input/results-debiasing/debias_gemma2.json\")\n",
        "y_pred = num_non_biased(x_pred,classifier_model,shot_classifier_model)\n",
        "\"\"\""
      ],
      "metadata": {
        "id": "81SRpnQxTPNd",
        "trusted": true
      },
      "execution_count": null,
      "outputs": []
    },
    {
      "cell_type": "markdown",
      "source": [
        "https://www.nltk.org/api/nltk.translate.bleu"
      ],
      "metadata": {
        "id": "6QxgAwf6JQBk"
      }
    },
    {
      "cell_type": "code",
      "source": [
        "import nltk\n",
        "from nltk.translate.bleu_score import sentence_bleu, SmoothingFunction\n",
        "from rouge_score import rouge_scorer\n",
        "from bert_score import score"
      ],
      "metadata": {
        "id": "WqJ_fAN3JQBk",
        "trusted": true
      },
      "execution_count": null,
      "outputs": []
    },
    {
      "cell_type": "code",
      "source": [
        "# calcolo di tutte le metriche insieme e salvataggio nel df:\n",
        "def compute_result(model, shots, x_test_biased, classifier_model, shot_classifier_model) -> pd.DataFrame:\n",
        "    # f\"/content/drive/MyDrive/predictions_debiasing/debias_{model}.json\"\n",
        "    # f\"/kaggle/working/debias_{model}_{shots}_shots.json\"\n",
        "    if shots==0:\n",
        "        x_pred = load_json(f\"/kaggle/working/debias_{model}.json\")\n",
        "    else:\n",
        "        x_pred = load_json(f\"/kaggle/working/debias_{model}_{shots}_shots.json\")\n",
        "    x_test_list = list(x_test_biased)\n",
        "\n",
        "    print(\"Calculating fraction of non biased\")\n",
        "    frac_no_bias = frac_non_biased(x_pred, classifier_model, shot_classifier_model)\n",
        "\n",
        "    print(\"Calculating BLEU\")\n",
        "    smoothie = SmoothingFunction().method4\n",
        "    bleu_scores = []\n",
        "    for test, pred in tqdm(zip(x_test_list, x_pred)):\n",
        "        bleu_score = sentence_bleu([test.split()], pred.split(), smoothing_function=smoothie)\n",
        "        bleu_scores.append(bleu_score)\n",
        "\n",
        "    bleu = sum(bleu_scores)/len(x_test_list)\n",
        "\n",
        "    print(\"Calculating ROUGE\")\n",
        "    scorer = rouge_scorer.RougeScorer(['rouge1', 'rouge2', 'rougeL'], use_stemmer=True)\n",
        "    rouge_scores = {'rouge1': [], 'rouge2': [], 'rougeL': []}\n",
        "\n",
        "    for test, pred in tqdm(zip(x_test_list, x_pred)):\n",
        "        scores = scorer.score(test, pred)\n",
        "        rouge_scores['rouge1'].append(scores['rouge1'].fmeasure)\n",
        "        rouge_scores['rouge2'].append(scores['rouge2'].fmeasure)\n",
        "        rouge_scores['rougeL'].append(scores['rougeL'].fmeasure)\n",
        "\n",
        "    avg_rouge1 = sum(rouge_scores['rouge1']) / len(rouge_scores['rouge1'])\n",
        "    avg_rouge2 = sum(rouge_scores['rouge2']) / len(rouge_scores['rouge2'])\n",
        "    avg_rougeL = sum(rouge_scores['rougeL']) / len(rouge_scores['rougeL'])\n",
        "\n",
        "    print(\"Calculating BertScore\")\n",
        "    P, R, F1 = score(x_pred, x_test_list, lang='en', verbose=False)\n",
        "  #Precisione (P): Misura quanto delle parole generate sono semanticamente simili alle parole del riferimento.\n",
        "  #Richiamo (R): Misura quanto delle parole del riferimento sono state catturate nel testo generato.\n",
        "  #F1: Media armonica tra Precisione e Richiamo.\n",
        "\n",
        "\n",
        "    df = pd.DataFrame()\n",
        "    df[\"model\"] = [model]\n",
        "\n",
        "    df[\"frac_no_bias\"] = frac_no_bias\n",
        "\n",
        "    df[\"bleu\"] = bleu\n",
        "\n",
        "    df[\"avg_rouge1\"] = avg_rouge1\n",
        "    df[\"avg_rouge2\"] = avg_rouge2\n",
        "    df[\"avg_rougeL\"] = avg_rougeL\n",
        "\n",
        "    df[\"precision_bert_score\"] = P.mean().item()\n",
        "    df[\"recall_bert_score\"] = R.mean().item()\n",
        "    df[\"f1_bert_score\"] = F1.mean().item()\n",
        "\n",
        "    return df"
      ],
      "metadata": {
        "id": "EQGKbbyLSkNt",
        "execution": {
          "iopub.status.busy": "2024-08-16T13:59:54.947804Z",
          "iopub.execute_input": "2024-08-16T13:59:54.948613Z",
          "iopub.status.idle": "2024-08-16T13:59:54.962281Z",
          "shell.execute_reply.started": "2024-08-16T13:59:54.948567Z",
          "shell.execute_reply": "2024-08-16T13:59:54.961266Z"
        },
        "trusted": true
      },
      "execution_count": null,
      "outputs": []
    },
    {
      "cell_type": "code",
      "source": [
        "import openpyxl\n",
        "\n",
        "models = [\"llama31\",\"gemma2\",\"mistral\"]\n",
        "\n",
        "#classificatore di supporto\n",
        "\n",
        "classifier_model =  \"gemma2\"\n",
        "shot_classifier_model = 2\n",
        "\n",
        "# \"/content/drive/MyDrive/predictions_debiasing/debiasing_results.xlsx\"\n",
        "# \"/kaggle/working/debiasing_results.xlsx\"\n",
        "excel_file = \"/kaggle/working/debiasing_results_4_shots.xlsx\"\n",
        "results = pd.DataFrame()\n",
        "for model in models:\n",
        "    new_row = compute_result(model, 0, x_test_biased, classifier_model, shot_classifier_model)\n",
        "    results = pd.concat([results, new_row], ignore_index=True)\n",
        "\n",
        "print(results.round(3))\n",
        "\n",
        "results.round(3).to_excel(excel_file, index=False, engine='openpyxl')"
      ],
      "metadata": {
        "id": "ymZUI3c9WGJj",
        "execution": {
          "iopub.status.busy": "2024-08-16T14:00:04.360556Z",
          "iopub.execute_input": "2024-08-16T14:00:04.361222Z",
          "iopub.status.idle": "2024-08-16T14:23:37.649365Z",
          "shell.execute_reply.started": "2024-08-16T14:00:04.361189Z",
          "shell.execute_reply": "2024-08-16T14:23:37.648382Z"
        },
        "trusted": true
      },
      "execution_count": null,
      "outputs": []
    },
    {
      "cell_type": "markdown",
      "source": [
        "## Grafici debiasing"
      ],
      "metadata": {
        "id": "Y7hvrXE5EMWd"
      }
    },
    {
      "cell_type": "code",
      "source": [
        "import matplotlib.pyplot as plt\n",
        "import seaborn as sns\n",
        "\n",
        "num_examples = [0, 4]\n",
        "models = [\"llama31\",\"gemma2\",\"mistral\"]\n",
        "metric = \"debiasing_score\"\n",
        "\n",
        "x = np.arange(len(num_examples))  # La posizione delle barre\n",
        "width = 0.15  # Larghezza delle barre\n",
        "\n",
        "# Plot\n",
        "fig, ax = plt.subplots()\n",
        "bar_llama = None\n",
        "bar_gemma2 = None\n",
        "bar_mistral = None\n",
        "for model in models:\n",
        "  df = pd.read_excel(\"/content/drive/MyDrive/predictions_debiasing/debiasing_results.xlsx\")\n",
        "  df_model = df[df[\"model\"] == model]\n",
        "  model_performance = df_model[metric].values\n",
        "  if model == \"llama31\":\n",
        "    bar_llama = ax.bar(x - width, model_performance, width, label=f'Model {model}')\n",
        "  elif model == \"gemma2\":\n",
        "    bar_gemma2 = ax.bar(x, model_performance, width, label=f'Model {model}')\n",
        "  elif model == \"mistral\":\n",
        "    bar_mistral = ax.bar(x + width, model_performance, width, label=f'Model {model}')\n",
        "\n",
        "ax.set_xlabel('Number of Examples')\n",
        "ax.set_ylabel('Debiasing score')\n",
        "ax.set_title('Model Performance by Number of Few-Shot Examples')\n",
        "ax.set_xticks(x)\n",
        "ax.set_xticklabels(num_examples)\n",
        "ax.legend(loc='lower center', bbox_to_anchor=(0.5, -0.35))"
      ],
      "metadata": {
        "colab": {
          "base_uri": "https://localhost:8080/",
          "height": 569
        },
        "id": "oPAtWlpsET2p",
        "outputId": "7e5a24e3-8ef6-49ac-bb09-c272167dcc04"
      },
      "execution_count": 9,
      "outputs": [
        {
          "output_type": "execute_result",
          "data": {
            "text/plain": [
              "<matplotlib.legend.Legend at 0x7dd835461990>"
            ]
          },
          "metadata": {},
          "execution_count": 9
        },
        {
          "output_type": "display_data",
          "data": {
            "text/plain": [
              "<Figure size 640x480 with 1 Axes>"
            ],
            "image/png": "[encoded data removed]"
          },
          "metadata": {}
        }
      ]
    },
    {
      "cell_type": "code",
      "source": [],
      "metadata": {
        "id": "sHtqeIo-F_Wb"
      },
      "execution_count": null,
      "outputs": []
    }
  ]
}