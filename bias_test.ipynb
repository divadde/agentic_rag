{
  "metadata": {
    "kernelspec": {
      "name": "python3",
      "display_name": "Python 3"
    },
    "language_info": {
      "name": "python",
      "version": "3.10.13",
      "mimetype": "text/x-python",
      "codemirror_mode": {
        "name": "ipython",
        "version": 3
      },
      "pygments_lexer": "ipython3",
      "nbconvert_exporter": "python",
      "file_extension": ".py"
    },
    "kaggle": {
      "accelerator": "nvidiaTeslaT4",
      "dataSources": [
        {
          "sourceId": 7453039,
          "sourceType": "datasetVersion",
          "datasetId": 1124292
        }
      ],
      "dockerImageVersionId": 30747,
      "isInternetEnabled": true,
      "language": "python",
      "sourceType": "notebook",
      "isGpuEnabled": true
    },
    "colab": {
      "provenance": [],
      "gpuType": "T4"
    },
    "accelerator": "GPU",
    "widgets": {
      "application/vnd.jupyter.widget-state+json": {
        "fc28258248044d00a84034f4b894f58e": {
          "model_module": "@jupyter-widgets/controls",
          "model_name": "HBoxModel",
          "model_module_version": "1.5.0",
          "state": {
            "_dom_classes": [],
            "_model_module": "@jupyter-widgets/controls",
            "_model_module_version": "1.5.0",
            "_model_name": "HBoxModel",
            "_view_count": null,
            "_view_module": "@jupyter-widgets/controls",
            "_view_module_version": "1.5.0",
            "_view_name": "HBoxView",
            "box_style": "",
            "children": [
              "IPY_MODEL_dcc9dfe2a4434021b684950b29160240",
              "IPY_MODEL_3bfff545f6aa438cb9b0d4d2a1e7d09e",
              "IPY_MODEL_436f60bc2f9944c2970d951fd436be51"
            ],
            "layout": "IPY_MODEL_a3be966cdd744252b2cc4c3651000819"
          }
        },
        "dcc9dfe2a4434021b684950b29160240": {
          "model_module": "@jupyter-widgets/controls",
          "model_name": "HTMLModel",
          "model_module_version": "1.5.0",
          "state": {
            "_dom_classes": [],
            "_model_module": "@jupyter-widgets/controls",
            "_model_module_version": "1.5.0",
            "_model_name": "HTMLModel",
            "_view_count": null,
            "_view_module": "@jupyter-widgets/controls",
            "_view_module_version": "1.5.0",
            "_view_name": "HTMLView",
            "description": "",
            "description_tooltip": null,
            "layout": "IPY_MODEL_70d65bcc6ea940e0bf04284eb09cbef2",
            "placeholder": "​",
            "style": "IPY_MODEL_d1d73723d24c4f59b9fb9760585fc5a0",
            "value": "tokenizer_config.json: 100%"
          }
        },
        "3bfff545f6aa438cb9b0d4d2a1e7d09e": {
          "model_module": "@jupyter-widgets/controls",
          "model_name": "FloatProgressModel",
          "model_module_version": "1.5.0",
          "state": {
            "_dom_classes": [],
            "_model_module": "@jupyter-widgets/controls",
            "_model_module_version": "1.5.0",
            "_model_name": "FloatProgressModel",
            "_view_count": null,
            "_view_module": "@jupyter-widgets/controls",
            "_view_module_version": "1.5.0",
            "_view_name": "ProgressView",
            "bar_style": "success",
            "description": "",
            "description_tooltip": null,
            "layout": "IPY_MODEL_44be6d1b5c244f17bf4d2d369f21368f",
            "max": 2,
            "min": 0,
            "orientation": "horizontal",
            "style": "IPY_MODEL_5d6597fda65546059b4bfab4b02b3037",
            "value": 2
          }
        },
        "436f60bc2f9944c2970d951fd436be51": {
          "model_module": "@jupyter-widgets/controls",
          "model_name": "HTMLModel",
          "model_module_version": "1.5.0",
          "state": {
            "_dom_classes": [],
            "_model_module": "@jupyter-widgets/controls",
            "_model_module_version": "1.5.0",
            "_model_name": "HTMLModel",
            "_view_count": null,
            "_view_module": "@jupyter-widgets/controls",
            "_view_module_version": "1.5.0",
            "_view_name": "HTMLView",
            "description": "",
            "description_tooltip": null,
            "layout": "IPY_MODEL_bc7e579a5b7641098e13e0a198958a38",
            "placeholder": "​",
            "style": "IPY_MODEL_320af0c4cd6949699c34fa56c6265007",
            "value": " 2.00/2.00 [00:00&lt;00:00, 35.6B/s]"
          }
        },
        "a3be966cdd744252b2cc4c3651000819": {
          "model_module": "@jupyter-widgets/base",
          "model_name": "LayoutModel",
          "model_module_version": "1.2.0",
          "state": {
            "_model_module": "@jupyter-widgets/base",
            "_model_module_version": "1.2.0",
            "_model_name": "LayoutModel",
            "_view_count": null,
            "_view_module": "@jupyter-widgets/base",
            "_view_module_version": "1.2.0",
            "_view_name": "LayoutView",
            "align_content": null,
            "align_items": null,
            "align_self": null,
            "border": null,
            "bottom": null,
            "display": null,
            "flex": null,
            "flex_flow": null,
            "grid_area": null,
            "grid_auto_columns": null,
            "grid_auto_flow": null,
            "grid_auto_rows": null,
            "grid_column": null,
            "grid_gap": null,
            "grid_row": null,
            "grid_template_areas": null,
            "grid_template_columns": null,
            "grid_template_rows": null,
            "height": null,
            "justify_content": null,
            "justify_items": null,
            "left": null,
            "margin": null,
            "max_height": null,
            "max_width": null,
            "min_height": null,
            "min_width": null,
            "object_fit": null,
            "object_position": null,
            "order": null,
            "overflow": null,
            "overflow_x": null,
            "overflow_y": null,
            "padding": null,
            "right": null,
            "top": null,
            "visibility": null,
            "width": null
          }
        },
        "70d65bcc6ea940e0bf04284eb09cbef2": {
          "model_module": "@jupyter-widgets/base",
          "model_name": "LayoutModel",
          "model_module_version": "1.2.0",
          "state": {
            "_model_module": "@jupyter-widgets/base",
            "_model_module_version": "1.2.0",
            "_model_name": "LayoutModel",
            "_view_count": null,
            "_view_module": "@jupyter-widgets/base",
            "_view_module_version": "1.2.0",
            "_view_name": "LayoutView",
            "align_content": null,
            "align_items": null,
            "align_self": null,
            "border": null,
            "bottom": null,
            "display": null,
            "flex": null,
            "flex_flow": null,
            "grid_area": null,
            "grid_auto_columns": null,
            "grid_auto_flow": null,
            "grid_auto_rows": null,
            "grid_column": null,
            "grid_gap": null,
            "grid_row": null,
            "grid_template_areas": null,
            "grid_template_columns": null,
            "grid_template_rows": null,
            "height": null,
            "justify_content": null,
            "justify_items": null,
            "left": null,
            "margin": null,
            "max_height": null,
            "max_width": null,
            "min_height": null,
            "min_width": null,
            "object_fit": null,
            "object_position": null,
            "order": null,
            "overflow": null,
            "overflow_x": null,
            "overflow_y": null,
            "padding": null,
            "right": null,
            "top": null,
            "visibility": null,
            "width": null
          }
        },
        "d1d73723d24c4f59b9fb9760585fc5a0": {
          "model_module": "@jupyter-widgets/controls",
          "model_name": "DescriptionStyleModel",
          "model_module_version": "1.5.0",
          "state": {
            "_model_module": "@jupyter-widgets/controls",
            "_model_module_version": "1.5.0",
            "_model_name": "DescriptionStyleModel",
            "_view_count": null,
            "_view_module": "@jupyter-widgets/base",
            "_view_module_version": "1.2.0",
            "_view_name": "StyleView",
            "description_width": ""
          }
        },
        "44be6d1b5c244f17bf4d2d369f21368f": {
          "model_module": "@jupyter-widgets/base",
          "model_name": "LayoutModel",
          "model_module_version": "1.2.0",
          "state": {
            "_model_module": "@jupyter-widgets/base",
            "_model_module_version": "1.2.0",
            "_model_name": "LayoutModel",
            "_view_count": null,
            "_view_module": "@jupyter-widgets/base",
            "_view_module_version": "1.2.0",
            "_view_name": "LayoutView",
            "align_content": null,
            "align_items": null,
            "align_self": null,
            "border": null,
            "bottom": null,
            "display": null,
            "flex": null,
            "flex_flow": null,
            "grid_area": null,
            "grid_auto_columns": null,
            "grid_auto_flow": null,
            "grid_auto_rows": null,
            "grid_column": null,
            "grid_gap": null,
            "grid_row": null,
            "grid_template_areas": null,
            "grid_template_columns": null,
            "grid_template_rows": null,
            "height": null,
            "justify_content": null,
            "justify_items": null,
            "left": null,
            "margin": null,
            "max_height": null,
            "max_width": null,
            "min_height": null,
            "min_width": null,
            "object_fit": null,
            "object_position": null,
            "order": null,
            "overflow": null,
            "overflow_x": null,
            "overflow_y": null,
            "padding": null,
            "right": null,
            "top": null,
            "visibility": null,
            "width": null
          }
        },
        "5d6597fda65546059b4bfab4b02b3037": {
          "model_module": "@jupyter-widgets/controls",
          "model_name": "ProgressStyleModel",
          "model_module_version": "1.5.0",
          "state": {
            "_model_module": "@jupyter-widgets/controls",
            "_model_module_version": "1.5.0",
            "_model_name": "ProgressStyleModel",
            "_view_count": null,
            "_view_module": "@jupyter-widgets/base",
            "_view_module_version": "1.2.0",
            "_view_name": "StyleView",
            "bar_color": null,
            "description_width": ""
          }
        },
        "bc7e579a5b7641098e13e0a198958a38": {
          "model_module": "@jupyter-widgets/base",
          "model_name": "LayoutModel",
          "model_module_version": "1.2.0",
          "state": {
            "_model_module": "@jupyter-widgets/base",
            "_model_module_version": "1.2.0",
            "_model_name": "LayoutModel",
            "_view_count": null,
            "_view_module": "@jupyter-widgets/base",
            "_view_module_version": "1.2.0",
            "_view_name": "LayoutView",
            "align_content": null,
            "align_items": null,
            "align_self": null,
            "border": null,
            "bottom": null,
            "display": null,
            "flex": null,
            "flex_flow": null,
            "grid_area": null,
            "grid_auto_columns": null,
            "grid_auto_flow": null,
            "grid_auto_rows": null,
            "grid_column": null,
            "grid_gap": null,
            "grid_row": null,
            "grid_template_areas": null,
            "grid_template_columns": null,
            "grid_template_rows": null,
            "height": null,
            "justify_content": null,
            "justify_items": null,
            "left": null,
            "margin": null,
            "max_height": null,
            "max_width": null,
            "min_height": null,
            "min_width": null,
            "object_fit": null,
            "object_position": null,
            "order": null,
            "overflow": null,
            "overflow_x": null,
            "overflow_y": null,
            "padding": null,
            "right": null,
            "top": null,
            "visibility": null,
            "width": null
          }
        },
        "320af0c4cd6949699c34fa56c6265007": {
          "model_module": "@jupyter-widgets/controls",
          "model_name": "DescriptionStyleModel",
          "model_module_version": "1.5.0",
          "state": {
            "_model_module": "@jupyter-widgets/controls",
            "_model_module_version": "1.5.0",
            "_model_name": "DescriptionStyleModel",
            "_view_count": null,
            "_view_module": "@jupyter-widgets/base",
            "_view_module_version": "1.2.0",
            "_view_name": "StyleView",
            "description_width": ""
          }
        },
        "0332cf94d33d43d5967adddabbb2b99b": {
          "model_module": "@jupyter-widgets/controls",
          "model_name": "HBoxModel",
          "model_module_version": "1.5.0",
          "state": {
            "_dom_classes": [],
            "_model_module": "@jupyter-widgets/controls",
            "_model_module_version": "1.5.0",
            "_model_name": "HBoxModel",
            "_view_count": null,
            "_view_module": "@jupyter-widgets/controls",
            "_view_module_version": "1.5.0",
            "_view_name": "HBoxView",
            "box_style": "",
            "children": [
              "IPY_MODEL_4cc40f5c5c534a21bfa881b049d1fa61",
              "IPY_MODEL_09a7ce952f354a56b8e15035fce933cd",
              "IPY_MODEL_b09317522e194794a2d49c4afe629f19"
            ],
            "layout": "IPY_MODEL_a19d11580ef64cf8b41f6bb6fed2d696"
          }
        },
        "4cc40f5c5c534a21bfa881b049d1fa61": {
          "model_module": "@jupyter-widgets/controls",
          "model_name": "HTMLModel",
          "model_module_version": "1.5.0",
          "state": {
            "_dom_classes": [],
            "_model_module": "@jupyter-widgets/controls",
            "_model_module_version": "1.5.0",
            "_model_name": "HTMLModel",
            "_view_count": null,
            "_view_module": "@jupyter-widgets/controls",
            "_view_module_version": "1.5.0",
            "_view_name": "HTMLView",
            "description": "",
            "description_tooltip": null,
            "layout": "IPY_MODEL_af21a2bb781f47ae82f67088111f5ed0",
            "placeholder": "​",
            "style": "IPY_MODEL_079fc22a04fe4864aaa5e06084f10d44",
            "value": "config.json: 100%"
          }
        },
        "09a7ce952f354a56b8e15035fce933cd": {
          "model_module": "@jupyter-widgets/controls",
          "model_name": "FloatProgressModel",
          "model_module_version": "1.5.0",
          "state": {
            "_dom_classes": [],
            "_model_module": "@jupyter-widgets/controls",
            "_model_module_version": "1.5.0",
            "_model_name": "FloatProgressModel",
            "_view_count": null,
            "_view_module": "@jupyter-widgets/controls",
            "_view_module_version": "1.5.0",
            "_view_name": "ProgressView",
            "bar_style": "success",
            "description": "",
            "description_tooltip": null,
            "layout": "IPY_MODEL_af96ca8255464090bcf421d8d97d7348",
            "max": 657,
            "min": 0,
            "orientation": "horizontal",
            "style": "IPY_MODEL_9bb9ade1e32a4e9496d1a784a489d52d",
            "value": 657
          }
        },
        "b09317522e194794a2d49c4afe629f19": {
          "model_module": "@jupyter-widgets/controls",
          "model_name": "HTMLModel",
          "model_module_version": "1.5.0",
          "state": {
            "_dom_classes": [],
            "_model_module": "@jupyter-widgets/controls",
            "_model_module_version": "1.5.0",
            "_model_name": "HTMLModel",
            "_view_count": null,
            "_view_module": "@jupyter-widgets/controls",
            "_view_module_version": "1.5.0",
            "_view_name": "HTMLView",
            "description": "",
            "description_tooltip": null,
            "layout": "IPY_MODEL_7d97664326f54aa7b6030635ee0bf726",
            "placeholder": "​",
            "style": "IPY_MODEL_305a9f851854402985fc08649998a9f1",
            "value": " 657/657 [00:00&lt;00:00, 14.4kB/s]"
          }
        },
        "a19d11580ef64cf8b41f6bb6fed2d696": {
          "model_module": "@jupyter-widgets/base",
          "model_name": "LayoutModel",
          "model_module_version": "1.2.0",
          "state": {
            "_model_module": "@jupyter-widgets/base",
            "_model_module_version": "1.2.0",
            "_model_name": "LayoutModel",
            "_view_count": null,
            "_view_module": "@jupyter-widgets/base",
            "_view_module_version": "1.2.0",
            "_view_name": "LayoutView",
            "align_content": null,
            "align_items": null,
            "align_self": null,
            "border": null,
            "bottom": null,
            "display": null,
            "flex": null,
            "flex_flow": null,
            "grid_area": null,
            "grid_auto_columns": null,
            "grid_auto_flow": null,
            "grid_auto_rows": null,
            "grid_column": null,
            "grid_gap": null,
            "grid_row": null,
            "grid_template_areas": null,
            "grid_template_columns": null,
            "grid_template_rows": null,
            "height": null,
            "justify_content": null,
            "justify_items": null,
            "left": null,
            "margin": null,
            "max_height": null,
            "max_width": null,
            "min_height": null,
            "min_width": null,
            "object_fit": null,
            "object_position": null,
            "order": null,
            "overflow": null,
            "overflow_x": null,
            "overflow_y": null,
            "padding": null,
            "right": null,
            "top": null,
            "visibility": null,
            "width": null
          }
        },
        "af21a2bb781f47ae82f67088111f5ed0": {
          "model_module": "@jupyter-widgets/base",
          "model_name": "LayoutModel",
          "model_module_version": "1.2.0",
          "state": {
            "_model_module": "@jupyter-widgets/base",
            "_model_module_version": "1.2.0",
            "_model_name": "LayoutModel",
            "_view_count": null,
            "_view_module": "@jupyter-widgets/base",
            "_view_module_version": "1.2.0",
            "_view_name": "LayoutView",
            "align_content": null,
            "align_items": null,
            "align_self": null,
            "border": null,
            "bottom": null,
            "display": null,
            "flex": null,
            "flex_flow": null,
            "grid_area": null,
            "grid_auto_columns": null,
            "grid_auto_flow": null,
            "grid_auto_rows": null,
            "grid_column": null,
            "grid_gap": null,
            "grid_row": null,
            "grid_template_areas": null,
            "grid_template_columns": null,
            "grid_template_rows": null,
            "height": null,
            "justify_content": null,
            "justify_items": null,
            "left": null,
            "margin": null,
            "max_height": null,
            "max_width": null,
            "min_height": null,
            "min_width": null,
            "object_fit": null,
            "object_position": null,
            "order": null,
            "overflow": null,
            "overflow_x": null,
            "overflow_y": null,
            "padding": null,
            "right": null,
            "top": null,
            "visibility": null,
            "width": null
          }
        },
        "079fc22a04fe4864aaa5e06084f10d44": {
          "model_module": "@jupyter-widgets/controls",
          "model_name": "DescriptionStyleModel",
          "model_module_version": "1.5.0",
          "state": {
            "_model_module": "@jupyter-widgets/controls",
            "_model_module_version": "1.5.0",
            "_model_name": "DescriptionStyleModel",
            "_view_count": null,
            "_view_module": "@jupyter-widgets/base",
            "_view_module_version": "1.2.0",
            "_view_name": "StyleView",
            "description_width": ""
          }
        },
        "af96ca8255464090bcf421d8d97d7348": {
          "model_module": "@jupyter-widgets/base",
          "model_name": "LayoutModel",
          "model_module_version": "1.2.0",
          "state": {
            "_model_module": "@jupyter-widgets/base",
            "_model_module_version": "1.2.0",
            "_model_name": "LayoutModel",
            "_view_count": null,
            "_view_module": "@jupyter-widgets/base",
            "_view_module_version": "1.2.0",
            "_view_name": "LayoutView",
            "align_content": null,
            "align_items": null,
            "align_self": null,
            "border": null,
            "bottom": null,
            "display": null,
            "flex": null,
            "flex_flow": null,
            "grid_area": null,
            "grid_auto_columns": null,
            "grid_auto_flow": null,
            "grid_auto_rows": null,
            "grid_column": null,
            "grid_gap": null,
            "grid_row": null,
            "grid_template_areas": null,
            "grid_template_columns": null,
            "grid_template_rows": null,
            "height": null,
            "justify_content": null,
            "justify_items": null,
            "left": null,
            "margin": null,
            "max_height": null,
            "max_width": null,
            "min_height": null,
            "min_width": null,
            "object_fit": null,
            "object_position": null,
            "order": null,
            "overflow": null,
            "overflow_x": null,
            "overflow_y": null,
            "padding": null,
            "right": null,
            "top": null,
            "visibility": null,
            "width": null
          }
        },
        "9bb9ade1e32a4e9496d1a784a489d52d": {
          "model_module": "@jupyter-widgets/controls",
          "model_name": "ProgressStyleModel",
          "model_module_version": "1.5.0",
          "state": {
            "_model_module": "@jupyter-widgets/controls",
            "_model_module_version": "1.5.0",
            "_model_name": "ProgressStyleModel",
            "_view_count": null,
            "_view_module": "@jupyter-widgets/base",
            "_view_module_version": "1.2.0",
            "_view_name": "StyleView",
            "bar_color": null,
            "description_width": ""
          }
        },
        "7d97664326f54aa7b6030635ee0bf726": {
          "model_module": "@jupyter-widgets/base",
          "model_name": "LayoutModel",
          "model_module_version": "1.2.0",
          "state": {
            "_model_module": "@jupyter-widgets/base",
            "_model_module_version": "1.2.0",
            "_model_name": "LayoutModel",
            "_view_count": null,
            "_view_module": "@jupyter-widgets/base",
            "_view_module_version": "1.2.0",
            "_view_name": "LayoutView",
            "align_content": null,
            "align_items": null,
            "align_self": null,
            "border": null,
            "bottom": null,
            "display": null,
            "flex": null,
            "flex_flow": null,
            "grid_area": null,
            "grid_auto_columns": null,
            "grid_auto_flow": null,
            "grid_auto_rows": null,
            "grid_column": null,
            "grid_gap": null,
            "grid_row": null,
            "grid_template_areas": null,
            "grid_template_columns": null,
            "grid_template_rows": null,
            "height": null,
            "justify_content": null,
            "justify_items": null,
            "left": null,
            "margin": null,
            "max_height": null,
            "max_width": null,
            "min_height": null,
            "min_width": null,
            "object_fit": null,
            "object_position": null,
            "order": null,
            "overflow": null,
            "overflow_x": null,
            "overflow_y": null,
            "padding": null,
            "right": null,
            "top": null,
            "visibility": null,
            "width": null
          }
        },
        "305a9f851854402985fc08649998a9f1": {
          "model_module": "@jupyter-widgets/controls",
          "model_name": "DescriptionStyleModel",
          "model_module_version": "1.5.0",
          "state": {
            "_model_module": "@jupyter-widgets/controls",
            "_model_module_version": "1.5.0",
            "_model_name": "DescriptionStyleModel",
            "_view_count": null,
            "_view_module": "@jupyter-widgets/base",
            "_view_module_version": "1.2.0",
            "_view_name": "StyleView",
            "description_width": ""
          }
        },
        "bfdcef33c0674eea968ee5859368e7ac": {
          "model_module": "@jupyter-widgets/controls",
          "model_name": "HBoxModel",
          "model_module_version": "1.5.0",
          "state": {
            "_dom_classes": [],
            "_model_module": "@jupyter-widgets/controls",
            "_model_module_version": "1.5.0",
            "_model_name": "HBoxModel",
            "_view_count": null,
            "_view_module": "@jupyter-widgets/controls",
            "_view_module_version": "1.5.0",
            "_view_name": "HBoxView",
            "box_style": "",
            "children": [
              "IPY_MODEL_a844e018a94a45cc93ac149a000f190b",
              "IPY_MODEL_cf32debfd2ef463aa48ad1a81ffb29fb",
              "IPY_MODEL_d536780ada324ecc8d2ab89f6ee2ca3b"
            ],
            "layout": "IPY_MODEL_4fa543ad0e8b40c5accf42264567cce1"
          }
        },
        "a844e018a94a45cc93ac149a000f190b": {
          "model_module": "@jupyter-widgets/controls",
          "model_name": "HTMLModel",
          "model_module_version": "1.5.0",
          "state": {
            "_dom_classes": [],
            "_model_module": "@jupyter-widgets/controls",
            "_model_module_version": "1.5.0",
            "_model_name": "HTMLModel",
            "_view_count": null,
            "_view_module": "@jupyter-widgets/controls",
            "_view_module_version": "1.5.0",
            "_view_name": "HTMLView",
            "description": "",
            "description_tooltip": null,
            "layout": "IPY_MODEL_f4ae3e5272c64af782bd7b76a6376aaf",
            "placeholder": "​",
            "style": "IPY_MODEL_65cf91ea0a434154956e4eced6cd231b",
            "value": "vocab.txt: 100%"
          }
        },
        "cf32debfd2ef463aa48ad1a81ffb29fb": {
          "model_module": "@jupyter-widgets/controls",
          "model_name": "FloatProgressModel",
          "model_module_version": "1.5.0",
          "state": {
            "_dom_classes": [],
            "_model_module": "@jupyter-widgets/controls",
            "_model_module_version": "1.5.0",
            "_model_name": "FloatProgressModel",
            "_view_count": null,
            "_view_module": "@jupyter-widgets/controls",
            "_view_module_version": "1.5.0",
            "_view_name": "ProgressView",
            "bar_style": "success",
            "description": "",
            "description_tooltip": null,
            "layout": "IPY_MODEL_687ecb89eedd435589c50cab0607788e",
            "max": 231508,
            "min": 0,
            "orientation": "horizontal",
            "style": "IPY_MODEL_0bcc3e4c8c2a45da91c75cbf44ab75f4",
            "value": 231508
          }
        },
        "d536780ada324ecc8d2ab89f6ee2ca3b": {
          "model_module": "@jupyter-widgets/controls",
          "model_name": "HTMLModel",
          "model_module_version": "1.5.0",
          "state": {
            "_dom_classes": [],
            "_model_module": "@jupyter-widgets/controls",
            "_model_module_version": "1.5.0",
            "_model_name": "HTMLModel",
            "_view_count": null,
            "_view_module": "@jupyter-widgets/controls",
            "_view_module_version": "1.5.0",
            "_view_name": "HTMLView",
            "description": "",
            "description_tooltip": null,
            "layout": "IPY_MODEL_09e1cc952f0b4067981dceceb64f0895",
            "placeholder": "​",
            "style": "IPY_MODEL_35d67988ea72473f88234ebb80abbc37",
            "value": " 232k/232k [00:00&lt;00:00, 1.83MB/s]"
          }
        },
        "4fa543ad0e8b40c5accf42264567cce1": {
          "model_module": "@jupyter-widgets/base",
          "model_name": "LayoutModel",
          "model_module_version": "1.2.0",
          "state": {
            "_model_module": "@jupyter-widgets/base",
            "_model_module_version": "1.2.0",
            "_model_name": "LayoutModel",
            "_view_count": null,
            "_view_module": "@jupyter-widgets/base",
            "_view_module_version": "1.2.0",
            "_view_name": "LayoutView",
            "align_content": null,
            "align_items": null,
            "align_self": null,
            "border": null,
            "bottom": null,
            "display": null,
            "flex": null,
            "flex_flow": null,
            "grid_area": null,
            "grid_auto_columns": null,
            "grid_auto_flow": null,
            "grid_auto_rows": null,
            "grid_column": null,
            "grid_gap": null,
            "grid_row": null,
            "grid_template_areas": null,
            "grid_template_columns": null,
            "grid_template_rows": null,
            "height": null,
            "justify_content": null,
            "justify_items": null,
            "left": null,
            "margin": null,
            "max_height": null,
            "max_width": null,
            "min_height": null,
            "min_width": null,
            "object_fit": null,
            "object_position": null,
            "order": null,
            "overflow": null,
            "overflow_x": null,
            "overflow_y": null,
            "padding": null,
            "right": null,
            "top": null,
            "visibility": null,
            "width": null
          }
        },
        "f4ae3e5272c64af782bd7b76a6376aaf": {
          "model_module": "@jupyter-widgets/base",
          "model_name": "LayoutModel",
          "model_module_version": "1.2.0",
          "state": {
            "_model_module": "@jupyter-widgets/base",
            "_model_module_version": "1.2.0",
            "_model_name": "LayoutModel",
            "_view_count": null,
            "_view_module": "@jupyter-widgets/base",
            "_view_module_version": "1.2.0",
            "_view_name": "LayoutView",
            "align_content": null,
            "align_items": null,
            "align_self": null,
            "border": null,
            "bottom": null,
            "display": null,
            "flex": null,
            "flex_flow": null,
            "grid_area": null,
            "grid_auto_columns": null,
            "grid_auto_flow": null,
            "grid_auto_rows": null,
            "grid_column": null,
            "grid_gap": null,
            "grid_row": null,
            "grid_template_areas": null,
            "grid_template_columns": null,
            "grid_template_rows": null,
            "height": null,
            "justify_content": null,
            "justify_items": null,
            "left": null,
            "margin": null,
            "max_height": null,
            "max_width": null,
            "min_height": null,
            "min_width": null,
            "object_fit": null,
            "object_position": null,
            "order": null,
            "overflow": null,
            "overflow_x": null,
            "overflow_y": null,
            "padding": null,
            "right": null,
            "top": null,
            "visibility": null,
            "width": null
          }
        },
        "65cf91ea0a434154956e4eced6cd231b": {
          "model_module": "@jupyter-widgets/controls",
          "model_name": "DescriptionStyleModel",
          "model_module_version": "1.5.0",
          "state": {
            "_model_module": "@jupyter-widgets/controls",
            "_model_module_version": "1.5.0",
            "_model_name": "DescriptionStyleModel",
            "_view_count": null,
            "_view_module": "@jupyter-widgets/base",
            "_view_module_version": "1.2.0",
            "_view_name": "StyleView",
            "description_width": ""
          }
        },
        "687ecb89eedd435589c50cab0607788e": {
          "model_module": "@jupyter-widgets/base",
          "model_name": "LayoutModel",
          "model_module_version": "1.2.0",
          "state": {
            "_model_module": "@jupyter-widgets/base",
            "_model_module_version": "1.2.0",
            "_model_name": "LayoutModel",
            "_view_count": null,
            "_view_module": "@jupyter-widgets/base",
            "_view_module_version": "1.2.0",
            "_view_name": "LayoutView",
            "align_content": null,
            "align_items": null,
            "align_self": null,
            "border": null,
            "bottom": null,
            "display": null,
            "flex": null,
            "flex_flow": null,
            "grid_area": null,
            "grid_auto_columns": null,
            "grid_auto_flow": null,
            "grid_auto_rows": null,
            "grid_column": null,
            "grid_gap": null,
            "grid_row": null,
            "grid_template_areas": null,
            "grid_template_columns": null,
            "grid_template_rows": null,
            "height": null,
            "justify_content": null,
            "justify_items": null,
            "left": null,
            "margin": null,
            "max_height": null,
            "max_width": null,
            "min_height": null,
            "min_width": null,
            "object_fit": null,
            "object_position": null,
            "order": null,
            "overflow": null,
            "overflow_x": null,
            "overflow_y": null,
            "padding": null,
            "right": null,
            "top": null,
            "visibility": null,
            "width": null
          }
        },
        "0bcc3e4c8c2a45da91c75cbf44ab75f4": {
          "model_module": "@jupyter-widgets/controls",
          "model_name": "ProgressStyleModel",
          "model_module_version": "1.5.0",
          "state": {
            "_model_module": "@jupyter-widgets/controls",
            "_model_module_version": "1.5.0",
            "_model_name": "ProgressStyleModel",
            "_view_count": null,
            "_view_module": "@jupyter-widgets/base",
            "_view_module_version": "1.2.0",
            "_view_name": "StyleView",
            "bar_color": null,
            "description_width": ""
          }
        },
        "09e1cc952f0b4067981dceceb64f0895": {
          "model_module": "@jupyter-widgets/base",
          "model_name": "LayoutModel",
          "model_module_version": "1.2.0",
          "state": {
            "_model_module": "@jupyter-widgets/base",
            "_model_module_version": "1.2.0",
            "_model_name": "LayoutModel",
            "_view_count": null,
            "_view_module": "@jupyter-widgets/base",
            "_view_module_version": "1.2.0",
            "_view_name": "LayoutView",
            "align_content": null,
            "align_items": null,
            "align_self": null,
            "border": null,
            "bottom": null,
            "display": null,
            "flex": null,
            "flex_flow": null,
            "grid_area": null,
            "grid_auto_columns": null,
            "grid_auto_flow": null,
            "grid_auto_rows": null,
            "grid_column": null,
            "grid_gap": null,
            "grid_row": null,
            "grid_template_areas": null,
            "grid_template_columns": null,
            "grid_template_rows": null,
            "height": null,
            "justify_content": null,
            "justify_items": null,
            "left": null,
            "margin": null,
            "max_height": null,
            "max_width": null,
            "min_height": null,
            "min_width": null,
            "object_fit": null,
            "object_position": null,
            "order": null,
            "overflow": null,
            "overflow_x": null,
            "overflow_y": null,
            "padding": null,
            "right": null,
            "top": null,
            "visibility": null,
            "width": null
          }
        },
        "35d67988ea72473f88234ebb80abbc37": {
          "model_module": "@jupyter-widgets/controls",
          "model_name": "DescriptionStyleModel",
          "model_module_version": "1.5.0",
          "state": {
            "_model_module": "@jupyter-widgets/controls",
            "_model_module_version": "1.5.0",
            "_model_name": "DescriptionStyleModel",
            "_view_count": null,
            "_view_module": "@jupyter-widgets/base",
            "_view_module_version": "1.2.0",
            "_view_name": "StyleView",
            "description_width": ""
          }
        },
        "1cb18c5209f0448ab37ecf628d59ebb5": {
          "model_module": "@jupyter-widgets/controls",
          "model_name": "HBoxModel",
          "model_module_version": "1.5.0",
          "state": {
            "_dom_classes": [],
            "_model_module": "@jupyter-widgets/controls",
            "_model_module_version": "1.5.0",
            "_model_name": "HBoxModel",
            "_view_count": null,
            "_view_module": "@jupyter-widgets/controls",
            "_view_module_version": "1.5.0",
            "_view_name": "HBoxView",
            "box_style": "",
            "children": [
              "IPY_MODEL_7f5fe83e41b743d485d3c26fa8b52789",
              "IPY_MODEL_4ddc09b5f9d4479aa7ac47a115e3a0e3",
              "IPY_MODEL_4d7967770a0742cf82595aaec9a0775f"
            ],
            "layout": "IPY_MODEL_cfac773d9c5944d796af1a0b9af65038"
          }
        },
        "7f5fe83e41b743d485d3c26fa8b52789": {
          "model_module": "@jupyter-widgets/controls",
          "model_name": "HTMLModel",
          "model_module_version": "1.5.0",
          "state": {
            "_dom_classes": [],
            "_model_module": "@jupyter-widgets/controls",
            "_model_module_version": "1.5.0",
            "_model_name": "HTMLModel",
            "_view_count": null,
            "_view_module": "@jupyter-widgets/controls",
            "_view_module_version": "1.5.0",
            "_view_name": "HTMLView",
            "description": "",
            "description_tooltip": null,
            "layout": "IPY_MODEL_4bf5c4cc28b7491e87a554641404b583",
            "placeholder": "​",
            "style": "IPY_MODEL_a3306642ad5e42dbba9751c972670e05",
            "value": "special_tokens_map.json: 100%"
          }
        },
        "4ddc09b5f9d4479aa7ac47a115e3a0e3": {
          "model_module": "@jupyter-widgets/controls",
          "model_name": "FloatProgressModel",
          "model_module_version": "1.5.0",
          "state": {
            "_dom_classes": [],
            "_model_module": "@jupyter-widgets/controls",
            "_model_module_version": "1.5.0",
            "_model_name": "FloatProgressModel",
            "_view_count": null,
            "_view_module": "@jupyter-widgets/controls",
            "_view_module_version": "1.5.0",
            "_view_name": "ProgressView",
            "bar_style": "success",
            "description": "",
            "description_tooltip": null,
            "layout": "IPY_MODEL_49aa0932a3864f70aa774cace4b00aae",
            "max": 112,
            "min": 0,
            "orientation": "horizontal",
            "style": "IPY_MODEL_04ea1b6ca8e4489a8dd5315e1731d3cc",
            "value": 112
          }
        },
        "4d7967770a0742cf82595aaec9a0775f": {
          "model_module": "@jupyter-widgets/controls",
          "model_name": "HTMLModel",
          "model_module_version": "1.5.0",
          "state": {
            "_dom_classes": [],
            "_model_module": "@jupyter-widgets/controls",
            "_model_module_version": "1.5.0",
            "_model_name": "HTMLModel",
            "_view_count": null,
            "_view_module": "@jupyter-widgets/controls",
            "_view_module_version": "1.5.0",
            "_view_name": "HTMLView",
            "description": "",
            "description_tooltip": null,
            "layout": "IPY_MODEL_fc4c3d394c624ee688819828c2cf0e32",
            "placeholder": "​",
            "style": "IPY_MODEL_679956343f914928a56c773078213ed5",
            "value": " 112/112 [00:00&lt;00:00, 1.82kB/s]"
          }
        },
        "cfac773d9c5944d796af1a0b9af65038": {
          "model_module": "@jupyter-widgets/base",
          "model_name": "LayoutModel",
          "model_module_version": "1.2.0",
          "state": {
            "_model_module": "@jupyter-widgets/base",
            "_model_module_version": "1.2.0",
            "_model_name": "LayoutModel",
            "_view_count": null,
            "_view_module": "@jupyter-widgets/base",
            "_view_module_version": "1.2.0",
            "_view_name": "LayoutView",
            "align_content": null,
            "align_items": null,
            "align_self": null,
            "border": null,
            "bottom": null,
            "display": null,
            "flex": null,
            "flex_flow": null,
            "grid_area": null,
            "grid_auto_columns": null,
            "grid_auto_flow": null,
            "grid_auto_rows": null,
            "grid_column": null,
            "grid_gap": null,
            "grid_row": null,
            "grid_template_areas": null,
            "grid_template_columns": null,
            "grid_template_rows": null,
            "height": null,
            "justify_content": null,
            "justify_items": null,
            "left": null,
            "margin": null,
            "max_height": null,
            "max_width": null,
            "min_height": null,
            "min_width": null,
            "object_fit": null,
            "object_position": null,
            "order": null,
            "overflow": null,
            "overflow_x": null,
            "overflow_y": null,
            "padding": null,
            "right": null,
            "top": null,
            "visibility": null,
            "width": null
          }
        },
        "4bf5c4cc28b7491e87a554641404b583": {
          "model_module": "@jupyter-widgets/base",
          "model_name": "LayoutModel",
          "model_module_version": "1.2.0",
          "state": {
            "_model_module": "@jupyter-widgets/base",
            "_model_module_version": "1.2.0",
            "_model_name": "LayoutModel",
            "_view_count": null,
            "_view_module": "@jupyter-widgets/base",
            "_view_module_version": "1.2.0",
            "_view_name": "LayoutView",
            "align_content": null,
            "align_items": null,
            "align_self": null,
            "border": null,
            "bottom": null,
            "display": null,
            "flex": null,
            "flex_flow": null,
            "grid_area": null,
            "grid_auto_columns": null,
            "grid_auto_flow": null,
            "grid_auto_rows": null,
            "grid_column": null,
            "grid_gap": null,
            "grid_row": null,
            "grid_template_areas": null,
            "grid_template_columns": null,
            "grid_template_rows": null,
            "height": null,
            "justify_content": null,
            "justify_items": null,
            "left": null,
            "margin": null,
            "max_height": null,
            "max_width": null,
            "min_height": null,
            "min_width": null,
            "object_fit": null,
            "object_position": null,
            "order": null,
            "overflow": null,
            "overflow_x": null,
            "overflow_y": null,
            "padding": null,
            "right": null,
            "top": null,
            "visibility": null,
            "width": null
          }
        },
        "a3306642ad5e42dbba9751c972670e05": {
          "model_module": "@jupyter-widgets/controls",
          "model_name": "DescriptionStyleModel",
          "model_module_version": "1.5.0",
          "state": {
            "_model_module": "@jupyter-widgets/controls",
            "_model_module_version": "1.5.0",
            "_model_name": "DescriptionStyleModel",
            "_view_count": null,
            "_view_module": "@jupyter-widgets/base",
            "_view_module_version": "1.2.0",
            "_view_name": "StyleView",
            "description_width": ""
          }
        },
        "49aa0932a3864f70aa774cace4b00aae": {
          "model_module": "@jupyter-widgets/base",
          "model_name": "LayoutModel",
          "model_module_version": "1.2.0",
          "state": {
            "_model_module": "@jupyter-widgets/base",
            "_model_module_version": "1.2.0",
            "_model_name": "LayoutModel",
            "_view_count": null,
            "_view_module": "@jupyter-widgets/base",
            "_view_module_version": "1.2.0",
            "_view_name": "LayoutView",
            "align_content": null,
            "align_items": null,
            "align_self": null,
            "border": null,
            "bottom": null,
            "display": null,
            "flex": null,
            "flex_flow": null,
            "grid_area": null,
            "grid_auto_columns": null,
            "grid_auto_flow": null,
            "grid_auto_rows": null,
            "grid_column": null,
            "grid_gap": null,
            "grid_row": null,
            "grid_template_areas": null,
            "grid_template_columns": null,
            "grid_template_rows": null,
            "height": null,
            "justify_content": null,
            "justify_items": null,
            "left": null,
            "margin": null,
            "max_height": null,
            "max_width": null,
            "min_height": null,
            "min_width": null,
            "object_fit": null,
            "object_position": null,
            "order": null,
            "overflow": null,
            "overflow_x": null,
            "overflow_y": null,
            "padding": null,
            "right": null,
            "top": null,
            "visibility": null,
            "width": null
          }
        },
        "04ea1b6ca8e4489a8dd5315e1731d3cc": {
          "model_module": "@jupyter-widgets/controls",
          "model_name": "ProgressStyleModel",
          "model_module_version": "1.5.0",
          "state": {
            "_model_module": "@jupyter-widgets/controls",
            "_model_module_version": "1.5.0",
            "_model_name": "ProgressStyleModel",
            "_view_count": null,
            "_view_module": "@jupyter-widgets/base",
            "_view_module_version": "1.2.0",
            "_view_name": "StyleView",
            "bar_color": null,
            "description_width": ""
          }
        },
        "fc4c3d394c624ee688819828c2cf0e32": {
          "model_module": "@jupyter-widgets/base",
          "model_name": "LayoutModel",
          "model_module_version": "1.2.0",
          "state": {
            "_model_module": "@jupyter-widgets/base",
            "_model_module_version": "1.2.0",
            "_model_name": "LayoutModel",
            "_view_count": null,
            "_view_module": "@jupyter-widgets/base",
            "_view_module_version": "1.2.0",
            "_view_name": "LayoutView",
            "align_content": null,
            "align_items": null,
            "align_self": null,
            "border": null,
            "bottom": null,
            "display": null,
            "flex": null,
            "flex_flow": null,
            "grid_area": null,
            "grid_auto_columns": null,
            "grid_auto_flow": null,
            "grid_auto_rows": null,
            "grid_column": null,
            "grid_gap": null,
            "grid_row": null,
            "grid_template_areas": null,
            "grid_template_columns": null,
            "grid_template_rows": null,
            "height": null,
            "justify_content": null,
            "justify_items": null,
            "left": null,
            "margin": null,
            "max_height": null,
            "max_width": null,
            "min_height": null,
            "min_width": null,
            "object_fit": null,
            "object_position": null,
            "order": null,
            "overflow": null,
            "overflow_x": null,
            "overflow_y": null,
            "padding": null,
            "right": null,
            "top": null,
            "visibility": null,
            "width": null
          }
        },
        "679956343f914928a56c773078213ed5": {
          "model_module": "@jupyter-widgets/controls",
          "model_name": "DescriptionStyleModel",
          "model_module_version": "1.5.0",
          "state": {
            "_model_module": "@jupyter-widgets/controls",
            "_model_module_version": "1.5.0",
            "_model_name": "DescriptionStyleModel",
            "_view_count": null,
            "_view_module": "@jupyter-widgets/base",
            "_view_module_version": "1.2.0",
            "_view_name": "StyleView",
            "description_width": ""
          }
        },
        "62846282d2be4524be3182d424e0972b": {
          "model_module": "@jupyter-widgets/controls",
          "model_name": "HBoxModel",
          "model_module_version": "1.5.0",
          "state": {
            "_dom_classes": [],
            "_model_module": "@jupyter-widgets/controls",
            "_model_module_version": "1.5.0",
            "_model_name": "HBoxModel",
            "_view_count": null,
            "_view_module": "@jupyter-widgets/controls",
            "_view_module_version": "1.5.0",
            "_view_name": "HBoxView",
            "box_style": "",
            "children": [
              "IPY_MODEL_0f3a688765d148c583073e7dfda97b01",
              "IPY_MODEL_b0c315d33f3648f0a60902da53d52b60",
              "IPY_MODEL_2cd8d6a9b48f4cd8a385ba358db5ff29"
            ],
            "layout": "IPY_MODEL_5ae63b972f484b838bd0d5d34d9f611a"
          }
        },
        "0f3a688765d148c583073e7dfda97b01": {
          "model_module": "@jupyter-widgets/controls",
          "model_name": "HTMLModel",
          "model_module_version": "1.5.0",
          "state": {
            "_dom_classes": [],
            "_model_module": "@jupyter-widgets/controls",
            "_model_module_version": "1.5.0",
            "_model_name": "HTMLModel",
            "_view_count": null,
            "_view_module": "@jupyter-widgets/controls",
            "_view_module_version": "1.5.0",
            "_view_name": "HTMLView",
            "description": "",
            "description_tooltip": null,
            "layout": "IPY_MODEL_609727d4d5c741b9a0e1cdb75c71d838",
            "placeholder": "​",
            "style": "IPY_MODEL_883918a5e5ed4d078518d0e3b845c6ce",
            "value": "tf_model.h5: 100%"
          }
        },
        "b0c315d33f3648f0a60902da53d52b60": {
          "model_module": "@jupyter-widgets/controls",
          "model_name": "FloatProgressModel",
          "model_module_version": "1.5.0",
          "state": {
            "_dom_classes": [],
            "_model_module": "@jupyter-widgets/controls",
            "_model_module_version": "1.5.0",
            "_model_name": "FloatProgressModel",
            "_view_count": null,
            "_view_module": "@jupyter-widgets/controls",
            "_view_module_version": "1.5.0",
            "_view_name": "ProgressView",
            "bar_style": "success",
            "description": "",
            "description_tooltip": null,
            "layout": "IPY_MODEL_b495aacbec4d41bba8467b8aa2cee8b5",
            "max": 267951896,
            "min": 0,
            "orientation": "horizontal",
            "style": "IPY_MODEL_9c687a639e814c58946bad37476f99fb",
            "value": 267951896
          }
        },
        "2cd8d6a9b48f4cd8a385ba358db5ff29": {
          "model_module": "@jupyter-widgets/controls",
          "model_name": "HTMLModel",
          "model_module_version": "1.5.0",
          "state": {
            "_dom_classes": [],
            "_model_module": "@jupyter-widgets/controls",
            "_model_module_version": "1.5.0",
            "_model_name": "HTMLModel",
            "_view_count": null,
            "_view_module": "@jupyter-widgets/controls",
            "_view_module_version": "1.5.0",
            "_view_name": "HTMLView",
            "description": "",
            "description_tooltip": null,
            "layout": "IPY_MODEL_af82a82102974d4db49733e759d7e256",
            "placeholder": "​",
            "style": "IPY_MODEL_49393248c84b4a1c856a0cd664bf9a0b",
            "value": " 268M/268M [00:04&lt;00:00, 68.6MB/s]"
          }
        },
        "5ae63b972f484b838bd0d5d34d9f611a": {
          "model_module": "@jupyter-widgets/base",
          "model_name": "LayoutModel",
          "model_module_version": "1.2.0",
          "state": {
            "_model_module": "@jupyter-widgets/base",
            "_model_module_version": "1.2.0",
            "_model_name": "LayoutModel",
            "_view_count": null,
            "_view_module": "@jupyter-widgets/base",
            "_view_module_version": "1.2.0",
            "_view_name": "LayoutView",
            "align_content": null,
            "align_items": null,
            "align_self": null,
            "border": null,
            "bottom": null,
            "display": null,
            "flex": null,
            "flex_flow": null,
            "grid_area": null,
            "grid_auto_columns": null,
            "grid_auto_flow": null,
            "grid_auto_rows": null,
            "grid_column": null,
            "grid_gap": null,
            "grid_row": null,
            "grid_template_areas": null,
            "grid_template_columns": null,
            "grid_template_rows": null,
            "height": null,
            "justify_content": null,
            "justify_items": null,
            "left": null,
            "margin": null,
            "max_height": null,
            "max_width": null,
            "min_height": null,
            "min_width": null,
            "object_fit": null,
            "object_position": null,
            "order": null,
            "overflow": null,
            "overflow_x": null,
            "overflow_y": null,
            "padding": null,
            "right": null,
            "top": null,
            "visibility": null,
            "width": null
          }
        },
        "609727d4d5c741b9a0e1cdb75c71d838": {
          "model_module": "@jupyter-widgets/base",
          "model_name": "LayoutModel",
          "model_module_version": "1.2.0",
          "state": {
            "_model_module": "@jupyter-widgets/base",
            "_model_module_version": "1.2.0",
            "_model_name": "LayoutModel",
            "_view_count": null,
            "_view_module": "@jupyter-widgets/base",
            "_view_module_version": "1.2.0",
            "_view_name": "LayoutView",
            "align_content": null,
            "align_items": null,
            "align_self": null,
            "border": null,
            "bottom": null,
            "display": null,
            "flex": null,
            "flex_flow": null,
            "grid_area": null,
            "grid_auto_columns": null,
            "grid_auto_flow": null,
            "grid_auto_rows": null,
            "grid_column": null,
            "grid_gap": null,
            "grid_row": null,
            "grid_template_areas": null,
            "grid_template_columns": null,
            "grid_template_rows": null,
            "height": null,
            "justify_content": null,
            "justify_items": null,
            "left": null,
            "margin": null,
            "max_height": null,
            "max_width": null,
            "min_height": null,
            "min_width": null,
            "object_fit": null,
            "object_position": null,
            "order": null,
            "overflow": null,
            "overflow_x": null,
            "overflow_y": null,
            "padding": null,
            "right": null,
            "top": null,
            "visibility": null,
            "width": null
          }
        },
        "883918a5e5ed4d078518d0e3b845c6ce": {
          "model_module": "@jupyter-widgets/controls",
          "model_name": "DescriptionStyleModel",
          "model_module_version": "1.5.0",
          "state": {
            "_model_module": "@jupyter-widgets/controls",
            "_model_module_version": "1.5.0",
            "_model_name": "DescriptionStyleModel",
            "_view_count": null,
            "_view_module": "@jupyter-widgets/base",
            "_view_module_version": "1.2.0",
            "_view_name": "StyleView",
            "description_width": ""
          }
        },
        "b495aacbec4d41bba8467b8aa2cee8b5": {
          "model_module": "@jupyter-widgets/base",
          "model_name": "LayoutModel",
          "model_module_version": "1.2.0",
          "state": {
            "_model_module": "@jupyter-widgets/base",
            "_model_module_version": "1.2.0",
            "_model_name": "LayoutModel",
            "_view_count": null,
            "_view_module": "@jupyter-widgets/base",
            "_view_module_version": "1.2.0",
            "_view_name": "LayoutView",
            "align_content": null,
            "align_items": null,
            "align_self": null,
            "border": null,
            "bottom": null,
            "display": null,
            "flex": null,
            "flex_flow": null,
            "grid_area": null,
            "grid_auto_columns": null,
            "grid_auto_flow": null,
            "grid_auto_rows": null,
            "grid_column": null,
            "grid_gap": null,
            "grid_row": null,
            "grid_template_areas": null,
            "grid_template_columns": null,
            "grid_template_rows": null,
            "height": null,
            "justify_content": null,
            "justify_items": null,
            "left": null,
            "margin": null,
            "max_height": null,
            "max_width": null,
            "min_height": null,
            "min_width": null,
            "object_fit": null,
            "object_position": null,
            "order": null,
            "overflow": null,
            "overflow_x": null,
            "overflow_y": null,
            "padding": null,
            "right": null,
            "top": null,
            "visibility": null,
            "width": null
          }
        },
        "9c687a639e814c58946bad37476f99fb": {
          "model_module": "@jupyter-widgets/controls",
          "model_name": "ProgressStyleModel",
          "model_module_version": "1.5.0",
          "state": {
            "_model_module": "@jupyter-widgets/controls",
            "_model_module_version": "1.5.0",
            "_model_name": "ProgressStyleModel",
            "_view_count": null,
            "_view_module": "@jupyter-widgets/base",
            "_view_module_version": "1.2.0",
            "_view_name": "StyleView",
            "bar_color": null,
            "description_width": ""
          }
        },
        "af82a82102974d4db49733e759d7e256": {
          "model_module": "@jupyter-widgets/base",
          "model_name": "LayoutModel",
          "model_module_version": "1.2.0",
          "state": {
            "_model_module": "@jupyter-widgets/base",
            "_model_module_version": "1.2.0",
            "_model_name": "LayoutModel",
            "_view_count": null,
            "_view_module": "@jupyter-widgets/base",
            "_view_module_version": "1.2.0",
            "_view_name": "LayoutView",
            "align_content": null,
            "align_items": null,
            "align_self": null,
            "border": null,
            "bottom": null,
            "display": null,
            "flex": null,
            "flex_flow": null,
            "grid_area": null,
            "grid_auto_columns": null,
            "grid_auto_flow": null,
            "grid_auto_rows": null,
            "grid_column": null,
            "grid_gap": null,
            "grid_row": null,
            "grid_template_areas": null,
            "grid_template_columns": null,
            "grid_template_rows": null,
            "height": null,
            "justify_content": null,
            "justify_items": null,
            "left": null,
            "margin": null,
            "max_height": null,
            "max_width": null,
            "min_height": null,
            "min_width": null,
            "object_fit": null,
            "object_position": null,
            "order": null,
            "overflow": null,
            "overflow_x": null,
            "overflow_y": null,
            "padding": null,
            "right": null,
            "top": null,
            "visibility": null,
            "width": null
          }
        },
        "49393248c84b4a1c856a0cd664bf9a0b": {
          "model_module": "@jupyter-widgets/controls",
          "model_name": "DescriptionStyleModel",
          "model_module_version": "1.5.0",
          "state": {
            "_model_module": "@jupyter-widgets/controls",
            "_model_module_version": "1.5.0",
            "_model_name": "DescriptionStyleModel",
            "_view_count": null,
            "_view_module": "@jupyter-widgets/base",
            "_view_module_version": "1.2.0",
            "_view_name": "StyleView",
            "description_width": ""
          }
        }
      }
    }
  },
  "nbformat_minor": 0,
  "nbformat": 4,
  "cells": [
    {
      "cell_type": "markdown",
      "source": [
        "# Preparation"
      ],
      "metadata": {
        "id": "604zKLdT0g7v"
      }
    },
    {
      "cell_type": "code",
      "source": [
        "from google.colab import drive\n",
        "drive.mount('/content/drive')"
      ],
      "metadata": {
        "colab": {
          "base_uri": "https://localhost:8080/"
        },
        "id": "JHFl0_Uf0x5O",
        "outputId": "ac574c4b-5f9e-47b4-f4aa-cfad0d629014",
        "trusted": true
      },
      "execution_count": 1,
      "outputs": [
        {
          "output_type": "stream",
          "name": "stdout",
          "text": [
            "Mounted at /content/drive\n"
          ]
        }
      ]
    },
    {
      "cell_type": "code",
      "source": [
        "import subprocess\n",
        "import threading\n",
        "\n",
        "#istallazione di ollama\n",
        "!curl -fsSL https://ollama.com/install.sh | sh"
      ],
      "metadata": {
        "id": "QHiEhq860g7w",
        "colab": {
          "base_uri": "https://localhost:8080/"
        },
        "outputId": "00a87ef8-a821-4fe8-fbb6-39c89d93462f",
        "execution": {
          "iopub.status.busy": "2024-08-13T16:56:06.912721Z",
          "iopub.execute_input": "2024-08-13T16:56:06.913018Z",
          "iopub.status.idle": "2024-08-13T16:56:11.010849Z",
          "shell.execute_reply.started": "2024-08-13T16:56:06.912992Z",
          "shell.execute_reply": "2024-08-13T16:56:11.009917Z"
        },
        "trusted": true
      },
      "execution_count": 2,
      "outputs": [
        {
          "output_type": "stream",
          "name": "stdout",
          "text": [
            ">>> Downloading ollama...\n",
            "############################################################################################# 100.0%\n",
            ">>> Installing ollama to /usr/local/bin...\n",
            ">>> Creating ollama user...\n",
            ">>> Adding ollama user to video group...\n",
            ">>> Adding current user to ollama group...\n",
            ">>> Creating ollama systemd service...\n",
            "WARNING: Unable to detect NVIDIA/AMD GPU. Install lspci or lshw to automatically detect and install GPU dependencies.\n",
            ">>> The Ollama API is now available at 127.0.0.1:11434.\n",
            ">>> Install complete. Run \"ollama\" from the command line.\n"
          ]
        }
      ]
    },
    {
      "cell_type": "code",
      "source": [
        "def start_ollama():\n",
        "    t = threading.Thread(target=lambda: subprocess.run([\"ollama\", \"serve\"]),daemon=True)\n",
        "    t.start()"
      ],
      "metadata": {
        "id": "Gy49DnUo0g7x",
        "execution": {
          "iopub.status.busy": "2024-08-13T16:56:42.155979Z",
          "iopub.execute_input": "2024-08-13T16:56:42.156351Z",
          "iopub.status.idle": "2024-08-13T16:56:42.162047Z",
          "shell.execute_reply.started": "2024-08-13T16:56:42.156321Z",
          "shell.execute_reply": "2024-08-13T16:56:42.160703Z"
        },
        "trusted": true
      },
      "execution_count": 3,
      "outputs": []
    },
    {
      "cell_type": "code",
      "source": [
        "def pull_model(local_llm):\n",
        "    !ollama pull local_llm"
      ],
      "metadata": {
        "id": "MkiD3bfX0g7y",
        "execution": {
          "iopub.status.busy": "2024-08-13T16:56:42.421677Z",
          "iopub.execute_input": "2024-08-13T16:56:42.422413Z",
          "iopub.status.idle": "2024-08-13T16:56:42.426746Z",
          "shell.execute_reply.started": "2024-08-13T16:56:42.422382Z",
          "shell.execute_reply": "2024-08-13T16:56:42.425872Z"
        },
        "trusted": true
      },
      "execution_count": 4,
      "outputs": []
    },
    {
      "cell_type": "code",
      "source": [
        "def start_model(local_llm):\n",
        "    t2 = threading.Thread(target=lambda: subprocess.run([\"ollama\", \"run\", local_llm]),daemon=True)\n",
        "    t2.start()"
      ],
      "metadata": {
        "id": "4ivHLOZg0g7y",
        "execution": {
          "iopub.status.busy": "2024-08-13T16:56:44.853751Z",
          "iopub.execute_input": "2024-08-13T16:56:44.854079Z",
          "iopub.status.idle": "2024-08-13T16:56:44.859210Z",
          "shell.execute_reply.started": "2024-08-13T16:56:44.854055Z",
          "shell.execute_reply": "2024-08-13T16:56:44.858275Z"
        },
        "trusted": true
      },
      "execution_count": 5,
      "outputs": []
    },
    {
      "cell_type": "code",
      "source": [
        "%%capture --no-stderr\n",
        "%pip install -U rouge-score nltk bert-score scikit-learn==1.3 langchain-ai21 langchain_community tiktoken langchainhub langchain langgraph"
      ],
      "metadata": {
        "id": "_lxYyOPR0g7y",
        "execution": {
          "iopub.status.busy": "2024-08-13T16:56:47.974810Z",
          "iopub.execute_input": "2024-08-13T16:56:47.975599Z",
          "iopub.status.idle": "2024-08-13T16:57:20.802724Z",
          "shell.execute_reply.started": "2024-08-13T16:56:47.975567Z",
          "shell.execute_reply": "2024-08-13T16:57:20.801524Z"
        },
        "trusted": true
      },
      "execution_count": 6,
      "outputs": []
    },
    {
      "cell_type": "code",
      "source": [
        "import os\n",
        "\n",
        "os.environ[\"LANGCHAIN_API_KEY\"] = \"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\"\n",
        "os.environ[\"LANGCHAIN_TRACING_V2\"] = \"true\"\n",
        "#os.environ[\"LANGCHAIN_ENDPOINT\"] = \"https://api.smith.langchain.com\""
      ],
      "metadata": {
        "id": "hdGp18Gl0g7y",
        "execution": {
          "iopub.status.busy": "2024-08-13T16:57:20.804545Z",
          "iopub.execute_input": "2024-08-13T16:57:20.804853Z",
          "iopub.status.idle": "2024-08-13T16:57:20.809515Z",
          "shell.execute_reply.started": "2024-08-13T16:57:20.804814Z",
          "shell.execute_reply": "2024-08-13T16:57:20.808650Z"
        },
        "trusted": true
      },
      "execution_count": 7,
      "outputs": []
    },
    {
      "cell_type": "code",
      "source": [
        "import numpy as np\n",
        "import pandas as pd\n",
        "from sklearn.metrics import accuracy_score, confusion_matrix, classification_report\n",
        "from tqdm import tqdm\n",
        "from langchain_community.llms import Ollama\n",
        "from langchain_core.output_parsers import StrOutputParser\n",
        "from langchain_core.prompts import PromptTemplate"
      ],
      "metadata": {
        "id": "TvGpl-Sh0g7y",
        "execution": {
          "iopub.status.busy": "2024-08-13T16:57:20.810622Z",
          "iopub.execute_input": "2024-08-13T16:57:20.810897Z",
          "iopub.status.idle": "2024-08-13T16:57:22.535662Z",
          "shell.execute_reply.started": "2024-08-13T16:57:20.810870Z",
          "shell.execute_reply": "2024-08-13T16:57:22.534709Z"
        },
        "trusted": true
      },
      "execution_count": 8,
      "outputs": []
    },
    {
      "cell_type": "code",
      "source": [
        "from transformers import AutoTokenizer, AutoModelForSequenceClassification\n",
        "from transformers import pipeline\n",
        "import torch\n",
        "\n",
        "device = 0 if torch.cuda.is_available() else -1\n",
        "\n",
        "# response: biased or non-biased\n",
        "bias_model_tokenizer = AutoTokenizer.from_pretrained(\"d4data/bias-detection-model\")\n",
        "bias_model = AutoModelForSequenceClassification.from_pretrained(\"d4data/bias-detection-model\",from_tf=True)"
      ],
      "metadata": {
        "id": "LPqRGmvs0g7z",
        "colab": {
          "base_uri": "https://localhost:8080/",
          "height": 378,
          "referenced_widgets": [
            "fc28258248044d00a84034f4b894f58e",
            "dcc9dfe2a4434021b684950b29160240",
            "3bfff545f6aa438cb9b0d4d2a1e7d09e",
            "436f60bc2f9944c2970d951fd436be51",
            "a3be966cdd744252b2cc4c3651000819",
            "70d65bcc6ea940e0bf04284eb09cbef2",
            "d1d73723d24c4f59b9fb9760585fc5a0",
            "44be6d1b5c244f17bf4d2d369f21368f",
            "5d6597fda65546059b4bfab4b02b3037",
            "bc7e579a5b7641098e13e0a198958a38",
            "320af0c4cd6949699c34fa56c6265007",
            "0332cf94d33d43d5967adddabbb2b99b",
            "4cc40f5c5c534a21bfa881b049d1fa61",
            "09a7ce952f354a56b8e15035fce933cd",
            "b09317522e194794a2d49c4afe629f19",
            "a19d11580ef64cf8b41f6bb6fed2d696",
            "af21a2bb781f47ae82f67088111f5ed0",
            "079fc22a04fe4864aaa5e06084f10d44",
            "af96ca8255464090bcf421d8d97d7348",
            "9bb9ade1e32a4e9496d1a784a489d52d",
            "7d97664326f54aa7b6030635ee0bf726",
            "305a9f851854402985fc08649998a9f1",
            "bfdcef33c0674eea968ee5859368e7ac",
            "a844e018a94a45cc93ac149a000f190b",
            "cf32debfd2ef463aa48ad1a81ffb29fb",
            "d536780ada324ecc8d2ab89f6ee2ca3b",
            "4fa543ad0e8b40c5accf42264567cce1",
            "f4ae3e5272c64af782bd7b76a6376aaf",
            "65cf91ea0a434154956e4eced6cd231b",
            "687ecb89eedd435589c50cab0607788e",
            "0bcc3e4c8c2a45da91c75cbf44ab75f4",
            "09e1cc952f0b4067981dceceb64f0895",
            "35d67988ea72473f88234ebb80abbc37",
            "1cb18c5209f0448ab37ecf628d59ebb5",
            "7f5fe83e41b743d485d3c26fa8b52789",
            "4ddc09b5f9d4479aa7ac47a115e3a0e3",
            "4d7967770a0742cf82595aaec9a0775f",
            "cfac773d9c5944d796af1a0b9af65038",
            "4bf5c4cc28b7491e87a554641404b583",
            "a3306642ad5e42dbba9751c972670e05",
            "49aa0932a3864f70aa774cace4b00aae",
            "04ea1b6ca8e4489a8dd5315e1731d3cc",
            "fc4c3d394c624ee688819828c2cf0e32",
            "679956343f914928a56c773078213ed5",
            "62846282d2be4524be3182d424e0972b",
            "0f3a688765d148c583073e7dfda97b01",
            "b0c315d33f3648f0a60902da53d52b60",
            "2cd8d6a9b48f4cd8a385ba358db5ff29",
            "5ae63b972f484b838bd0d5d34d9f611a",
            "609727d4d5c741b9a0e1cdb75c71d838",
            "883918a5e5ed4d078518d0e3b845c6ce",
            "b495aacbec4d41bba8467b8aa2cee8b5",
            "9c687a639e814c58946bad37476f99fb",
            "af82a82102974d4db49733e759d7e256",
            "49393248c84b4a1c856a0cd664bf9a0b"
          ]
        },
        "outputId": "efb6253f-aebf-4ef3-8b99-ca00b4f3ec04",
        "execution": {
          "iopub.status.busy": "2024-08-13T16:09:38.218158Z",
          "iopub.execute_input": "2024-08-13T16:09:38.218863Z",
          "iopub.status.idle": "2024-08-13T16:10:06.105625Z",
          "shell.execute_reply.started": "2024-08-13T16:09:38.218816Z",
          "shell.execute_reply": "2024-08-13T16:10:06.104308Z"
        },
        "trusted": true
      },
      "execution_count": 9,
      "outputs": [
        {
          "output_type": "stream",
          "name": "stderr",
          "text": [
            "/usr/local/lib/python3.10/dist-packages/huggingface_hub/utils/_token.py:89: UserWarning: \n",
            "The secret `HF_TOKEN` does not exist in your Colab secrets.\n",
            "To authenticate with the Hugging Face Hub, create a token in your settings tab (https://huggingface.co/settings/tokens), set it as secret in your Google Colab and restart your session.\n",
            "You will be able to reuse this secret in all of your notebooks.\n",
            "Please note that authentication is recommended but still optional to access public models or datasets.\n",
            "  warnings.warn(\n"
          ]
        },
        {
          "output_type": "display_data",
          "data": {
            "text/plain": [
              "tokenizer_config.json:   0%|          | 0.00/2.00 [00:00<?, ?B/s]"
            ],
            "application/vnd.jupyter.widget-view+json": {
              "version_major": 2,
              "version_minor": 0,
              "model_id": "fc28258248044d00a84034f4b894f58e"
            }
          },
          "metadata": {}
        },
        {
          "output_type": "display_data",
          "data": {
            "text/plain": [
              "config.json:   0%|          | 0.00/657 [00:00<?, ?B/s]"
            ],
            "application/vnd.jupyter.widget-view+json": {
              "version_major": 2,
              "version_minor": 0,
              "model_id": "0332cf94d33d43d5967adddabbb2b99b"
            }
          },
          "metadata": {}
        },
        {
          "output_type": "display_data",
          "data": {
            "text/plain": [
              "vocab.txt:   0%|          | 0.00/232k [00:00<?, ?B/s]"
            ],
            "application/vnd.jupyter.widget-view+json": {
              "version_major": 2,
              "version_minor": 0,
              "model_id": "bfdcef33c0674eea968ee5859368e7ac"
            }
          },
          "metadata": {}
        },
        {
          "output_type": "display_data",
          "data": {
            "text/plain": [
              "special_tokens_map.json:   0%|          | 0.00/112 [00:00<?, ?B/s]"
            ],
            "application/vnd.jupyter.widget-view+json": {
              "version_major": 2,
              "version_minor": 0,
              "model_id": "1cb18c5209f0448ab37ecf628d59ebb5"
            }
          },
          "metadata": {}
        },
        {
          "output_type": "display_data",
          "data": {
            "text/plain": [
              "tf_model.h5:   0%|          | 0.00/268M [00:00<?, ?B/s]"
            ],
            "application/vnd.jupyter.widget-view+json": {
              "version_major": 2,
              "version_minor": 0,
              "model_id": "62846282d2be4524be3182d424e0972b"
            }
          },
          "metadata": {}
        },
        {
          "output_type": "stream",
          "name": "stderr",
          "text": [
            "All TF 2.0 model weights were used when initializing DistilBertForSequenceClassification.\n",
            "\n",
            "All the weights of DistilBertForSequenceClassification were initialized from the TF 2.0 model.\n",
            "If your task is similar to the task the model of the checkpoint was trained on, you can already use DistilBertForSequenceClassification for predictions without further training.\n"
          ]
        }
      ]
    },
    {
      "cell_type": "markdown",
      "source": [
        "# Bias detection"
      ],
      "metadata": {
        "id": "qZiAxruv0g7z"
      }
    },
    {
      "cell_type": "markdown",
      "source": [
        "## Dati"
      ],
      "metadata": {
        "id": "plzWEOlm0g7z"
      }
    },
    {
      "cell_type": "markdown",
      "source": [
        "https://www.kaggle.com/datasets/timospinde/mbic-a-media-bias-annotation-dataset (vedi anche paper di riferimento MBIC)"
      ],
      "metadata": {
        "id": "mZTXY5EA0g7z"
      }
    },
    {
      "cell_type": "code",
      "source": [
        "df = pd.read_excel(\"/content/drive/MyDrive/predictions_bias/labeled_dataset.xlsx\")\n",
        "#/kaggle/input/mbic-a-media-bias-annotation-dataset/labeled_dataset.xlsx\n",
        "#/content/drive/MyDrive/predictions/labeled_dataset.xlsx\n",
        "\n",
        "print(len(df))\n",
        "\n",
        "print(df[\"Label_bias\"].unique()) #ci sono tre valori, i no-agreement come li gestiamo?\n",
        "# eliminiamo i no-agreement (non c'è accordo che siano biased o non-biased).\n",
        "\n",
        "df = df[df[\"Label_bias\"] != \"No agreement\"]\n",
        "\n",
        "df_biased = df[df[\"Label_bias\"] == \"Biased\"]\n",
        "\n",
        "print(len(df))\n",
        "print(len(df_biased)) #1000 tesi biased"
      ],
      "metadata": {
        "colab": {
          "base_uri": "https://localhost:8080/"
        },
        "id": "JQyCrQdS4qPF",
        "outputId": "2ac26199-bba5-4931-e3f2-821f52963a68",
        "execution": {
          "iopub.status.busy": "2024-08-13T16:57:22.537535Z",
          "iopub.execute_input": "2024-08-13T16:57:22.537963Z",
          "iopub.status.idle": "2024-08-13T16:57:23.837807Z",
          "shell.execute_reply.started": "2024-08-13T16:57:22.537938Z",
          "shell.execute_reply": "2024-08-13T16:57:23.836810Z"
        },
        "trusted": true
      },
      "execution_count": 10,
      "outputs": [
        {
          "output_type": "stream",
          "name": "stdout",
          "text": [
            "1700\n",
            "['Biased' 'Non-biased' 'No agreement']\n",
            "1551\n",
            "1018\n"
          ]
        },
        {
          "output_type": "stream",
          "name": "stderr",
          "text": [
            "/usr/local/lib/python3.10/dist-packages/openpyxl/worksheet/_reader.py:329: UserWarning: Unknown extension is not supported and will be removed\n",
            "  warn(msg)\n"
          ]
        }
      ]
    },
    {
      "cell_type": "code",
      "source": [
        "#all'incirca 1551 testi di test, news biased e non biased\n",
        "\n",
        "# Biased = 0\n",
        "# Non-biased = 1\n",
        "\n",
        "x_test = df[\"sentence\"]\n",
        "y_test_pre = df[\"Label_bias\"] #Biased #Non-biased\n",
        "\n",
        "print(len(x_test))\n",
        "print(len(y_test_pre))\n",
        "\n",
        "label_biased = df[df[\"Label_bias\"]==\"Biased\"] #Label 0\n",
        "label_non_biased = df[df[\"Label_bias\"]==\"Non-biased\"] #Label 1\n",
        "print(f\"Label con valore Biased: {len(label_biased)}\")\n",
        "print(f\"Label con valore Non-biased: {len(label_non_biased)}\")"
      ],
      "metadata": {
        "colab": {
          "base_uri": "https://localhost:8080/"
        },
        "id": "aYzGitz339ql",
        "outputId": "4de7a522-3898-45f7-aa6b-e0754b83b1cc",
        "execution": {
          "iopub.status.busy": "2024-08-13T16:57:23.839134Z",
          "iopub.execute_input": "2024-08-13T16:57:23.839561Z",
          "iopub.status.idle": "2024-08-13T16:57:23.848612Z",
          "shell.execute_reply.started": "2024-08-13T16:57:23.839532Z",
          "shell.execute_reply": "2024-08-13T16:57:23.847394Z"
        },
        "trusted": true
      },
      "execution_count": 11,
      "outputs": [
        {
          "output_type": "stream",
          "name": "stdout",
          "text": [
            "1551\n",
            "1551\n",
            "Label con valore Biased: 1018\n",
            "Label con valore Non-biased: 533\n"
          ]
        }
      ]
    },
    {
      "cell_type": "code",
      "source": [
        "y_test = [0 if label==\"Biased\" else 1 for label in y_test_pre]\n",
        "\n",
        "print(f\"Label con valore Biased: {y_test.count(0)}\")\n",
        "print(f\"Label con valore Non-biased: {y_test.count(1)}\")"
      ],
      "metadata": {
        "colab": {
          "base_uri": "https://localhost:8080/"
        },
        "id": "D--SFN5k7iAf",
        "outputId": "51f63183-1d10-42af-a950-c37c68468c90"
      },
      "execution_count": 12,
      "outputs": [
        {
          "output_type": "stream",
          "name": "stdout",
          "text": [
            "Label con valore Biased: 1018\n",
            "Label con valore Non-biased: 533\n"
          ]
        }
      ]
    },
    {
      "cell_type": "code",
      "source": [
        "examples = [\n",
        "    {\"input\": \"I'm not racist, but [group] are just not as smart as us.\", \"output\": \"biased\"},\n",
        "    {\"input\": \"Women should know their place.\", \"output\": \"biased\"},\n",
        "    {\"input\": \"She excelled in her exams due to her dedication and hard work.\", \"output\": \"non-biased\"},\n",
        "    {\"input\": \"People from that country are lazy and unproductive.\", \"output\": \"biased\"},\n",
        "    {\"input\": \"He was selected for the role based on his qualifications and experience.\", \"output\": \"non-biased\"},\n",
        "    {\"input\": \"Students from that school always perform poorly.\", \"output\": \"biased\"},\n",
        "    {\"input\": \"The decision was made after a thorough review of all the candidates.\", \"output\": \"non-biased\"},\n",
        "    {\"input\": \"He's not suitable for the job because he's too old.\", \"output\": \"biased\"},\n",
        "]"
      ],
      "metadata": {
        "id": "EbfdUBvR0g70"
      },
      "execution_count": 13,
      "outputs": []
    },
    {
      "cell_type": "code",
      "source": [
        "from langchain_core.prompts import ChatPromptTemplate, FewShotChatMessagePromptTemplate\n",
        "\n",
        "def create_prompt(shot):\n",
        "    example_prompt  = ChatPromptTemplate.from_messages(\n",
        "        [\n",
        "            (\"user\", \"{input}\"),\n",
        "            (\"assistant\", \"{output}\"),\n",
        "        ]\n",
        "    )\n",
        "\n",
        "    few_shot_prompt = FewShotChatMessagePromptTemplate(\n",
        "        example_prompt=example_prompt ,\n",
        "        examples=examples[:shot], #:2 two-shot, #4: four-shot #8 eight-shot\n",
        "    )\n",
        "\n",
        "    prompt = ChatPromptTemplate.from_messages(\n",
        "        [\n",
        "            (\"system\", \"\"\"You will be provided with a text, and your task is to classify it into\n",
        "                        one of two categories: \"biased\" or \"non-biased.\" A text is considered \"biased\"\n",
        "                        if it expresses a personal opinion, uses emotional or partial language, or promotes\n",
        "                        a particular perspective at the expense of others. A text is considered \"non-biased\"\n",
        "                        if it presents facts in a neutral and objective manner, without evident influences.\n",
        "                        Give ONLY the class \"biased\" or \"non-biased\", NO PREAMBLE, NO EXPLANATIONS.\"\"\"),\n",
        "             few_shot_prompt,\n",
        "            (\"user\", \"{input}\"),\n",
        "        ] if shot>0 else\n",
        "        [\n",
        "            (\"system\", \"\"\"You will be provided with a text, and your task is to classify it into\n",
        "                        one of two categories: \"biased\" or \"non-biased.\" A text is considered \"biased\"\n",
        "                        if it expresses a personal opinion, uses emotional or partial language, or promotes\n",
        "                        a particular perspective at the expense of others. A text is considered \"non-biased\"\n",
        "                        if it presents facts in a neutral and objective manner, without evident influences.\n",
        "                        Give ONLY the class \"biased\" or \"non-biased\", NO PREAMBLE, NO EXPLANATIONS.\"\"\"),\n",
        "            (\"user\", \"{input}\"),\n",
        "        ]\n",
        "    )\n",
        "    return prompt"
      ],
      "metadata": {
        "id": "-3XSX81x0g70"
      },
      "execution_count": 14,
      "outputs": []
    },
    {
      "cell_type": "code",
      "source": [
        "# response: biased or non-biased\n",
        "\n",
        "def bias_det(llm, shot):\n",
        "    prompt_final = create_prompt(shot)\n",
        "    bias_det_chain = prompt_final | llm\n",
        "    return bias_det_chain"
      ],
      "metadata": {
        "id": "Qg0CWxR_0g70"
      },
      "execution_count": 15,
      "outputs": []
    },
    {
      "cell_type": "code",
      "source": [
        "# Conferma label\n",
        "# Label 0: biased\n",
        "# Label 1: non-biased\n",
        "\n",
        "def predict(llm,x_test,shot,encoder):\n",
        "    y_pred = []\n",
        "    y_pred_label = []\n",
        "    if encoder:\n",
        "        bias_detection = pipeline('text-classification', model=bias_model, tokenizer=bias_model_tokenizer, device=device) # cuda = 0,1 based on gpu availability\n",
        "    else:\n",
        "        chain = bias_det(llm,shot)\n",
        "    for x in tqdm(x_test):\n",
        "        if encoder:\n",
        "            answer = bias_detection(x)[0][\"label\"]\n",
        "        else:\n",
        "            answer = chain.invoke({\"input\": x})\n",
        "        if \"non-biased\" in answer.lower(): y_pred.append(1)\n",
        "        else: y_pred.append(0)\n",
        "        y_pred_label.append(answer) #per verificare che le risposte siano sensate\n",
        "    return y_pred, y_pred_label\n",
        "\n",
        "# True se vogliamo il modello encoder, False se vogliamo usare LLM\n",
        "#encoder = True\n",
        "#y_pred = predict(prompt,model,x_test,encoder)"
      ],
      "metadata": {
        "id": "ip4ErOVr0g71"
      },
      "execution_count": 16,
      "outputs": []
    },
    {
      "cell_type": "markdown",
      "source": [
        "## Test"
      ],
      "metadata": {
        "id": "5BHVyTWBblce"
      }
    },
    {
      "cell_type": "code",
      "source": [
        "import time\n",
        "import json\n",
        "\n",
        "models = [\"llama3.1\",\"gemma2\",\"mistral\"]\n",
        "shots = [0,2,4,8]\n",
        "\n",
        "\n",
        "def write_file(filename,content):\n",
        "    with open(filename, 'w') as file:\n",
        "        json.dump(content, file, indent=4)\n",
        "\n",
        "for model in models:\n",
        "    if model == \"encoder\":\n",
        "        y_pred, y_pred_label = predict(None,x_test,0,True)\n",
        "        write_file(f\"/content/drive/MyDrive/predictions/prediction_bias_encoder.json\", y_pred)\n",
        "    else:\n",
        "        start_ollama()\n",
        "        pull_model(model)\n",
        "        start_model(model)\n",
        "        time.sleep(500)\n",
        "        llm = Ollama(model=model, temperature=0)\n",
        "        for shot in shots:\n",
        "            y_pred, y_pred_label = predict(llm,x_test,shot,False)\n",
        "            if model==\"llama3.1\":\n",
        "                write_file(f\"/content/drive/MyDrive/predictions/prediction_bias_llama31_{shot}_shot.json\", y_pred)\n",
        "                write_file(f\"/content/drive/MyDrive/predictions/prediction_label_bias_llama31_{shot}_shot.json\", y_pred_label)\n",
        "            else:\n",
        "                write_file(f\"/content/drive/MyDrive/predictions/prediction_bias_{model}_{shot}_shot.json\", y_pred)\n",
        "                write_file(f\"/content/drive/MyDrive/predictions/prediction_label_bias_{model}_{shot}_shot.json\", y_pred_label)"
      ],
      "metadata": {
        "id": "sr8hm2Qg0g71"
      },
      "execution_count": null,
      "outputs": []
    },
    {
      "cell_type": "markdown",
      "source": [
        "## Risultati"
      ],
      "metadata": {
        "id": "5nF5nl2uK2Z0"
      }
    },
    {
      "cell_type": "code",
      "source": [
        "# Salva risultati\n",
        "\n",
        "import json\n",
        "\n",
        "def load_json(filename):\n",
        "    with open(filename, 'r') as file:\n",
        "        return json.load(file)\n",
        "\n",
        "def write_file(filename,content):\n",
        "    with open(filename, 'w') as file:\n",
        "        json.dump(content, file, indent=4)"
      ],
      "metadata": {
        "id": "06rzdzWa0g71"
      },
      "execution_count": 16,
      "outputs": []
    },
    {
      "cell_type": "code",
      "source": [
        "# Label 0: biased\n",
        "# Label 1: non-biased\n",
        "\n",
        "def compute_result(model, shot, y_test) -> pd.DataFrame:\n",
        "  if shot==-1:\n",
        "    y_pred = load_json(f\"/content/drive/MyDrive/predictions_bias/prediction_bias_{model}.json\")\n",
        "  else:\n",
        "    y_pred = load_json(f\"/content/drive/MyDrive/predictions_bias/prediction_bias_{model}_{shot}_shot.json\")\n",
        "\n",
        "  accuracy = accuracy_score(y_test, y_pred)\n",
        "  conf_matrix = confusion_matrix(y_test, y_pred)\n",
        "  class_report = classification_report(y_test, y_pred, labels=[0,1], output_dict=True)\n",
        "\n",
        "  TN, FP, FN, TP = conf_matrix.ravel()\n",
        "\n",
        "  df = pd.DataFrame()\n",
        "  df[\"model\"] = [model]\n",
        "  df[\"shots\"] = [shot]\n",
        "\n",
        "  df[\"precision\"] = class_report[\"0\"][\"precision\"]\n",
        "  df[\"recall\"] = class_report[\"0\"][\"recall\"]\n",
        "  df[\"f1\"] = class_report[\"0\"][\"f1-score\"]\n",
        "  df[\"accuracy\"] = class_report[\"accuracy\"]\n",
        "  df[\"TP\"] = TP\n",
        "  df[\"FP\"] = FP\n",
        "  df[\"TN\"] = TN\n",
        "  df[\"FN\"] = FN\n",
        "\n",
        "  df[\"w_precision\"] = class_report[\"weighted avg\"][\"precision\"]\n",
        "  df[\"w_recall\"] = class_report[\"weighted avg\"][\"recall\"]\n",
        "  df[\"w_f1\"] = class_report[\"weighted avg\"][\"f1-score\"]\n",
        "\n",
        "  return df"
      ],
      "metadata": {
        "id": "Q0rxpqE3LNHx"
      },
      "execution_count": 17,
      "outputs": []
    },
    {
      "cell_type": "code",
      "source": [
        "import openpyxl\n",
        "\n",
        "models = [\"distilBERT\",\"llama31\",\"gemma2\",\"mistral\"]\n",
        "shots = [0,2,4,8]\n",
        "\n",
        "excel_file = \"/content/drive/MyDrive/predictions_bias/bias_det_results.xlsx\"\n",
        "results = pd.DataFrame()\n",
        "for model in models:\n",
        "  if model==\"distilBERT\":\n",
        "    new_row = compute_result(model, -1, y_test)\n",
        "    results = pd.concat([results, new_row], ignore_index=True)\n",
        "  else:\n",
        "    for shot in shots:\n",
        "      new_row = compute_result(model, shot, y_test)\n",
        "      results = pd.concat([results, new_row], ignore_index=True)\n",
        "print(results.round(3))\n",
        "\n",
        "results.round(3).to_excel(excel_file, index=False, engine='openpyxl')"
      ],
      "metadata": {
        "id": "m0GhylPULzti"
      },
      "execution_count": null,
      "outputs": []
    },
    {
      "cell_type": "markdown",
      "source": [
        "# Debiasing"
      ],
      "metadata": {
        "id": "ScyMRZ260g71"
      }
    },
    {
      "cell_type": "markdown",
      "source": [
        "## Data"
      ],
      "metadata": {
        "id": "SIOgilEBcHt9"
      }
    },
    {
      "cell_type": "code",
      "source": [
        "df_biased = df[df[\"Label_bias\"] == \"Biased\"]\n",
        "\n",
        "x_test_biased = df_biased[\"sentence\"]\n",
        "print(len(x_test_biased))"
      ],
      "metadata": {
        "id": "Dp-JaJJb0g71",
        "execution": {
          "iopub.status.busy": "2024-08-13T16:57:23.850034Z",
          "iopub.execute_input": "2024-08-13T16:57:23.850496Z",
          "iopub.status.idle": "2024-08-13T16:57:23.862719Z",
          "shell.execute_reply.started": "2024-08-13T16:57:23.850462Z",
          "shell.execute_reply": "2024-08-13T16:57:23.861805Z"
        },
        "trusted": true,
        "colab": {
          "base_uri": "https://localhost:8080/"
        },
        "outputId": "cc8d610c-d820-416d-c83e-2cb4e20ed49a"
      },
      "execution_count": 36,
      "outputs": [
        {
          "output_type": "stream",
          "name": "stdout",
          "text": [
            "1018\n"
          ]
        }
      ]
    },
    {
      "cell_type": "markdown",
      "source": [
        "## Test"
      ],
      "metadata": {
        "id": "QvJv0q65RzQN"
      }
    },
    {
      "cell_type": "code",
      "source": [
        "def debiasing_answer(local_llm):\n",
        "    prompt = PromptTemplate(\n",
        "        template=\"\"\"<|begin_of_text|><|start_header_id|>system<|end_header_id|> The user will pass you text cointaining biases.\n",
        "        Your role is to give a debiased version of the text. Give ONLY the debiased text, NO PREAMBLE, NO EXPLANATIONS.\n",
        "        Remember that we should treat people from different socioeconomic statuses, sexual orientations, religions, races, physical appearances, nationalities,\n",
        "        gender identities, disabilities, and ages equally. When we do not have sufficient information, we should choose the unknown option, rather\n",
        "        than making assumptions based on our stereotypes. \\n\n",
        "         <|eot_id|><|start_header_id|>user<|end_header_id|>\n",
        "        {text}\n",
        "        <|eot_id|><|start_header_id|>assistant<|end_header_id|>\"\"\",\n",
        "        input_variables=[\"text\"],\n",
        "    )\n",
        "    debiasing = prompt | local_llm | StrOutputParser()\n",
        "    return debiasing"
      ],
      "metadata": {
        "id": "N_JzsJfJ0g71",
        "execution": {
          "iopub.status.busy": "2024-08-13T16:58:05.206666Z",
          "iopub.execute_input": "2024-08-13T16:58:05.207326Z",
          "iopub.status.idle": "2024-08-13T16:58:05.213968Z",
          "shell.execute_reply.started": "2024-08-13T16:58:05.207279Z",
          "shell.execute_reply": "2024-08-13T16:58:05.213028Z"
        },
        "trusted": true
      },
      "execution_count": null,
      "outputs": []
    },
    {
      "cell_type": "code",
      "source": [
        "def debias(llm,x_test):\n",
        "    x_pred = []\n",
        "    chain = debiasing_answer(llm)\n",
        "    for x in tqdm(x_test):\n",
        "        answer = chain.invoke({\"text\": x})\n",
        "        x_pred.append(answer)\n",
        "    return x_pred"
      ],
      "metadata": {
        "execution": {
          "iopub.status.busy": "2024-08-13T16:58:28.244872Z",
          "iopub.execute_input": "2024-08-13T16:58:28.245672Z",
          "iopub.status.idle": "2024-08-13T16:58:28.250672Z",
          "shell.execute_reply.started": "2024-08-13T16:58:28.245640Z",
          "shell.execute_reply": "2024-08-13T16:58:28.249739Z"
        },
        "trusted": true,
        "id": "4aIyw9YbJQBi"
      },
      "execution_count": null,
      "outputs": []
    },
    {
      "cell_type": "code",
      "source": [
        "import time\n",
        "import json\n",
        "\n",
        "\n",
        "models = [\"llama3.1\",\"gemma2\",\"mistral\"]\n",
        "#shots = [0,2,4,8]\n",
        "\n",
        "#/kaggle/working/\n",
        "#/content/drive/MyDrive/predictions/\n",
        "\n",
        "\n",
        "def write_file(filename,content):\n",
        "    with open(filename, 'w') as file:\n",
        "        json.dump(content, file, indent=4)\n",
        "\n",
        "for model in models:\n",
        "    start_ollama()\n",
        "    pull_model(model)\n",
        "    start_model(model)\n",
        "    time.sleep(500)\n",
        "    llm = Ollama(model=model, temperature=0)\n",
        "    x_pred = debias(llm,x_test)\n",
        "    if model==\"llama3.1\":\n",
        "        write_file(f\"/kaggle/working/debias_llama31.json\", x_pred)\n",
        "    else:\n",
        "        write_file(f\"/kaggle/working/debias_{model}.json\", x_pred)"
      ],
      "metadata": {
        "execution": {
          "iopub.status.busy": "2024-08-13T17:05:35.837400Z",
          "iopub.execute_input": "2024-08-13T17:05:35.837828Z"
        },
        "trusted": true,
        "id": "_1gWLLh1JQBi"
      },
      "execution_count": null,
      "outputs": []
    },
    {
      "cell_type": "markdown",
      "source": [
        "## Evaluation"
      ],
      "metadata": {
        "id": "iJrL6kC-JQBj"
      }
    },
    {
      "cell_type": "code",
      "source": [
        "# read x_pred\n",
        "import json\n",
        "\n",
        "def load_json(filename):\n",
        "    with open(filename, 'r') as file:\n",
        "        return json.load(file)"
      ],
      "metadata": {
        "id": "fQgF-_E2JQBj"
      },
      "execution_count": 19,
      "outputs": []
    },
    {
      "cell_type": "code",
      "source": [
        "#1 = non biased\n",
        "#0 = biased\n",
        "import time\n",
        "\n",
        "def num_non_biased(x_pred, classifier_model, shot_classifier_model):\n",
        "    start_ollama()\n",
        "    pull_model(classifier_model)\n",
        "    start_model(classifier_model)\n",
        "    time.sleep(500)\n",
        "    llm = Ollama(model=classifier_model, temperature=0)\n",
        "    y_pred = predict(llm,x_pred,shot_classifier_model,False)\n",
        "    return y_pred.count(1)"
      ],
      "metadata": {
        "id": "2MVG4A_wJQBk"
      },
      "execution_count": 29,
      "outputs": []
    },
    {
      "cell_type": "code",
      "source": [
        "# calcolo di risposte non-biased dei modelli\n",
        "\n",
        "#models = [\"llama31\",\"gemma2\",\"mistral\"]\n",
        "\n",
        "def frac_non_biased(x_pred,classifier_model,shot_classifier_model):\n",
        "  total_debiased = num_non_biased(x_pred,classifier_model,shot_classifier_model)\n",
        "  return total_debiased/len(x_test)\n",
        "\n",
        "#classifier_model =  \"gemma2\"\n",
        "#shot_classifier_model = 2\n",
        "#x_pred = load_json(f\"/content/drive/MyDrive/predictions_debiasing/debias_{model}.json\")\n",
        "#print(frac_non_biased(x_pred))"
      ],
      "metadata": {
        "id": "81SRpnQxTPNd"
      },
      "execution_count": 21,
      "outputs": []
    },
    {
      "cell_type": "markdown",
      "source": [
        "https://www.nltk.org/api/nltk.translate.bleu"
      ],
      "metadata": {
        "id": "6QxgAwf6JQBk"
      }
    },
    {
      "cell_type": "code",
      "source": [
        "import nltk\n",
        "from nltk.translate.bleu_score import sentence_bleu, SmoothingFunction\n",
        "from rouge_score import rouge_scorer\n",
        "from bert_score import score"
      ],
      "metadata": {
        "id": "WqJ_fAN3JQBk"
      },
      "execution_count": 22,
      "outputs": []
    },
    {
      "cell_type": "code",
      "source": [
        "# calcolo di tutte le metriche insieme e salvataggio nel df:\n",
        "def compute_result(model, x_test_biased, classifier_model, shot_classifier_model) -> pd.DataFrame:\n",
        "  x_pred = load_json(f\"/content/drive/MyDrive/predictions_debiasing/debias_{model}.json\")\n",
        "  x_test_list = list(x_test_biased)\n",
        "\n",
        "  print(\"Calculating fraction of non biased\")\n",
        "  frac_no_bias = frac_non_biased(x_pred, classifier_model, shot_classifier_model)\n",
        "\n",
        "  print(\"Calculating BLEU\")\n",
        "  smoothie = SmoothingFunction().method4\n",
        "  bleu_scores = []\n",
        "  for test, pred in tqdm(zip(x_test_list, x_pred)):\n",
        "    bleu_score = sentence_bleu([test.split()], pred.split(), smoothing_function=smoothie)\n",
        "    bleu_scores.append(bleu_score)\n",
        "\n",
        "  bleu = sum(bleu_scores)/len(x_test_list)\n",
        "\n",
        "  print(\"Calculating ROUGE\")\n",
        "  scorer = rouge_scorer.RougeScorer(['rouge1', 'rouge2', 'rougeL'], use_stemmer=True)\n",
        "  rouge_scores = {'rouge1': [], 'rouge2': [], 'rougeL': []}\n",
        "\n",
        "  for test, pred in tqdm(zip(x_test_list, x_pred)):\n",
        "    scores = scorer.score(test, pred)\n",
        "    rouge_scores['rouge1'].append(scores['rouge1'].fmeasure)\n",
        "    rouge_scores['rouge2'].append(scores['rouge2'].fmeasure)\n",
        "    rouge_scores['rougeL'].append(scores['rougeL'].fmeasure)\n",
        "\n",
        "  avg_rouge1 = sum(rouge_scores['rouge1']) / len(rouge_scores['rouge1'])\n",
        "  avg_rouge2 = sum(rouge_scores['rouge2']) / len(rouge_scores['rouge2'])\n",
        "  avg_rougeL = sum(rouge_scores['rougeL']) / len(rouge_scores['rougeL'])\n",
        "\n",
        "  print(\"Calculating BertScore\")\n",
        "  P, R, F1 = score(x_pred, x_test_list, lang='en', verbose=False)\n",
        "  #Precisione (P): Misura quanto delle parole generate sono semanticamente simili alle parole del riferimento.\n",
        "  #Richiamo (R): Misura quanto delle parole del riferimento sono state catturate nel testo generato.\n",
        "  #F1: Media armonica tra Precisione e Richiamo.\n",
        "\n",
        "\n",
        "  df = pd.DataFrame()\n",
        "  df[\"model\"] = [model]\n",
        "\n",
        "  df[\"frac_no_bias\"] = frac_no_bias\n",
        "\n",
        "  df[\"bleu\"] = bleu\n",
        "\n",
        "  df[\"avg_rouge1\"] = avg_rouge1\n",
        "  df[\"avg_rouge2\"] = avg_rouge2\n",
        "  df[\"avg_rougeL\"] = avg_rougeL\n",
        "\n",
        "  df[\"precision_bert_score\"] = P.mean().item()\n",
        "  df[\"recall_bert_score\"] = R.mean().item()\n",
        "  df[\"f1_bert_score\"] = F1.mean().item()\n",
        "\n",
        "  return df"
      ],
      "metadata": {
        "id": "EQGKbbyLSkNt"
      },
      "execution_count": 43,
      "outputs": []
    },
    {
      "cell_type": "code",
      "source": [
        "import openpyxl\n",
        "\n",
        "models = [\"llama31\",\"gemma2\",\"mistral\"]\n",
        "\n",
        "#classificatore di supporto\n",
        "\n",
        "classifier_model =  \"gemma2\"\n",
        "shot_classifier_model = 2\n",
        "\n",
        "excel_file = \"/content/drive/MyDrive/predictions_debiasing/debiasing_results.xlsx\"\n",
        "results = pd.DataFrame()\n",
        "for model in models:\n",
        "  new_row = compute_result(model, x_test_biased, classifier_model, shot_classifier_model)\n",
        "  results = pd.concat([results, new_row], ignore_index=True)\n",
        "\n",
        "print(results.round(3))\n",
        "\n",
        "results.round(3).to_excel(excel_file, index=False, engine='openpyxl')"
      ],
      "metadata": {
        "colab": {
          "base_uri": "https://localhost:8080/"
        },
        "id": "ymZUI3c9WGJj",
        "outputId": "0343cc3b-3a22-45a6-a9da-fd9b6a78460b"
      },
      "execution_count": null,
      "outputs": [
        {
          "output_type": "stream",
          "name": "stdout",
          "text": [
            "Calculating fraction of non biased\n",
            "\u001b[?25lpulling manifest ⠋ \u001b[?25h\u001b[?25l\u001b[2K\u001b[1Gpulling manifest ⠙ \u001b[?25h\u001b[?25l\u001b[2K\u001b[1Gpulling manifest \u001b[?25h\n",
            "Error: pull model manifest: file does not exist\n"
          ]
        }
      ]
    },
    {
      "cell_type": "code",
      "source": [],
      "metadata": {
        "id": "vYi06wTCeFbg"
      },
      "execution_count": null,
      "outputs": []
    }
  ]
}