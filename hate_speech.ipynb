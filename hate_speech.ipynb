{
  "metadata": {
    "kernelspec": {
      "display_name": "Python 3",
      "name": "python3"
    },
    "language_info": {
      "name": "python",
      "version": "3.10.13",
      "mimetype": "text/x-python",
      "codemirror_mode": {
        "name": "ipython",
        "version": 3
      },
      "pygments_lexer": "ipython3",
      "nbconvert_exporter": "python",
      "file_extension": ".py"
    },
    "kaggle": {
      "accelerator": "gpu",
      "dataSources": [
        {
          "sourceId": 7257995,
          "sourceType": "datasetVersion",
          "datasetId": 4205998
        }
      ],
      "dockerImageVersionId": 30747,
      "isInternetEnabled": true,
      "language": "python",
      "sourceType": "notebook",
      "isGpuEnabled": true
    },
    "colab": {
      "provenance": []
    },
    "widgets": {
      "application/vnd.jupyter.widget-state+json": {
        "d9ac8ff3103441bdb83c4d325cd483a7": {
          "model_module": "@jupyter-widgets/controls",
          "model_name": "HBoxModel",
          "model_module_version": "1.5.0",
          "state": {
            "_dom_classes": [],
            "_model_module": "@jupyter-widgets/controls",
            "_model_module_version": "1.5.0",
            "_model_name": "HBoxModel",
            "_view_count": null,
            "_view_module": "@jupyter-widgets/controls",
            "_view_module_version": "1.5.0",
            "_view_name": "HBoxView",
            "box_style": "",
            "children": [
              "IPY_MODEL_c4ac10e00d054f50bf971625f7173c11",
              "IPY_MODEL_1bf39edb31804d9b9e108ba344c27fc1",
              "IPY_MODEL_0e42ef1a41ae417292296249db918721"
            ],
            "layout": "IPY_MODEL_5b23e4e8563c4024bb59f8f6f59b8a26"
          }
        },
        "c4ac10e00d054f50bf971625f7173c11": {
          "model_module": "@jupyter-widgets/controls",
          "model_name": "HTMLModel",
          "model_module_version": "1.5.0",
          "state": {
            "_dom_classes": [],
            "_model_module": "@jupyter-widgets/controls",
            "_model_module_version": "1.5.0",
            "_model_name": "HTMLModel",
            "_view_count": null,
            "_view_module": "@jupyter-widgets/controls",
            "_view_module_version": "1.5.0",
            "_view_name": "HTMLView",
            "description": "",
            "description_tooltip": null,
            "layout": "IPY_MODEL_e6c166a9291043e2ac45d3911235b6e4",
            "placeholder": "​",
            "style": "IPY_MODEL_9b3f057546f847afb71eec63310a60a8",
            "value": "tokenizer_config.json: 100%"
          }
        },
        "1bf39edb31804d9b9e108ba344c27fc1": {
          "model_module": "@jupyter-widgets/controls",
          "model_name": "FloatProgressModel",
          "model_module_version": "1.5.0",
          "state": {
            "_dom_classes": [],
            "_model_module": "@jupyter-widgets/controls",
            "_model_module_version": "1.5.0",
            "_model_name": "FloatProgressModel",
            "_view_count": null,
            "_view_module": "@jupyter-widgets/controls",
            "_view_module_version": "1.5.0",
            "_view_name": "ProgressView",
            "bar_style": "success",
            "description": "",
            "description_tooltip": null,
            "layout": "IPY_MODEL_884c1c56cb1548ad8c1514adb6fb435b",
            "max": 25,
            "min": 0,
            "orientation": "horizontal",
            "style": "IPY_MODEL_1e8b3160a077428fa2d4465664e0fb25",
            "value": 25
          }
        },
        "0e42ef1a41ae417292296249db918721": {
          "model_module": "@jupyter-widgets/controls",
          "model_name": "HTMLModel",
          "model_module_version": "1.5.0",
          "state": {
            "_dom_classes": [],
            "_model_module": "@jupyter-widgets/controls",
            "_model_module_version": "1.5.0",
            "_model_name": "HTMLModel",
            "_view_count": null,
            "_view_module": "@jupyter-widgets/controls",
            "_view_module_version": "1.5.0",
            "_view_name": "HTMLView",
            "description": "",
            "description_tooltip": null,
            "layout": "IPY_MODEL_495e502f4e974973be99455683b67af5",
            "placeholder": "​",
            "style": "IPY_MODEL_d771389caf0c457789a3846c8aac1769",
            "value": " 25.0/25.0 [00:00&lt;00:00, 578B/s]"
          }
        },
        "5b23e4e8563c4024bb59f8f6f59b8a26": {
          "model_module": "@jupyter-widgets/base",
          "model_name": "LayoutModel",
          "model_module_version": "1.2.0",
          "state": {
            "_model_module": "@jupyter-widgets/base",
            "_model_module_version": "1.2.0",
            "_model_name": "LayoutModel",
            "_view_count": null,
            "_view_module": "@jupyter-widgets/base",
            "_view_module_version": "1.2.0",
            "_view_name": "LayoutView",
            "align_content": null,
            "align_items": null,
            "align_self": null,
            "border": null,
            "bottom": null,
            "display": null,
            "flex": null,
            "flex_flow": null,
            "grid_area": null,
            "grid_auto_columns": null,
            "grid_auto_flow": null,
            "grid_auto_rows": null,
            "grid_column": null,
            "grid_gap": null,
            "grid_row": null,
            "grid_template_areas": null,
            "grid_template_columns": null,
            "grid_template_rows": null,
            "height": null,
            "justify_content": null,
            "justify_items": null,
            "left": null,
            "margin": null,
            "max_height": null,
            "max_width": null,
            "min_height": null,
            "min_width": null,
            "object_fit": null,
            "object_position": null,
            "order": null,
            "overflow": null,
            "overflow_x": null,
            "overflow_y": null,
            "padding": null,
            "right": null,
            "top": null,
            "visibility": null,
            "width": null
          }
        },
        "e6c166a9291043e2ac45d3911235b6e4": {
          "model_module": "@jupyter-widgets/base",
          "model_name": "LayoutModel",
          "model_module_version": "1.2.0",
          "state": {
            "_model_module": "@jupyter-widgets/base",
            "_model_module_version": "1.2.0",
            "_model_name": "LayoutModel",
            "_view_count": null,
            "_view_module": "@jupyter-widgets/base",
            "_view_module_version": "1.2.0",
            "_view_name": "LayoutView",
            "align_content": null,
            "align_items": null,
            "align_self": null,
            "border": null,
            "bottom": null,
            "display": null,
            "flex": null,
            "flex_flow": null,
            "grid_area": null,
            "grid_auto_columns": null,
            "grid_auto_flow": null,
            "grid_auto_rows": null,
            "grid_column": null,
            "grid_gap": null,
            "grid_row": null,
            "grid_template_areas": null,
            "grid_template_columns": null,
            "grid_template_rows": null,
            "height": null,
            "justify_content": null,
            "justify_items": null,
            "left": null,
            "margin": null,
            "max_height": null,
            "max_width": null,
            "min_height": null,
            "min_width": null,
            "object_fit": null,
            "object_position": null,
            "order": null,
            "overflow": null,
            "overflow_x": null,
            "overflow_y": null,
            "padding": null,
            "right": null,
            "top": null,
            "visibility": null,
            "width": null
          }
        },
        "9b3f057546f847afb71eec63310a60a8": {
          "model_module": "@jupyter-widgets/controls",
          "model_name": "DescriptionStyleModel",
          "model_module_version": "1.5.0",
          "state": {
            "_model_module": "@jupyter-widgets/controls",
            "_model_module_version": "1.5.0",
            "_model_name": "DescriptionStyleModel",
            "_view_count": null,
            "_view_module": "@jupyter-widgets/base",
            "_view_module_version": "1.2.0",
            "_view_name": "StyleView",
            "description_width": ""
          }
        },
        "884c1c56cb1548ad8c1514adb6fb435b": {
          "model_module": "@jupyter-widgets/base",
          "model_name": "LayoutModel",
          "model_module_version": "1.2.0",
          "state": {
            "_model_module": "@jupyter-widgets/base",
            "_model_module_version": "1.2.0",
            "_model_name": "LayoutModel",
            "_view_count": null,
            "_view_module": "@jupyter-widgets/base",
            "_view_module_version": "1.2.0",
            "_view_name": "LayoutView",
            "align_content": null,
            "align_items": null,
            "align_self": null,
            "border": null,
            "bottom": null,
            "display": null,
            "flex": null,
            "flex_flow": null,
            "grid_area": null,
            "grid_auto_columns": null,
            "grid_auto_flow": null,
            "grid_auto_rows": null,
            "grid_column": null,
            "grid_gap": null,
            "grid_row": null,
            "grid_template_areas": null,
            "grid_template_columns": null,
            "grid_template_rows": null,
            "height": null,
            "justify_content": null,
            "justify_items": null,
            "left": null,
            "margin": null,
            "max_height": null,
            "max_width": null,
            "min_height": null,
            "min_width": null,
            "object_fit": null,
            "object_position": null,
            "order": null,
            "overflow": null,
            "overflow_x": null,
            "overflow_y": null,
            "padding": null,
            "right": null,
            "top": null,
            "visibility": null,
            "width": null
          }
        },
        "1e8b3160a077428fa2d4465664e0fb25": {
          "model_module": "@jupyter-widgets/controls",
          "model_name": "ProgressStyleModel",
          "model_module_version": "1.5.0",
          "state": {
            "_model_module": "@jupyter-widgets/controls",
            "_model_module_version": "1.5.0",
            "_model_name": "ProgressStyleModel",
            "_view_count": null,
            "_view_module": "@jupyter-widgets/base",
            "_view_module_version": "1.2.0",
            "_view_name": "StyleView",
            "bar_color": null,
            "description_width": ""
          }
        },
        "495e502f4e974973be99455683b67af5": {
          "model_module": "@jupyter-widgets/base",
          "model_name": "LayoutModel",
          "model_module_version": "1.2.0",
          "state": {
            "_model_module": "@jupyter-widgets/base",
            "_model_module_version": "1.2.0",
            "_model_name": "LayoutModel",
            "_view_count": null,
            "_view_module": "@jupyter-widgets/base",
            "_view_module_version": "1.2.0",
            "_view_name": "LayoutView",
            "align_content": null,
            "align_items": null,
            "align_self": null,
            "border": null,
            "bottom": null,
            "display": null,
            "flex": null,
            "flex_flow": null,
            "grid_area": null,
            "grid_auto_columns": null,
            "grid_auto_flow": null,
            "grid_auto_rows": null,
            "grid_column": null,
            "grid_gap": null,
            "grid_row": null,
            "grid_template_areas": null,
            "grid_template_columns": null,
            "grid_template_rows": null,
            "height": null,
            "justify_content": null,
            "justify_items": null,
            "left": null,
            "margin": null,
            "max_height": null,
            "max_width": null,
            "min_height": null,
            "min_width": null,
            "object_fit": null,
            "object_position": null,
            "order": null,
            "overflow": null,
            "overflow_x": null,
            "overflow_y": null,
            "padding": null,
            "right": null,
            "top": null,
            "visibility": null,
            "width": null
          }
        },
        "d771389caf0c457789a3846c8aac1769": {
          "model_module": "@jupyter-widgets/controls",
          "model_name": "DescriptionStyleModel",
          "model_module_version": "1.5.0",
          "state": {
            "_model_module": "@jupyter-widgets/controls",
            "_model_module_version": "1.5.0",
            "_model_name": "DescriptionStyleModel",
            "_view_count": null,
            "_view_module": "@jupyter-widgets/base",
            "_view_module_version": "1.2.0",
            "_view_name": "StyleView",
            "description_width": ""
          }
        },
        "4aa54acc87af4b48909587d0e8517dbd": {
          "model_module": "@jupyter-widgets/controls",
          "model_name": "HBoxModel",
          "model_module_version": "1.5.0",
          "state": {
            "_dom_classes": [],
            "_model_module": "@jupyter-widgets/controls",
            "_model_module_version": "1.5.0",
            "_model_name": "HBoxModel",
            "_view_count": null,
            "_view_module": "@jupyter-widgets/controls",
            "_view_module_version": "1.5.0",
            "_view_name": "HBoxView",
            "box_style": "",
            "children": [
              "IPY_MODEL_d4f5f1a4b3184a8cb650aa660eb53e00",
              "IPY_MODEL_7bd5e6d48a9c49b6a922db8de29c6e97",
              "IPY_MODEL_42e4f3618bc643e1891568f6b57d1462"
            ],
            "layout": "IPY_MODEL_2c5a64b0fc3d4f7fb607978c997bebaa"
          }
        },
        "d4f5f1a4b3184a8cb650aa660eb53e00": {
          "model_module": "@jupyter-widgets/controls",
          "model_name": "HTMLModel",
          "model_module_version": "1.5.0",
          "state": {
            "_dom_classes": [],
            "_model_module": "@jupyter-widgets/controls",
            "_model_module_version": "1.5.0",
            "_model_name": "HTMLModel",
            "_view_count": null,
            "_view_module": "@jupyter-widgets/controls",
            "_view_module_version": "1.5.0",
            "_view_name": "HTMLView",
            "description": "",
            "description_tooltip": null,
            "layout": "IPY_MODEL_0b593fed5169446b902497a5d8f54c17",
            "placeholder": "​",
            "style": "IPY_MODEL_6f4e54c4448e45b5a9c71ce8178978a9",
            "value": "vocab.json: 100%"
          }
        },
        "7bd5e6d48a9c49b6a922db8de29c6e97": {
          "model_module": "@jupyter-widgets/controls",
          "model_name": "FloatProgressModel",
          "model_module_version": "1.5.0",
          "state": {
            "_dom_classes": [],
            "_model_module": "@jupyter-widgets/controls",
            "_model_module_version": "1.5.0",
            "_model_name": "FloatProgressModel",
            "_view_count": null,
            "_view_module": "@jupyter-widgets/controls",
            "_view_module_version": "1.5.0",
            "_view_name": "ProgressView",
            "bar_style": "success",
            "description": "",
            "description_tooltip": null,
            "layout": "IPY_MODEL_3df847882d124c2d80693ed1ff7e3c1b",
            "max": 898823,
            "min": 0,
            "orientation": "horizontal",
            "style": "IPY_MODEL_a4434c79f5ba405cb692214a1327e020",
            "value": 898823
          }
        },
        "42e4f3618bc643e1891568f6b57d1462": {
          "model_module": "@jupyter-widgets/controls",
          "model_name": "HTMLModel",
          "model_module_version": "1.5.0",
          "state": {
            "_dom_classes": [],
            "_model_module": "@jupyter-widgets/controls",
            "_model_module_version": "1.5.0",
            "_model_name": "HTMLModel",
            "_view_count": null,
            "_view_module": "@jupyter-widgets/controls",
            "_view_module_version": "1.5.0",
            "_view_name": "HTMLView",
            "description": "",
            "description_tooltip": null,
            "layout": "IPY_MODEL_d47d004bb11f498489a8a4017bd332dd",
            "placeholder": "​",
            "style": "IPY_MODEL_90d189eaf5a34dc9af4dce41bc05bc41",
            "value": " 899k/899k [00:00&lt;00:00, 6.36MB/s]"
          }
        },
        "2c5a64b0fc3d4f7fb607978c997bebaa": {
          "model_module": "@jupyter-widgets/base",
          "model_name": "LayoutModel",
          "model_module_version": "1.2.0",
          "state": {
            "_model_module": "@jupyter-widgets/base",
            "_model_module_version": "1.2.0",
            "_model_name": "LayoutModel",
            "_view_count": null,
            "_view_module": "@jupyter-widgets/base",
            "_view_module_version": "1.2.0",
            "_view_name": "LayoutView",
            "align_content": null,
            "align_items": null,
            "align_self": null,
            "border": null,
            "bottom": null,
            "display": null,
            "flex": null,
            "flex_flow": null,
            "grid_area": null,
            "grid_auto_columns": null,
            "grid_auto_flow": null,
            "grid_auto_rows": null,
            "grid_column": null,
            "grid_gap": null,
            "grid_row": null,
            "grid_template_areas": null,
            "grid_template_columns": null,
            "grid_template_rows": null,
            "height": null,
            "justify_content": null,
            "justify_items": null,
            "left": null,
            "margin": null,
            "max_height": null,
            "max_width": null,
            "min_height": null,
            "min_width": null,
            "object_fit": null,
            "object_position": null,
            "order": null,
            "overflow": null,
            "overflow_x": null,
            "overflow_y": null,
            "padding": null,
            "right": null,
            "top": null,
            "visibility": null,
            "width": null
          }
        },
        "0b593fed5169446b902497a5d8f54c17": {
          "model_module": "@jupyter-widgets/base",
          "model_name": "LayoutModel",
          "model_module_version": "1.2.0",
          "state": {
            "_model_module": "@jupyter-widgets/base",
            "_model_module_version": "1.2.0",
            "_model_name": "LayoutModel",
            "_view_count": null,
            "_view_module": "@jupyter-widgets/base",
            "_view_module_version": "1.2.0",
            "_view_name": "LayoutView",
            "align_content": null,
            "align_items": null,
            "align_self": null,
            "border": null,
            "bottom": null,
            "display": null,
            "flex": null,
            "flex_flow": null,
            "grid_area": null,
            "grid_auto_columns": null,
            "grid_auto_flow": null,
            "grid_auto_rows": null,
            "grid_column": null,
            "grid_gap": null,
            "grid_row": null,
            "grid_template_areas": null,
            "grid_template_columns": null,
            "grid_template_rows": null,
            "height": null,
            "justify_content": null,
            "justify_items": null,
            "left": null,
            "margin": null,
            "max_height": null,
            "max_width": null,
            "min_height": null,
            "min_width": null,
            "object_fit": null,
            "object_position": null,
            "order": null,
            "overflow": null,
            "overflow_x": null,
            "overflow_y": null,
            "padding": null,
            "right": null,
            "top": null,
            "visibility": null,
            "width": null
          }
        },
        "6f4e54c4448e45b5a9c71ce8178978a9": {
          "model_module": "@jupyter-widgets/controls",
          "model_name": "DescriptionStyleModel",
          "model_module_version": "1.5.0",
          "state": {
            "_model_module": "@jupyter-widgets/controls",
            "_model_module_version": "1.5.0",
            "_model_name": "DescriptionStyleModel",
            "_view_count": null,
            "_view_module": "@jupyter-widgets/base",
            "_view_module_version": "1.2.0",
            "_view_name": "StyleView",
            "description_width": ""
          }
        },
        "3df847882d124c2d80693ed1ff7e3c1b": {
          "model_module": "@jupyter-widgets/base",
          "model_name": "LayoutModel",
          "model_module_version": "1.2.0",
          "state": {
            "_model_module": "@jupyter-widgets/base",
            "_model_module_version": "1.2.0",
            "_model_name": "LayoutModel",
            "_view_count": null,
            "_view_module": "@jupyter-widgets/base",
            "_view_module_version": "1.2.0",
            "_view_name": "LayoutView",
            "align_content": null,
            "align_items": null,
            "align_self": null,
            "border": null,
            "bottom": null,
            "display": null,
            "flex": null,
            "flex_flow": null,
            "grid_area": null,
            "grid_auto_columns": null,
            "grid_auto_flow": null,
            "grid_auto_rows": null,
            "grid_column": null,
            "grid_gap": null,
            "grid_row": null,
            "grid_template_areas": null,
            "grid_template_columns": null,
            "grid_template_rows": null,
            "height": null,
            "justify_content": null,
            "justify_items": null,
            "left": null,
            "margin": null,
            "max_height": null,
            "max_width": null,
            "min_height": null,
            "min_width": null,
            "object_fit": null,
            "object_position": null,
            "order": null,
            "overflow": null,
            "overflow_x": null,
            "overflow_y": null,
            "padding": null,
            "right": null,
            "top": null,
            "visibility": null,
            "width": null
          }
        },
        "a4434c79f5ba405cb692214a1327e020": {
          "model_module": "@jupyter-widgets/controls",
          "model_name": "ProgressStyleModel",
          "model_module_version": "1.5.0",
          "state": {
            "_model_module": "@jupyter-widgets/controls",
            "_model_module_version": "1.5.0",
            "_model_name": "ProgressStyleModel",
            "_view_count": null,
            "_view_module": "@jupyter-widgets/base",
            "_view_module_version": "1.2.0",
            "_view_name": "StyleView",
            "bar_color": null,
            "description_width": ""
          }
        },
        "d47d004bb11f498489a8a4017bd332dd": {
          "model_module": "@jupyter-widgets/base",
          "model_name": "LayoutModel",
          "model_module_version": "1.2.0",
          "state": {
            "_model_module": "@jupyter-widgets/base",
            "_model_module_version": "1.2.0",
            "_model_name": "LayoutModel",
            "_view_count": null,
            "_view_module": "@jupyter-widgets/base",
            "_view_module_version": "1.2.0",
            "_view_name": "LayoutView",
            "align_content": null,
            "align_items": null,
            "align_self": null,
            "border": null,
            "bottom": null,
            "display": null,
            "flex": null,
            "flex_flow": null,
            "grid_area": null,
            "grid_auto_columns": null,
            "grid_auto_flow": null,
            "grid_auto_rows": null,
            "grid_column": null,
            "grid_gap": null,
            "grid_row": null,
            "grid_template_areas": null,
            "grid_template_columns": null,
            "grid_template_rows": null,
            "height": null,
            "justify_content": null,
            "justify_items": null,
            "left": null,
            "margin": null,
            "max_height": null,
            "max_width": null,
            "min_height": null,
            "min_width": null,
            "object_fit": null,
            "object_position": null,
            "order": null,
            "overflow": null,
            "overflow_x": null,
            "overflow_y": null,
            "padding": null,
            "right": null,
            "top": null,
            "visibility": null,
            "width": null
          }
        },
        "90d189eaf5a34dc9af4dce41bc05bc41": {
          "model_module": "@jupyter-widgets/controls",
          "model_name": "DescriptionStyleModel",
          "model_module_version": "1.5.0",
          "state": {
            "_model_module": "@jupyter-widgets/controls",
            "_model_module_version": "1.5.0",
            "_model_name": "DescriptionStyleModel",
            "_view_count": null,
            "_view_module": "@jupyter-widgets/base",
            "_view_module_version": "1.2.0",
            "_view_name": "StyleView",
            "description_width": ""
          }
        },
        "0d07bd2a4df54265942042db4396d2d0": {
          "model_module": "@jupyter-widgets/controls",
          "model_name": "HBoxModel",
          "model_module_version": "1.5.0",
          "state": {
            "_dom_classes": [],
            "_model_module": "@jupyter-widgets/controls",
            "_model_module_version": "1.5.0",
            "_model_name": "HBoxModel",
            "_view_count": null,
            "_view_module": "@jupyter-widgets/controls",
            "_view_module_version": "1.5.0",
            "_view_name": "HBoxView",
            "box_style": "",
            "children": [
              "IPY_MODEL_02f08a0799b342cb8e499a2aa2c4ca99",
              "IPY_MODEL_9c891d83e5834765bccb8610f9841c8e",
              "IPY_MODEL_2975832aee0c4c0b9fbc002e26553938"
            ],
            "layout": "IPY_MODEL_d5d489e0fb0f4bee86b849f8d73f80fb"
          }
        },
        "02f08a0799b342cb8e499a2aa2c4ca99": {
          "model_module": "@jupyter-widgets/controls",
          "model_name": "HTMLModel",
          "model_module_version": "1.5.0",
          "state": {
            "_dom_classes": [],
            "_model_module": "@jupyter-widgets/controls",
            "_model_module_version": "1.5.0",
            "_model_name": "HTMLModel",
            "_view_count": null,
            "_view_module": "@jupyter-widgets/controls",
            "_view_module_version": "1.5.0",
            "_view_name": "HTMLView",
            "description": "",
            "description_tooltip": null,
            "layout": "IPY_MODEL_0906f96e7350472d92a9222e34b34813",
            "placeholder": "​",
            "style": "IPY_MODEL_22d46e01e88c497aaa2ce36ffb369c9d",
            "value": "merges.txt: 100%"
          }
        },
        "9c891d83e5834765bccb8610f9841c8e": {
          "model_module": "@jupyter-widgets/controls",
          "model_name": "FloatProgressModel",
          "model_module_version": "1.5.0",
          "state": {
            "_dom_classes": [],
            "_model_module": "@jupyter-widgets/controls",
            "_model_module_version": "1.5.0",
            "_model_name": "FloatProgressModel",
            "_view_count": null,
            "_view_module": "@jupyter-widgets/controls",
            "_view_module_version": "1.5.0",
            "_view_name": "ProgressView",
            "bar_style": "success",
            "description": "",
            "description_tooltip": null,
            "layout": "IPY_MODEL_61ccf674ec5244919266d98d7d870444",
            "max": 456318,
            "min": 0,
            "orientation": "horizontal",
            "style": "IPY_MODEL_9ad3116406ee418b9707d855de9337a4",
            "value": 456318
          }
        },
        "2975832aee0c4c0b9fbc002e26553938": {
          "model_module": "@jupyter-widgets/controls",
          "model_name": "HTMLModel",
          "model_module_version": "1.5.0",
          "state": {
            "_dom_classes": [],
            "_model_module": "@jupyter-widgets/controls",
            "_model_module_version": "1.5.0",
            "_model_name": "HTMLModel",
            "_view_count": null,
            "_view_module": "@jupyter-widgets/controls",
            "_view_module_version": "1.5.0",
            "_view_name": "HTMLView",
            "description": "",
            "description_tooltip": null,
            "layout": "IPY_MODEL_0096b399f87e4fcd9ba648f73c55bac8",
            "placeholder": "​",
            "style": "IPY_MODEL_aaef82b6ae3d4a23baa85c47f1a3879b",
            "value": " 456k/456k [00:00&lt;00:00, 6.81MB/s]"
          }
        },
        "d5d489e0fb0f4bee86b849f8d73f80fb": {
          "model_module": "@jupyter-widgets/base",
          "model_name": "LayoutModel",
          "model_module_version": "1.2.0",
          "state": {
            "_model_module": "@jupyter-widgets/base",
            "_model_module_version": "1.2.0",
            "_model_name": "LayoutModel",
            "_view_count": null,
            "_view_module": "@jupyter-widgets/base",
            "_view_module_version": "1.2.0",
            "_view_name": "LayoutView",
            "align_content": null,
            "align_items": null,
            "align_self": null,
            "border": null,
            "bottom": null,
            "display": null,
            "flex": null,
            "flex_flow": null,
            "grid_area": null,
            "grid_auto_columns": null,
            "grid_auto_flow": null,
            "grid_auto_rows": null,
            "grid_column": null,
            "grid_gap": null,
            "grid_row": null,
            "grid_template_areas": null,
            "grid_template_columns": null,
            "grid_template_rows": null,
            "height": null,
            "justify_content": null,
            "justify_items": null,
            "left": null,
            "margin": null,
            "max_height": null,
            "max_width": null,
            "min_height": null,
            "min_width": null,
            "object_fit": null,
            "object_position": null,
            "order": null,
            "overflow": null,
            "overflow_x": null,
            "overflow_y": null,
            "padding": null,
            "right": null,
            "top": null,
            "visibility": null,
            "width": null
          }
        },
        "0906f96e7350472d92a9222e34b34813": {
          "model_module": "@jupyter-widgets/base",
          "model_name": "LayoutModel",
          "model_module_version": "1.2.0",
          "state": {
            "_model_module": "@jupyter-widgets/base",
            "_model_module_version": "1.2.0",
            "_model_name": "LayoutModel",
            "_view_count": null,
            "_view_module": "@jupyter-widgets/base",
            "_view_module_version": "1.2.0",
            "_view_name": "LayoutView",
            "align_content": null,
            "align_items": null,
            "align_self": null,
            "border": null,
            "bottom": null,
            "display": null,
            "flex": null,
            "flex_flow": null,
            "grid_area": null,
            "grid_auto_columns": null,
            "grid_auto_flow": null,
            "grid_auto_rows": null,
            "grid_column": null,
            "grid_gap": null,
            "grid_row": null,
            "grid_template_areas": null,
            "grid_template_columns": null,
            "grid_template_rows": null,
            "height": null,
            "justify_content": null,
            "justify_items": null,
            "left": null,
            "margin": null,
            "max_height": null,
            "max_width": null,
            "min_height": null,
            "min_width": null,
            "object_fit": null,
            "object_position": null,
            "order": null,
            "overflow": null,
            "overflow_x": null,
            "overflow_y": null,
            "padding": null,
            "right": null,
            "top": null,
            "visibility": null,
            "width": null
          }
        },
        "22d46e01e88c497aaa2ce36ffb369c9d": {
          "model_module": "@jupyter-widgets/controls",
          "model_name": "DescriptionStyleModel",
          "model_module_version": "1.5.0",
          "state": {
            "_model_module": "@jupyter-widgets/controls",
            "_model_module_version": "1.5.0",
            "_model_name": "DescriptionStyleModel",
            "_view_count": null,
            "_view_module": "@jupyter-widgets/base",
            "_view_module_version": "1.2.0",
            "_view_name": "StyleView",
            "description_width": ""
          }
        },
        "61ccf674ec5244919266d98d7d870444": {
          "model_module": "@jupyter-widgets/base",
          "model_name": "LayoutModel",
          "model_module_version": "1.2.0",
          "state": {
            "_model_module": "@jupyter-widgets/base",
            "_model_module_version": "1.2.0",
            "_model_name": "LayoutModel",
            "_view_count": null,
            "_view_module": "@jupyter-widgets/base",
            "_view_module_version": "1.2.0",
            "_view_name": "LayoutView",
            "align_content": null,
            "align_items": null,
            "align_self": null,
            "border": null,
            "bottom": null,
            "display": null,
            "flex": null,
            "flex_flow": null,
            "grid_area": null,
            "grid_auto_columns": null,
            "grid_auto_flow": null,
            "grid_auto_rows": null,
            "grid_column": null,
            "grid_gap": null,
            "grid_row": null,
            "grid_template_areas": null,
            "grid_template_columns": null,
            "grid_template_rows": null,
            "height": null,
            "justify_content": null,
            "justify_items": null,
            "left": null,
            "margin": null,
            "max_height": null,
            "max_width": null,
            "min_height": null,
            "min_width": null,
            "object_fit": null,
            "object_position": null,
            "order": null,
            "overflow": null,
            "overflow_x": null,
            "overflow_y": null,
            "padding": null,
            "right": null,
            "top": null,
            "visibility": null,
            "width": null
          }
        },
        "9ad3116406ee418b9707d855de9337a4": {
          "model_module": "@jupyter-widgets/controls",
          "model_name": "ProgressStyleModel",
          "model_module_version": "1.5.0",
          "state": {
            "_model_module": "@jupyter-widgets/controls",
            "_model_module_version": "1.5.0",
            "_model_name": "ProgressStyleModel",
            "_view_count": null,
            "_view_module": "@jupyter-widgets/base",
            "_view_module_version": "1.2.0",
            "_view_name": "StyleView",
            "bar_color": null,
            "description_width": ""
          }
        },
        "0096b399f87e4fcd9ba648f73c55bac8": {
          "model_module": "@jupyter-widgets/base",
          "model_name": "LayoutModel",
          "model_module_version": "1.2.0",
          "state": {
            "_model_module": "@jupyter-widgets/base",
            "_model_module_version": "1.2.0",
            "_model_name": "LayoutModel",
            "_view_count": null,
            "_view_module": "@jupyter-widgets/base",
            "_view_module_version": "1.2.0",
            "_view_name": "LayoutView",
            "align_content": null,
            "align_items": null,
            "align_self": null,
            "border": null,
            "bottom": null,
            "display": null,
            "flex": null,
            "flex_flow": null,
            "grid_area": null,
            "grid_auto_columns": null,
            "grid_auto_flow": null,
            "grid_auto_rows": null,
            "grid_column": null,
            "grid_gap": null,
            "grid_row": null,
            "grid_template_areas": null,
            "grid_template_columns": null,
            "grid_template_rows": null,
            "height": null,
            "justify_content": null,
            "justify_items": null,
            "left": null,
            "margin": null,
            "max_height": null,
            "max_width": null,
            "min_height": null,
            "min_width": null,
            "object_fit": null,
            "object_position": null,
            "order": null,
            "overflow": null,
            "overflow_x": null,
            "overflow_y": null,
            "padding": null,
            "right": null,
            "top": null,
            "visibility": null,
            "width": null
          }
        },
        "aaef82b6ae3d4a23baa85c47f1a3879b": {
          "model_module": "@jupyter-widgets/controls",
          "model_name": "DescriptionStyleModel",
          "model_module_version": "1.5.0",
          "state": {
            "_model_module": "@jupyter-widgets/controls",
            "_model_module_version": "1.5.0",
            "_model_name": "DescriptionStyleModel",
            "_view_count": null,
            "_view_module": "@jupyter-widgets/base",
            "_view_module_version": "1.2.0",
            "_view_name": "StyleView",
            "description_width": ""
          }
        },
        "89274350d5fe46bc8fe9b25f8a3c449e": {
          "model_module": "@jupyter-widgets/controls",
          "model_name": "HBoxModel",
          "model_module_version": "1.5.0",
          "state": {
            "_dom_classes": [],
            "_model_module": "@jupyter-widgets/controls",
            "_model_module_version": "1.5.0",
            "_model_name": "HBoxModel",
            "_view_count": null,
            "_view_module": "@jupyter-widgets/controls",
            "_view_module_version": "1.5.0",
            "_view_name": "HBoxView",
            "box_style": "",
            "children": [
              "IPY_MODEL_c5f14a0e83664a9093a1c55afcb3b3a1",
              "IPY_MODEL_a7283c2485534183a66668d108ba744a",
              "IPY_MODEL_feea0a4149854c618224779e1ffa16f6"
            ],
            "layout": "IPY_MODEL_860496d1f4804648a3af8e60ec33c5ac"
          }
        },
        "c5f14a0e83664a9093a1c55afcb3b3a1": {
          "model_module": "@jupyter-widgets/controls",
          "model_name": "HTMLModel",
          "model_module_version": "1.5.0",
          "state": {
            "_dom_classes": [],
            "_model_module": "@jupyter-widgets/controls",
            "_model_module_version": "1.5.0",
            "_model_name": "HTMLModel",
            "_view_count": null,
            "_view_module": "@jupyter-widgets/controls",
            "_view_module_version": "1.5.0",
            "_view_name": "HTMLView",
            "description": "",
            "description_tooltip": null,
            "layout": "IPY_MODEL_15e683f8cae54c7db7fe03e9be5e3b31",
            "placeholder": "​",
            "style": "IPY_MODEL_25548e52fdd4436c88fa8e142768c981",
            "value": "tokenizer.json: 100%"
          }
        },
        "a7283c2485534183a66668d108ba744a": {
          "model_module": "@jupyter-widgets/controls",
          "model_name": "FloatProgressModel",
          "model_module_version": "1.5.0",
          "state": {
            "_dom_classes": [],
            "_model_module": "@jupyter-widgets/controls",
            "_model_module_version": "1.5.0",
            "_model_name": "FloatProgressModel",
            "_view_count": null,
            "_view_module": "@jupyter-widgets/controls",
            "_view_module_version": "1.5.0",
            "_view_name": "ProgressView",
            "bar_style": "success",
            "description": "",
            "description_tooltip": null,
            "layout": "IPY_MODEL_fc3e837b595c4930871be74b17c5dacd",
            "max": 1355863,
            "min": 0,
            "orientation": "horizontal",
            "style": "IPY_MODEL_6d75ed0be0184b2b9956e2b3813e1dda",
            "value": 1355863
          }
        },
        "feea0a4149854c618224779e1ffa16f6": {
          "model_module": "@jupyter-widgets/controls",
          "model_name": "HTMLModel",
          "model_module_version": "1.5.0",
          "state": {
            "_dom_classes": [],
            "_model_module": "@jupyter-widgets/controls",
            "_model_module_version": "1.5.0",
            "_model_name": "HTMLModel",
            "_view_count": null,
            "_view_module": "@jupyter-widgets/controls",
            "_view_module_version": "1.5.0",
            "_view_name": "HTMLView",
            "description": "",
            "description_tooltip": null,
            "layout": "IPY_MODEL_5fdcf337e78842c7b0bbfab02a8c2cdf",
            "placeholder": "​",
            "style": "IPY_MODEL_6de579052134427882824cd9d3f226ec",
            "value": " 1.36M/1.36M [00:00&lt;00:00, 9.87MB/s]"
          }
        },
        "860496d1f4804648a3af8e60ec33c5ac": {
          "model_module": "@jupyter-widgets/base",
          "model_name": "LayoutModel",
          "model_module_version": "1.2.0",
          "state": {
            "_model_module": "@jupyter-widgets/base",
            "_model_module_version": "1.2.0",
            "_model_name": "LayoutModel",
            "_view_count": null,
            "_view_module": "@jupyter-widgets/base",
            "_view_module_version": "1.2.0",
            "_view_name": "LayoutView",
            "align_content": null,
            "align_items": null,
            "align_self": null,
            "border": null,
            "bottom": null,
            "display": null,
            "flex": null,
            "flex_flow": null,
            "grid_area": null,
            "grid_auto_columns": null,
            "grid_auto_flow": null,
            "grid_auto_rows": null,
            "grid_column": null,
            "grid_gap": null,
            "grid_row": null,
            "grid_template_areas": null,
            "grid_template_columns": null,
            "grid_template_rows": null,
            "height": null,
            "justify_content": null,
            "justify_items": null,
            "left": null,
            "margin": null,
            "max_height": null,
            "max_width": null,
            "min_height": null,
            "min_width": null,
            "object_fit": null,
            "object_position": null,
            "order": null,
            "overflow": null,
            "overflow_x": null,
            "overflow_y": null,
            "padding": null,
            "right": null,
            "top": null,
            "visibility": null,
            "width": null
          }
        },
        "15e683f8cae54c7db7fe03e9be5e3b31": {
          "model_module": "@jupyter-widgets/base",
          "model_name": "LayoutModel",
          "model_module_version": "1.2.0",
          "state": {
            "_model_module": "@jupyter-widgets/base",
            "_model_module_version": "1.2.0",
            "_model_name": "LayoutModel",
            "_view_count": null,
            "_view_module": "@jupyter-widgets/base",
            "_view_module_version": "1.2.0",
            "_view_name": "LayoutView",
            "align_content": null,
            "align_items": null,
            "align_self": null,
            "border": null,
            "bottom": null,
            "display": null,
            "flex": null,
            "flex_flow": null,
            "grid_area": null,
            "grid_auto_columns": null,
            "grid_auto_flow": null,
            "grid_auto_rows": null,
            "grid_column": null,
            "grid_gap": null,
            "grid_row": null,
            "grid_template_areas": null,
            "grid_template_columns": null,
            "grid_template_rows": null,
            "height": null,
            "justify_content": null,
            "justify_items": null,
            "left": null,
            "margin": null,
            "max_height": null,
            "max_width": null,
            "min_height": null,
            "min_width": null,
            "object_fit": null,
            "object_position": null,
            "order": null,
            "overflow": null,
            "overflow_x": null,
            "overflow_y": null,
            "padding": null,
            "right": null,
            "top": null,
            "visibility": null,
            "width": null
          }
        },
        "25548e52fdd4436c88fa8e142768c981": {
          "model_module": "@jupyter-widgets/controls",
          "model_name": "DescriptionStyleModel",
          "model_module_version": "1.5.0",
          "state": {
            "_model_module": "@jupyter-widgets/controls",
            "_model_module_version": "1.5.0",
            "_model_name": "DescriptionStyleModel",
            "_view_count": null,
            "_view_module": "@jupyter-widgets/base",
            "_view_module_version": "1.2.0",
            "_view_name": "StyleView",
            "description_width": ""
          }
        },
        "fc3e837b595c4930871be74b17c5dacd": {
          "model_module": "@jupyter-widgets/base",
          "model_name": "LayoutModel",
          "model_module_version": "1.2.0",
          "state": {
            "_model_module": "@jupyter-widgets/base",
            "_model_module_version": "1.2.0",
            "_model_name": "LayoutModel",
            "_view_count": null,
            "_view_module": "@jupyter-widgets/base",
            "_view_module_version": "1.2.0",
            "_view_name": "LayoutView",
            "align_content": null,
            "align_items": null,
            "align_self": null,
            "border": null,
            "bottom": null,
            "display": null,
            "flex": null,
            "flex_flow": null,
            "grid_area": null,
            "grid_auto_columns": null,
            "grid_auto_flow": null,
            "grid_auto_rows": null,
            "grid_column": null,
            "grid_gap": null,
            "grid_row": null,
            "grid_template_areas": null,
            "grid_template_columns": null,
            "grid_template_rows": null,
            "height": null,
            "justify_content": null,
            "justify_items": null,
            "left": null,
            "margin": null,
            "max_height": null,
            "max_width": null,
            "min_height": null,
            "min_width": null,
            "object_fit": null,
            "object_position": null,
            "order": null,
            "overflow": null,
            "overflow_x": null,
            "overflow_y": null,
            "padding": null,
            "right": null,
            "top": null,
            "visibility": null,
            "width": null
          }
        },
        "6d75ed0be0184b2b9956e2b3813e1dda": {
          "model_module": "@jupyter-widgets/controls",
          "model_name": "ProgressStyleModel",
          "model_module_version": "1.5.0",
          "state": {
            "_model_module": "@jupyter-widgets/controls",
            "_model_module_version": "1.5.0",
            "_model_name": "ProgressStyleModel",
            "_view_count": null,
            "_view_module": "@jupyter-widgets/base",
            "_view_module_version": "1.2.0",
            "_view_name": "StyleView",
            "bar_color": null,
            "description_width": ""
          }
        },
        "5fdcf337e78842c7b0bbfab02a8c2cdf": {
          "model_module": "@jupyter-widgets/base",
          "model_name": "LayoutModel",
          "model_module_version": "1.2.0",
          "state": {
            "_model_module": "@jupyter-widgets/base",
            "_model_module_version": "1.2.0",
            "_model_name": "LayoutModel",
            "_view_count": null,
            "_view_module": "@jupyter-widgets/base",
            "_view_module_version": "1.2.0",
            "_view_name": "LayoutView",
            "align_content": null,
            "align_items": null,
            "align_self": null,
            "border": null,
            "bottom": null,
            "display": null,
            "flex": null,
            "flex_flow": null,
            "grid_area": null,
            "grid_auto_columns": null,
            "grid_auto_flow": null,
            "grid_auto_rows": null,
            "grid_column": null,
            "grid_gap": null,
            "grid_row": null,
            "grid_template_areas": null,
            "grid_template_columns": null,
            "grid_template_rows": null,
            "height": null,
            "justify_content": null,
            "justify_items": null,
            "left": null,
            "margin": null,
            "max_height": null,
            "max_width": null,
            "min_height": null,
            "min_width": null,
            "object_fit": null,
            "object_position": null,
            "order": null,
            "overflow": null,
            "overflow_x": null,
            "overflow_y": null,
            "padding": null,
            "right": null,
            "top": null,
            "visibility": null,
            "width": null
          }
        },
        "6de579052134427882824cd9d3f226ec": {
          "model_module": "@jupyter-widgets/controls",
          "model_name": "DescriptionStyleModel",
          "model_module_version": "1.5.0",
          "state": {
            "_model_module": "@jupyter-widgets/controls",
            "_model_module_version": "1.5.0",
            "_model_name": "DescriptionStyleModel",
            "_view_count": null,
            "_view_module": "@jupyter-widgets/base",
            "_view_module_version": "1.2.0",
            "_view_name": "StyleView",
            "description_width": ""
          }
        },
        "e10a180e808446138c86121f8f053787": {
          "model_module": "@jupyter-widgets/controls",
          "model_name": "HBoxModel",
          "model_module_version": "1.5.0",
          "state": {
            "_dom_classes": [],
            "_model_module": "@jupyter-widgets/controls",
            "_model_module_version": "1.5.0",
            "_model_name": "HBoxModel",
            "_view_count": null,
            "_view_module": "@jupyter-widgets/controls",
            "_view_module_version": "1.5.0",
            "_view_name": "HBoxView",
            "box_style": "",
            "children": [
              "IPY_MODEL_4c023cdf33e44088865bb5f1facb7057",
              "IPY_MODEL_c6c02367b6d14df7ac0286f31ca0d8eb",
              "IPY_MODEL_27f3ed0f4dde4ba0bd842f1872213838"
            ],
            "layout": "IPY_MODEL_057c60e6374a4824a56ca383529cabcd"
          }
        },
        "4c023cdf33e44088865bb5f1facb7057": {
          "model_module": "@jupyter-widgets/controls",
          "model_name": "HTMLModel",
          "model_module_version": "1.5.0",
          "state": {
            "_dom_classes": [],
            "_model_module": "@jupyter-widgets/controls",
            "_model_module_version": "1.5.0",
            "_model_name": "HTMLModel",
            "_view_count": null,
            "_view_module": "@jupyter-widgets/controls",
            "_view_module_version": "1.5.0",
            "_view_name": "HTMLView",
            "description": "",
            "description_tooltip": null,
            "layout": "IPY_MODEL_5572f992dfb44af29a9aba0550c98cc1",
            "placeholder": "​",
            "style": "IPY_MODEL_3aeeb087221c434d834d2d3e36f15d0d",
            "value": "config.json: 100%"
          }
        },
        "c6c02367b6d14df7ac0286f31ca0d8eb": {
          "model_module": "@jupyter-widgets/controls",
          "model_name": "FloatProgressModel",
          "model_module_version": "1.5.0",
          "state": {
            "_dom_classes": [],
            "_model_module": "@jupyter-widgets/controls",
            "_model_module_version": "1.5.0",
            "_model_name": "FloatProgressModel",
            "_view_count": null,
            "_view_module": "@jupyter-widgets/controls",
            "_view_module_version": "1.5.0",
            "_view_name": "ProgressView",
            "bar_style": "success",
            "description": "",
            "description_tooltip": null,
            "layout": "IPY_MODEL_5830bcba1bcd41b1bd98cde0968cfe52",
            "max": 481,
            "min": 0,
            "orientation": "horizontal",
            "style": "IPY_MODEL_a21892e08b87454698829adba5f21452",
            "value": 481
          }
        },
        "27f3ed0f4dde4ba0bd842f1872213838": {
          "model_module": "@jupyter-widgets/controls",
          "model_name": "HTMLModel",
          "model_module_version": "1.5.0",
          "state": {
            "_dom_classes": [],
            "_model_module": "@jupyter-widgets/controls",
            "_model_module_version": "1.5.0",
            "_model_name": "HTMLModel",
            "_view_count": null,
            "_view_module": "@jupyter-widgets/controls",
            "_view_module_version": "1.5.0",
            "_view_name": "HTMLView",
            "description": "",
            "description_tooltip": null,
            "layout": "IPY_MODEL_8e313e859c7e49b0aad995ea9e3ed327",
            "placeholder": "​",
            "style": "IPY_MODEL_fb45126330b946a6992ded133260bc6b",
            "value": " 481/481 [00:00&lt;00:00, 9.79kB/s]"
          }
        },
        "057c60e6374a4824a56ca383529cabcd": {
          "model_module": "@jupyter-widgets/base",
          "model_name": "LayoutModel",
          "model_module_version": "1.2.0",
          "state": {
            "_model_module": "@jupyter-widgets/base",
            "_model_module_version": "1.2.0",
            "_model_name": "LayoutModel",
            "_view_count": null,
            "_view_module": "@jupyter-widgets/base",
            "_view_module_version": "1.2.0",
            "_view_name": "LayoutView",
            "align_content": null,
            "align_items": null,
            "align_self": null,
            "border": null,
            "bottom": null,
            "display": null,
            "flex": null,
            "flex_flow": null,
            "grid_area": null,
            "grid_auto_columns": null,
            "grid_auto_flow": null,
            "grid_auto_rows": null,
            "grid_column": null,
            "grid_gap": null,
            "grid_row": null,
            "grid_template_areas": null,
            "grid_template_columns": null,
            "grid_template_rows": null,
            "height": null,
            "justify_content": null,
            "justify_items": null,
            "left": null,
            "margin": null,
            "max_height": null,
            "max_width": null,
            "min_height": null,
            "min_width": null,
            "object_fit": null,
            "object_position": null,
            "order": null,
            "overflow": null,
            "overflow_x": null,
            "overflow_y": null,
            "padding": null,
            "right": null,
            "top": null,
            "visibility": null,
            "width": null
          }
        },
        "5572f992dfb44af29a9aba0550c98cc1": {
          "model_module": "@jupyter-widgets/base",
          "model_name": "LayoutModel",
          "model_module_version": "1.2.0",
          "state": {
            "_model_module": "@jupyter-widgets/base",
            "_model_module_version": "1.2.0",
            "_model_name": "LayoutModel",
            "_view_count": null,
            "_view_module": "@jupyter-widgets/base",
            "_view_module_version": "1.2.0",
            "_view_name": "LayoutView",
            "align_content": null,
            "align_items": null,
            "align_self": null,
            "border": null,
            "bottom": null,
            "display": null,
            "flex": null,
            "flex_flow": null,
            "grid_area": null,
            "grid_auto_columns": null,
            "grid_auto_flow": null,
            "grid_auto_rows": null,
            "grid_column": null,
            "grid_gap": null,
            "grid_row": null,
            "grid_template_areas": null,
            "grid_template_columns": null,
            "grid_template_rows": null,
            "height": null,
            "justify_content": null,
            "justify_items": null,
            "left": null,
            "margin": null,
            "max_height": null,
            "max_width": null,
            "min_height": null,
            "min_width": null,
            "object_fit": null,
            "object_position": null,
            "order": null,
            "overflow": null,
            "overflow_x": null,
            "overflow_y": null,
            "padding": null,
            "right": null,
            "top": null,
            "visibility": null,
            "width": null
          }
        },
        "3aeeb087221c434d834d2d3e36f15d0d": {
          "model_module": "@jupyter-widgets/controls",
          "model_name": "DescriptionStyleModel",
          "model_module_version": "1.5.0",
          "state": {
            "_model_module": "@jupyter-widgets/controls",
            "_model_module_version": "1.5.0",
            "_model_name": "DescriptionStyleModel",
            "_view_count": null,
            "_view_module": "@jupyter-widgets/base",
            "_view_module_version": "1.2.0",
            "_view_name": "StyleView",
            "description_width": ""
          }
        },
        "5830bcba1bcd41b1bd98cde0968cfe52": {
          "model_module": "@jupyter-widgets/base",
          "model_name": "LayoutModel",
          "model_module_version": "1.2.0",
          "state": {
            "_model_module": "@jupyter-widgets/base",
            "_model_module_version": "1.2.0",
            "_model_name": "LayoutModel",
            "_view_count": null,
            "_view_module": "@jupyter-widgets/base",
            "_view_module_version": "1.2.0",
            "_view_name": "LayoutView",
            "align_content": null,
            "align_items": null,
            "align_self": null,
            "border": null,
            "bottom": null,
            "display": null,
            "flex": null,
            "flex_flow": null,
            "grid_area": null,
            "grid_auto_columns": null,
            "grid_auto_flow": null,
            "grid_auto_rows": null,
            "grid_column": null,
            "grid_gap": null,
            "grid_row": null,
            "grid_template_areas": null,
            "grid_template_columns": null,
            "grid_template_rows": null,
            "height": null,
            "justify_content": null,
            "justify_items": null,
            "left": null,
            "margin": null,
            "max_height": null,
            "max_width": null,
            "min_height": null,
            "min_width": null,
            "object_fit": null,
            "object_position": null,
            "order": null,
            "overflow": null,
            "overflow_x": null,
            "overflow_y": null,
            "padding": null,
            "right": null,
            "top": null,
            "visibility": null,
            "width": null
          }
        },
        "a21892e08b87454698829adba5f21452": {
          "model_module": "@jupyter-widgets/controls",
          "model_name": "ProgressStyleModel",
          "model_module_version": "1.5.0",
          "state": {
            "_model_module": "@jupyter-widgets/controls",
            "_model_module_version": "1.5.0",
            "_model_name": "ProgressStyleModel",
            "_view_count": null,
            "_view_module": "@jupyter-widgets/base",
            "_view_module_version": "1.2.0",
            "_view_name": "StyleView",
            "bar_color": null,
            "description_width": ""
          }
        },
        "8e313e859c7e49b0aad995ea9e3ed327": {
          "model_module": "@jupyter-widgets/base",
          "model_name": "LayoutModel",
          "model_module_version": "1.2.0",
          "state": {
            "_model_module": "@jupyter-widgets/base",
            "_model_module_version": "1.2.0",
            "_model_name": "LayoutModel",
            "_view_count": null,
            "_view_module": "@jupyter-widgets/base",
            "_view_module_version": "1.2.0",
            "_view_name": "LayoutView",
            "align_content": null,
            "align_items": null,
            "align_self": null,
            "border": null,
            "bottom": null,
            "display": null,
            "flex": null,
            "flex_flow": null,
            "grid_area": null,
            "grid_auto_columns": null,
            "grid_auto_flow": null,
            "grid_auto_rows": null,
            "grid_column": null,
            "grid_gap": null,
            "grid_row": null,
            "grid_template_areas": null,
            "grid_template_columns": null,
            "grid_template_rows": null,
            "height": null,
            "justify_content": null,
            "justify_items": null,
            "left": null,
            "margin": null,
            "max_height": null,
            "max_width": null,
            "min_height": null,
            "min_width": null,
            "object_fit": null,
            "object_position": null,
            "order": null,
            "overflow": null,
            "overflow_x": null,
            "overflow_y": null,
            "padding": null,
            "right": null,
            "top": null,
            "visibility": null,
            "width": null
          }
        },
        "fb45126330b946a6992ded133260bc6b": {
          "model_module": "@jupyter-widgets/controls",
          "model_name": "DescriptionStyleModel",
          "model_module_version": "1.5.0",
          "state": {
            "_model_module": "@jupyter-widgets/controls",
            "_model_module_version": "1.5.0",
            "_model_name": "DescriptionStyleModel",
            "_view_count": null,
            "_view_module": "@jupyter-widgets/base",
            "_view_module_version": "1.2.0",
            "_view_name": "StyleView",
            "description_width": ""
          }
        },
        "f2dcd3b32d6e43d5aec0c8740faacf4a": {
          "model_module": "@jupyter-widgets/controls",
          "model_name": "HBoxModel",
          "model_module_version": "1.5.0",
          "state": {
            "_dom_classes": [],
            "_model_module": "@jupyter-widgets/controls",
            "_model_module_version": "1.5.0",
            "_model_name": "HBoxModel",
            "_view_count": null,
            "_view_module": "@jupyter-widgets/controls",
            "_view_module_version": "1.5.0",
            "_view_name": "HBoxView",
            "box_style": "",
            "children": [
              "IPY_MODEL_7b713357f74349699baac0e8da254a0e",
              "IPY_MODEL_3365b1cf0b884f25ae4a0526209bd14b",
              "IPY_MODEL_bfd4f8b4aa1c4c3b8977b1cfd17ca1d4"
            ],
            "layout": "IPY_MODEL_e69815f562a24c73ad4577b6bafd7900"
          }
        },
        "7b713357f74349699baac0e8da254a0e": {
          "model_module": "@jupyter-widgets/controls",
          "model_name": "HTMLModel",
          "model_module_version": "1.5.0",
          "state": {
            "_dom_classes": [],
            "_model_module": "@jupyter-widgets/controls",
            "_model_module_version": "1.5.0",
            "_model_name": "HTMLModel",
            "_view_count": null,
            "_view_module": "@jupyter-widgets/controls",
            "_view_module_version": "1.5.0",
            "_view_name": "HTMLView",
            "description": "",
            "description_tooltip": null,
            "layout": "IPY_MODEL_50e26b79512b480ca6f534e7af27d1e1",
            "placeholder": "​",
            "style": "IPY_MODEL_a90ac655fbae4cf4b3b816b1c7167800",
            "value": "model.safetensors: 100%"
          }
        },
        "3365b1cf0b884f25ae4a0526209bd14b": {
          "model_module": "@jupyter-widgets/controls",
          "model_name": "FloatProgressModel",
          "model_module_version": "1.5.0",
          "state": {
            "_dom_classes": [],
            "_model_module": "@jupyter-widgets/controls",
            "_model_module_version": "1.5.0",
            "_model_name": "FloatProgressModel",
            "_view_count": null,
            "_view_module": "@jupyter-widgets/controls",
            "_view_module_version": "1.5.0",
            "_view_name": "ProgressView",
            "bar_style": "success",
            "description": "",
            "description_tooltip": null,
            "layout": "IPY_MODEL_58d1f68c2be84a89920c8087614c1565",
            "max": 498818054,
            "min": 0,
            "orientation": "horizontal",
            "style": "IPY_MODEL_47905f2acd274593af26ccf317a15a6f",
            "value": 498818054
          }
        },
        "bfd4f8b4aa1c4c3b8977b1cfd17ca1d4": {
          "model_module": "@jupyter-widgets/controls",
          "model_name": "HTMLModel",
          "model_module_version": "1.5.0",
          "state": {
            "_dom_classes": [],
            "_model_module": "@jupyter-widgets/controls",
            "_model_module_version": "1.5.0",
            "_model_name": "HTMLModel",
            "_view_count": null,
            "_view_module": "@jupyter-widgets/controls",
            "_view_module_version": "1.5.0",
            "_view_name": "HTMLView",
            "description": "",
            "description_tooltip": null,
            "layout": "IPY_MODEL_aa74f332c2f240b48da644d769e09cc7",
            "placeholder": "​",
            "style": "IPY_MODEL_3444a1c37bcf441fbe2954141c088fb6",
            "value": " 499M/499M [00:05&lt;00:00, 85.6MB/s]"
          }
        },
        "e69815f562a24c73ad4577b6bafd7900": {
          "model_module": "@jupyter-widgets/base",
          "model_name": "LayoutModel",
          "model_module_version": "1.2.0",
          "state": {
            "_model_module": "@jupyter-widgets/base",
            "_model_module_version": "1.2.0",
            "_model_name": "LayoutModel",
            "_view_count": null,
            "_view_module": "@jupyter-widgets/base",
            "_view_module_version": "1.2.0",
            "_view_name": "LayoutView",
            "align_content": null,
            "align_items": null,
            "align_self": null,
            "border": null,
            "bottom": null,
            "display": null,
            "flex": null,
            "flex_flow": null,
            "grid_area": null,
            "grid_auto_columns": null,
            "grid_auto_flow": null,
            "grid_auto_rows": null,
            "grid_column": null,
            "grid_gap": null,
            "grid_row": null,
            "grid_template_areas": null,
            "grid_template_columns": null,
            "grid_template_rows": null,
            "height": null,
            "justify_content": null,
            "justify_items": null,
            "left": null,
            "margin": null,
            "max_height": null,
            "max_width": null,
            "min_height": null,
            "min_width": null,
            "object_fit": null,
            "object_position": null,
            "order": null,
            "overflow": null,
            "overflow_x": null,
            "overflow_y": null,
            "padding": null,
            "right": null,
            "top": null,
            "visibility": null,
            "width": null
          }
        },
        "50e26b79512b480ca6f534e7af27d1e1": {
          "model_module": "@jupyter-widgets/base",
          "model_name": "LayoutModel",
          "model_module_version": "1.2.0",
          "state": {
            "_model_module": "@jupyter-widgets/base",
            "_model_module_version": "1.2.0",
            "_model_name": "LayoutModel",
            "_view_count": null,
            "_view_module": "@jupyter-widgets/base",
            "_view_module_version": "1.2.0",
            "_view_name": "LayoutView",
            "align_content": null,
            "align_items": null,
            "align_self": null,
            "border": null,
            "bottom": null,
            "display": null,
            "flex": null,
            "flex_flow": null,
            "grid_area": null,
            "grid_auto_columns": null,
            "grid_auto_flow": null,
            "grid_auto_rows": null,
            "grid_column": null,
            "grid_gap": null,
            "grid_row": null,
            "grid_template_areas": null,
            "grid_template_columns": null,
            "grid_template_rows": null,
            "height": null,
            "justify_content": null,
            "justify_items": null,
            "left": null,
            "margin": null,
            "max_height": null,
            "max_width": null,
            "min_height": null,
            "min_width": null,
            "object_fit": null,
            "object_position": null,
            "order": null,
            "overflow": null,
            "overflow_x": null,
            "overflow_y": null,
            "padding": null,
            "right": null,
            "top": null,
            "visibility": null,
            "width": null
          }
        },
        "a90ac655fbae4cf4b3b816b1c7167800": {
          "model_module": "@jupyter-widgets/controls",
          "model_name": "DescriptionStyleModel",
          "model_module_version": "1.5.0",
          "state": {
            "_model_module": "@jupyter-widgets/controls",
            "_model_module_version": "1.5.0",
            "_model_name": "DescriptionStyleModel",
            "_view_count": null,
            "_view_module": "@jupyter-widgets/base",
            "_view_module_version": "1.2.0",
            "_view_name": "StyleView",
            "description_width": ""
          }
        },
        "58d1f68c2be84a89920c8087614c1565": {
          "model_module": "@jupyter-widgets/base",
          "model_name": "LayoutModel",
          "model_module_version": "1.2.0",
          "state": {
            "_model_module": "@jupyter-widgets/base",
            "_model_module_version": "1.2.0",
            "_model_name": "LayoutModel",
            "_view_count": null,
            "_view_module": "@jupyter-widgets/base",
            "_view_module_version": "1.2.0",
            "_view_name": "LayoutView",
            "align_content": null,
            "align_items": null,
            "align_self": null,
            "border": null,
            "bottom": null,
            "display": null,
            "flex": null,
            "flex_flow": null,
            "grid_area": null,
            "grid_auto_columns": null,
            "grid_auto_flow": null,
            "grid_auto_rows": null,
            "grid_column": null,
            "grid_gap": null,
            "grid_row": null,
            "grid_template_areas": null,
            "grid_template_columns": null,
            "grid_template_rows": null,
            "height": null,
            "justify_content": null,
            "justify_items": null,
            "left": null,
            "margin": null,
            "max_height": null,
            "max_width": null,
            "min_height": null,
            "min_width": null,
            "object_fit": null,
            "object_position": null,
            "order": null,
            "overflow": null,
            "overflow_x": null,
            "overflow_y": null,
            "padding": null,
            "right": null,
            "top": null,
            "visibility": null,
            "width": null
          }
        },
        "47905f2acd274593af26ccf317a15a6f": {
          "model_module": "@jupyter-widgets/controls",
          "model_name": "ProgressStyleModel",
          "model_module_version": "1.5.0",
          "state": {
            "_model_module": "@jupyter-widgets/controls",
            "_model_module_version": "1.5.0",
            "_model_name": "ProgressStyleModel",
            "_view_count": null,
            "_view_module": "@jupyter-widgets/base",
            "_view_module_version": "1.2.0",
            "_view_name": "StyleView",
            "bar_color": null,
            "description_width": ""
          }
        },
        "aa74f332c2f240b48da644d769e09cc7": {
          "model_module": "@jupyter-widgets/base",
          "model_name": "LayoutModel",
          "model_module_version": "1.2.0",
          "state": {
            "_model_module": "@jupyter-widgets/base",
            "_model_module_version": "1.2.0",
            "_model_name": "LayoutModel",
            "_view_count": null,
            "_view_module": "@jupyter-widgets/base",
            "_view_module_version": "1.2.0",
            "_view_name": "LayoutView",
            "align_content": null,
            "align_items": null,
            "align_self": null,
            "border": null,
            "bottom": null,
            "display": null,
            "flex": null,
            "flex_flow": null,
            "grid_area": null,
            "grid_auto_columns": null,
            "grid_auto_flow": null,
            "grid_auto_rows": null,
            "grid_column": null,
            "grid_gap": null,
            "grid_row": null,
            "grid_template_areas": null,
            "grid_template_columns": null,
            "grid_template_rows": null,
            "height": null,
            "justify_content": null,
            "justify_items": null,
            "left": null,
            "margin": null,
            "max_height": null,
            "max_width": null,
            "min_height": null,
            "min_width": null,
            "object_fit": null,
            "object_position": null,
            "order": null,
            "overflow": null,
            "overflow_x": null,
            "overflow_y": null,
            "padding": null,
            "right": null,
            "top": null,
            "visibility": null,
            "width": null
          }
        },
        "3444a1c37bcf441fbe2954141c088fb6": {
          "model_module": "@jupyter-widgets/controls",
          "model_name": "DescriptionStyleModel",
          "model_module_version": "1.5.0",
          "state": {
            "_model_module": "@jupyter-widgets/controls",
            "_model_module_version": "1.5.0",
            "_model_name": "DescriptionStyleModel",
            "_view_count": null,
            "_view_module": "@jupyter-widgets/base",
            "_view_module_version": "1.2.0",
            "_view_name": "StyleView",
            "description_width": ""
          }
        }
      }
    }
  },
  "nbformat_minor": 0,
  "nbformat": 4,
  "cells": [
    {
      "cell_type": "markdown",
      "source": [
        "# Preparation"
      ],
      "metadata": {
        "id": "NaulCKkvQpCr"
      }
    },
    {
      "cell_type": "code",
      "source": [
        "from google.colab import drive\n",
        "drive.mount('/content/drive', force_remount=True)"
      ],
      "metadata": {
        "id": "dK2YNbyNwDCW",
        "colab": {
          "base_uri": "https://localhost:8080/"
        },
        "outputId": "cc11590e-2765-4217-de95-8a28505b6c94"
      },
      "execution_count": 1,
      "outputs": [
        {
          "output_type": "stream",
          "name": "stdout",
          "text": [
            "Mounted at /content/drive\n"
          ]
        }
      ]
    },
    {
      "cell_type": "code",
      "source": [
        "import subprocess\n",
        "import threading\n",
        "\n",
        "#istallazione di ollama\n",
        "!curl -fsSL https://ollama.com/install.sh | sh"
      ],
      "metadata": {
        "execution": {
          "iopub.status.busy": "2024-08-13T11:13:09.097338Z",
          "iopub.execute_input": "2024-08-13T11:13:09.098272Z",
          "iopub.status.idle": "2024-08-13T11:13:12.852185Z",
          "shell.execute_reply.started": "2024-08-13T11:13:09.098229Z",
          "shell.execute_reply": "2024-08-13T11:13:12.851000Z"
        },
        "trusted": true,
        "id": "H_iRuw_Lv00C",
        "outputId": "6a909ea2-995d-4f03-b56d-5766396b1612",
        "colab": {
          "base_uri": "https://localhost:8080/"
        }
      },
      "execution_count": 2,
      "outputs": [
        {
          "output_type": "stream",
          "name": "stdout",
          "text": [
            ">>> Installing ollama to /usr/local\n",
            ">>> Downloading Linux amd64 CLI\n",
            "############################################################################################# 100.0%\n",
            ">>> Making ollama accessible in the PATH in /usr/local/bin\n",
            ">>> Creating ollama user...\n",
            ">>> Adding ollama user to video group...\n",
            ">>> Adding current user to ollama group...\n",
            ">>> Creating ollama systemd service...\n",
            "WARNING: Unable to detect NVIDIA/AMD GPU. Install lspci or lshw to automatically detect and install GPU dependencies.\n",
            ">>> The Ollama API is now available at 127.0.0.1:11434.\n",
            ">>> Install complete. Run \"ollama\" from the command line.\n"
          ]
        }
      ]
    },
    {
      "cell_type": "code",
      "source": [
        "def start_ollama():\n",
        "    t = threading.Thread(target=lambda: subprocess.run([\"ollama\", \"serve\"]),daemon=True)\n",
        "    t.start()"
      ],
      "metadata": {
        "execution": {
          "iopub.status.busy": "2024-08-13T11:13:12.854455Z",
          "iopub.execute_input": "2024-08-13T11:13:12.855253Z",
          "iopub.status.idle": "2024-08-13T11:13:12.860443Z",
          "shell.execute_reply.started": "2024-08-13T11:13:12.855213Z",
          "shell.execute_reply": "2024-08-13T11:13:12.859428Z"
        },
        "trusted": true,
        "id": "MOsJonv0v00E"
      },
      "execution_count": 3,
      "outputs": []
    },
    {
      "cell_type": "code",
      "source": [
        "def pull_model(local_llm):\n",
        "    !ollama pull local_llm"
      ],
      "metadata": {
        "execution": {
          "iopub.status.busy": "2024-08-13T11:13:12.861731Z",
          "iopub.execute_input": "2024-08-13T11:13:12.862069Z",
          "iopub.status.idle": "2024-08-13T11:13:12.914838Z",
          "shell.execute_reply.started": "2024-08-13T11:13:12.862031Z",
          "shell.execute_reply": "2024-08-13T11:13:12.914004Z"
        },
        "trusted": true,
        "id": "IM4kCKPfv00F"
      },
      "execution_count": 4,
      "outputs": []
    },
    {
      "cell_type": "code",
      "source": [
        "def start_model(local_llm):\n",
        "    t2 = threading.Thread(target=lambda: subprocess.run([\"ollama\", \"run\", local_llm]),daemon=True)\n",
        "    t2.start()"
      ],
      "metadata": {
        "execution": {
          "iopub.status.busy": "2024-08-13T11:13:12.916848Z",
          "iopub.execute_input": "2024-08-13T11:13:12.917588Z",
          "iopub.status.idle": "2024-08-13T11:13:12.925330Z",
          "shell.execute_reply.started": "2024-08-13T11:13:12.917556Z",
          "shell.execute_reply": "2024-08-13T11:13:12.924515Z"
        },
        "trusted": true,
        "id": "JHFNOrWgv00F"
      },
      "execution_count": 5,
      "outputs": []
    },
    {
      "cell_type": "code",
      "source": [
        "%%capture --no-stderr\n",
        "%pip install -U scikit-learn==1.3 langchain-ai21 langchain_community tiktoken langchainhub langchain"
      ],
      "metadata": {
        "execution": {
          "iopub.status.busy": "2024-08-13T11:13:12.926370Z",
          "iopub.execute_input": "2024-08-13T11:13:12.926652Z",
          "iopub.status.idle": "2024-08-13T11:13:26.299377Z",
          "shell.execute_reply.started": "2024-08-13T11:13:12.926630Z",
          "shell.execute_reply": "2024-08-13T11:13:26.298011Z"
        },
        "trusted": true,
        "id": "x0_KFzE1v00F"
      },
      "execution_count": 6,
      "outputs": []
    },
    {
      "cell_type": "code",
      "source": [
        "import os\n",
        "\n",
        "os.environ[\"LANGCHAIN_API_KEY\"] = \"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\"\n",
        "os.environ[\"LANGCHAIN_TRACING_V2\"] = \"true\"\n",
        "#os.environ[\"LANGCHAIN_ENDPOINT\"] = \"https://api.smith.langchain.com\"\n",
        "#os.environ[\"LANGCHAIN_PROJECT\"]=\"hate-speech-project\""
      ],
      "metadata": {
        "execution": {
          "iopub.status.busy": "2024-08-13T11:13:26.302096Z",
          "iopub.execute_input": "2024-08-13T11:13:26.302418Z",
          "iopub.status.idle": "2024-08-13T11:13:26.309351Z",
          "shell.execute_reply.started": "2024-08-13T11:13:26.302390Z",
          "shell.execute_reply": "2024-08-13T11:13:26.308568Z"
        },
        "trusted": true,
        "id": "96Q_pDBPv00G"
      },
      "execution_count": null,
      "outputs": []
    },
    {
      "cell_type": "code",
      "source": [
        "import numpy as np\n",
        "import pandas as pd\n",
        "from sklearn.metrics import accuracy_score, confusion_matrix, classification_report\n",
        "from tqdm import tqdm\n",
        "from langchain_community.llms import Ollama\n",
        "from langchain_core.output_parsers import StrOutputParser\n",
        "from langchain_core.prompts import PromptTemplate"
      ],
      "metadata": {
        "execution": {
          "iopub.status.busy": "2024-08-13T11:13:26.310355Z",
          "iopub.execute_input": "2024-08-13T11:13:26.310635Z",
          "iopub.status.idle": "2024-08-13T11:13:26.321511Z",
          "shell.execute_reply.started": "2024-08-13T11:13:26.310612Z",
          "shell.execute_reply": "2024-08-13T11:13:26.320650Z"
        },
        "trusted": true,
        "id": "vVEKuoilv00G"
      },
      "execution_count": 7,
      "outputs": []
    },
    {
      "cell_type": "code",
      "source": [
        "# todo #all'incirca 7.000 testi di test\n",
        "\n",
        "df = pd.read_csv(\"/content/drive/MyDrive/predictions_hate/HateSpeechDatasetBalanced.csv\")\n",
        "\n",
        "print(len(df))\n",
        "\n",
        "#label_0 = df[df[\"Label\"]==0] #no hate speech\n",
        "#label_1 = df[df[\"Label\"]==1] #hate speech\n",
        "#print(f\"Label con valore 0: {len(label_0)}\")\n",
        "#print(f\"Label con valore 1: {len(label_1)}\")\n",
        "\n",
        "# Campiona l'1% del DataFrame\n",
        "sampled_df = df.sample(frac=0.01, random_state=42)\n",
        "\n",
        "x_test = sampled_df[\"Content\"]\n",
        "y_test = sampled_df[\"Label\"]\n",
        "\n",
        "print(len(x_test))\n",
        "print(len(y_test))\n",
        "\n",
        "label_0 = sampled_df[sampled_df[\"Label\"]==0] #no hate speech\n",
        "label_1 = sampled_df[sampled_df[\"Label\"]==1] #hate speech\n",
        "print(f\"Label con valore 0: {len(label_0)}\")\n",
        "print(f\"Label con valore 1: {len(label_1)}\")"
      ],
      "metadata": {
        "execution": {
          "iopub.status.busy": "2024-08-13T11:13:26.322815Z",
          "iopub.execute_input": "2024-08-13T11:13:26.323419Z",
          "iopub.status.idle": "2024-08-13T11:13:28.322790Z",
          "shell.execute_reply.started": "2024-08-13T11:13:26.323387Z",
          "shell.execute_reply": "2024-08-13T11:13:28.321851Z"
        },
        "trusted": true,
        "id": "cYXvQDJpv00G",
        "outputId": "1dc3e484-2413-48d3-febd-241063c0e8ab",
        "colab": {
          "base_uri": "https://localhost:8080/"
        }
      },
      "execution_count": null,
      "outputs": [
        {
          "output_type": "stream",
          "name": "stdout",
          "text": [
            "726119\n",
            "7261\n",
            "7261\n",
            "Label con valore 0: 3584\n",
            "Label con valore 1: 3677\n"
          ]
        }
      ]
    },
    {
      "cell_type": "markdown",
      "source": [
        "# Finetuning"
      ],
      "metadata": {
        "id": "CuPEKRAnIu5b"
      }
    },
    {
      "cell_type": "code",
      "source": [
        "import torch\n",
        "from torch.utils.data import DataLoader, Dataset\n",
        "from transformers import BertTokenizer, BertForSequenceClassification, AdamW\n",
        "from transformers import RobertaTokenizer, RobertaForSequenceClassification\n",
        "from tqdm import tqdm"
      ],
      "metadata": {
        "id": "gUTS_nKWXBNf"
      },
      "execution_count": null,
      "outputs": []
    },
    {
      "cell_type": "code",
      "source": [
        "# Campiona l'1% del DataFrame\n",
        "training_df = df.sample(frac=0.015, random_state=41)\n",
        "\n",
        "print(len(training_df))\n",
        "\n",
        "training_df = training_df[~training_df.isin(sampled_df).all(axis=1)] #elimino elementi che possono essere presenti nel testing\n",
        "\n",
        "print(len(training_df))"
      ],
      "metadata": {
        "colab": {
          "base_uri": "https://localhost:8080/"
        },
        "id": "gIQYq5OtXCFm",
        "outputId": "1bbf4877-8112-42f9-b45e-8cab797d03e8"
      },
      "execution_count": null,
      "outputs": [
        {
          "output_type": "stream",
          "name": "stdout",
          "text": [
            "10892\n",
            "10784\n"
          ]
        }
      ]
    },
    {
      "cell_type": "code",
      "source": [
        "x_train = training_df[\"Content\"]\n",
        "x_label = training_df[\"Label\"]\n",
        "\n",
        "print(len(x_train))\n",
        "print(len(x_label))\n",
        "\n",
        "label_0 = training_df[training_df[\"Label\"]==0] #no hate speech\n",
        "label_1 = training_df[training_df[\"Label\"]==1] #hate speech\n",
        "print(f\"Label con valore 0: {len(label_0)}\")\n",
        "print(f\"Label con valore 1: {len(label_1)}\")"
      ],
      "metadata": {
        "colab": {
          "base_uri": "https://localhost:8080/"
        },
        "id": "9_PeOkJpYcAB",
        "outputId": "ddefebc5-90a3-43e1-f359-635ea829d71f"
      },
      "execution_count": null,
      "outputs": [
        {
          "output_type": "stream",
          "name": "stdout",
          "text": [
            "10784\n",
            "10784\n",
            "Label con valore 0: 5306\n",
            "Label con valore 1: 5478\n"
          ]
        }
      ]
    },
    {
      "cell_type": "code",
      "source": [
        "# Lunghezza media dei testi\n",
        "\n",
        "# Calcola la lunghezza di ciascun testo\n",
        "lens = [len(text) for text in x_train]\n",
        "\n",
        "# Somma le lunghezze e calcola la lunghezza media\n",
        "avg_len = sum(lens) / len(x_train)\n",
        "\n",
        "print(avg_len) #lunghezza media\n",
        "print(max(lens)) #massima lunghezza\n",
        "print(len([l for l in lens if l>1024])) #numero di testi con lunghezza superiore a 1024"
      ],
      "metadata": {
        "colab": {
          "base_uri": "https://localhost:8080/"
        },
        "id": "Thb1nl8Bc7D6",
        "outputId": "381e3f85-83ea-4acc-db6b-f64375acb7f2"
      },
      "execution_count": null,
      "outputs": [
        {
          "output_type": "stream",
          "name": "stdout",
          "text": [
            "195.89892433234422\n",
            "4967\n",
            "225\n"
          ]
        }
      ]
    },
    {
      "cell_type": "code",
      "source": [
        "#tokenizer di BERT e Roberta\n",
        "#tokenizer = BertTokenizer.from_pretrained('bert-base-uncased')\n",
        "tokenizer = RobertaTokenizer.from_pretrained('roberta-base')\n",
        "\n",
        "#tokenizzazione dei dati\n",
        "input_ids = []\n",
        "attention_masks = []\n",
        "\n",
        "for sentence in x_train:\n",
        "    encoded_dict = tokenizer.encode_plus(\n",
        "                        sentence,\n",
        "                        add_special_tokens = True,\n",
        "                        max_length = None, #Uso della massima lunghezza del modello, nel caso di BERT 512 tokens\n",
        "                        padding = \"max_length\",\n",
        "                        truncation = True,\n",
        "                        return_attention_mask = True,\n",
        "                        return_tensors = 'pt',\n",
        "                   )\n",
        "\n",
        "    input_ids.append(encoded_dict['input_ids'])\n",
        "    attention_masks.append(encoded_dict['attention_mask'])"
      ],
      "metadata": {
        "colab": {
          "base_uri": "https://localhost:8080/",
          "height": 305,
          "referenced_widgets": [
            "d9ac8ff3103441bdb83c4d325cd483a7",
            "c4ac10e00d054f50bf971625f7173c11",
            "1bf39edb31804d9b9e108ba344c27fc1",
            "0e42ef1a41ae417292296249db918721",
            "5b23e4e8563c4024bb59f8f6f59b8a26",
            "e6c166a9291043e2ac45d3911235b6e4",
            "9b3f057546f847afb71eec63310a60a8",
            "884c1c56cb1548ad8c1514adb6fb435b",
            "1e8b3160a077428fa2d4465664e0fb25",
            "495e502f4e974973be99455683b67af5",
            "d771389caf0c457789a3846c8aac1769",
            "4aa54acc87af4b48909587d0e8517dbd",
            "d4f5f1a4b3184a8cb650aa660eb53e00",
            "7bd5e6d48a9c49b6a922db8de29c6e97",
            "42e4f3618bc643e1891568f6b57d1462",
            "2c5a64b0fc3d4f7fb607978c997bebaa",
            "0b593fed5169446b902497a5d8f54c17",
            "6f4e54c4448e45b5a9c71ce8178978a9",
            "3df847882d124c2d80693ed1ff7e3c1b",
            "a4434c79f5ba405cb692214a1327e020",
            "d47d004bb11f498489a8a4017bd332dd",
            "90d189eaf5a34dc9af4dce41bc05bc41",
            "0d07bd2a4df54265942042db4396d2d0",
            "02f08a0799b342cb8e499a2aa2c4ca99",
            "9c891d83e5834765bccb8610f9841c8e",
            "2975832aee0c4c0b9fbc002e26553938",
            "d5d489e0fb0f4bee86b849f8d73f80fb",
            "0906f96e7350472d92a9222e34b34813",
            "22d46e01e88c497aaa2ce36ffb369c9d",
            "61ccf674ec5244919266d98d7d870444",
            "9ad3116406ee418b9707d855de9337a4",
            "0096b399f87e4fcd9ba648f73c55bac8",
            "aaef82b6ae3d4a23baa85c47f1a3879b",
            "89274350d5fe46bc8fe9b25f8a3c449e",
            "c5f14a0e83664a9093a1c55afcb3b3a1",
            "a7283c2485534183a66668d108ba744a",
            "feea0a4149854c618224779e1ffa16f6",
            "860496d1f4804648a3af8e60ec33c5ac",
            "15e683f8cae54c7db7fe03e9be5e3b31",
            "25548e52fdd4436c88fa8e142768c981",
            "fc3e837b595c4930871be74b17c5dacd",
            "6d75ed0be0184b2b9956e2b3813e1dda",
            "5fdcf337e78842c7b0bbfab02a8c2cdf",
            "6de579052134427882824cd9d3f226ec",
            "e10a180e808446138c86121f8f053787",
            "4c023cdf33e44088865bb5f1facb7057",
            "c6c02367b6d14df7ac0286f31ca0d8eb",
            "27f3ed0f4dde4ba0bd842f1872213838",
            "057c60e6374a4824a56ca383529cabcd",
            "5572f992dfb44af29a9aba0550c98cc1",
            "3aeeb087221c434d834d2d3e36f15d0d",
            "5830bcba1bcd41b1bd98cde0968cfe52",
            "a21892e08b87454698829adba5f21452",
            "8e313e859c7e49b0aad995ea9e3ed327",
            "fb45126330b946a6992ded133260bc6b"
          ]
        },
        "id": "Pqb9E_2RZrjU",
        "outputId": "a0f6cc0b-600c-480b-dfc6-25d46e931efc"
      },
      "execution_count": null,
      "outputs": [
        {
          "output_type": "stream",
          "name": "stderr",
          "text": [
            "/usr/local/lib/python3.10/dist-packages/huggingface_hub/utils/_token.py:89: UserWarning: \n",
            "The secret `HF_TOKEN` does not exist in your Colab secrets.\n",
            "To authenticate with the Hugging Face Hub, create a token in your settings tab (https://huggingface.co/settings/tokens), set it as secret in your Google Colab and restart your session.\n",
            "You will be able to reuse this secret in all of your notebooks.\n",
            "Please note that authentication is recommended but still optional to access public models or datasets.\n",
            "  warnings.warn(\n"
          ]
        },
        {
          "output_type": "display_data",
          "data": {
            "text/plain": [
              "tokenizer_config.json:   0%|          | 0.00/25.0 [00:00<?, ?B/s]"
            ],
            "application/vnd.jupyter.widget-view+json": {
              "version_major": 2,
              "version_minor": 0,
              "model_id": "d9ac8ff3103441bdb83c4d325cd483a7"
            }
          },
          "metadata": {}
        },
        {
          "output_type": "display_data",
          "data": {
            "text/plain": [
              "vocab.json:   0%|          | 0.00/899k [00:00<?, ?B/s]"
            ],
            "application/vnd.jupyter.widget-view+json": {
              "version_major": 2,
              "version_minor": 0,
              "model_id": "4aa54acc87af4b48909587d0e8517dbd"
            }
          },
          "metadata": {}
        },
        {
          "output_type": "display_data",
          "data": {
            "text/plain": [
              "merges.txt:   0%|          | 0.00/456k [00:00<?, ?B/s]"
            ],
            "application/vnd.jupyter.widget-view+json": {
              "version_major": 2,
              "version_minor": 0,
              "model_id": "0d07bd2a4df54265942042db4396d2d0"
            }
          },
          "metadata": {}
        },
        {
          "output_type": "display_data",
          "data": {
            "text/plain": [
              "tokenizer.json:   0%|          | 0.00/1.36M [00:00<?, ?B/s]"
            ],
            "application/vnd.jupyter.widget-view+json": {
              "version_major": 2,
              "version_minor": 0,
              "model_id": "89274350d5fe46bc8fe9b25f8a3c449e"
            }
          },
          "metadata": {}
        },
        {
          "output_type": "display_data",
          "data": {
            "text/plain": [
              "config.json:   0%|          | 0.00/481 [00:00<?, ?B/s]"
            ],
            "application/vnd.jupyter.widget-view+json": {
              "version_major": 2,
              "version_minor": 0,
              "model_id": "e10a180e808446138c86121f8f053787"
            }
          },
          "metadata": {}
        }
      ]
    },
    {
      "cell_type": "code",
      "source": [
        "# Convertire in tensori\n",
        "input_ids_tensor = torch.cat(input_ids, dim=0)\n",
        "attention_masks_tensor = torch.cat(attention_masks, dim=0)\n",
        "labels_tensor = torch.tensor(list(x_label))"
      ],
      "metadata": {
        "id": "8Yosu56OgKy4"
      },
      "execution_count": null,
      "outputs": []
    },
    {
      "cell_type": "code",
      "source": [
        "class CustomDataset(Dataset):\n",
        "    def __init__(self, input_ids, attention_masks, labels):\n",
        "        self.input_ids = input_ids\n",
        "        self.attention_masks = attention_masks\n",
        "        self.labels = labels\n",
        "\n",
        "    def __len__(self):\n",
        "        return len(self.labels)\n",
        "\n",
        "    def __getitem__(self, idx):\n",
        "        return {\n",
        "            'input_ids': self.input_ids[idx],\n",
        "            'attention_mask': self.attention_masks[idx],\n",
        "            'labels': self.labels[idx]\n",
        "        }\n",
        "\n",
        "dataset = CustomDataset(input_ids_tensor, attention_masks_tensor, labels_tensor)\n",
        "train_dataloader = DataLoader(dataset, batch_size=16, shuffle=True)"
      ],
      "metadata": {
        "id": "qGwme3nVfQOR"
      },
      "execution_count": null,
      "outputs": []
    },
    {
      "cell_type": "code",
      "source": [
        "\"\"\"\n",
        "model = BertForSequenceClassification.from_pretrained(\n",
        "    'bert-base-uncased',\n",
        "    num_labels = 2,\n",
        "    output_attentions = False,\n",
        "    output_hidden_states = False,\n",
        ")\n",
        "\"\"\"\n",
        "model = RobertaForSequenceClassification.from_pretrained(\n",
        "    'roberta-base',\n",
        "    num_labels=2,\n",
        "    output_attentions = False,\n",
        "    output_hidden_states = False,\n",
        ")\n",
        "\n",
        "\n",
        "device = torch.device(\"cuda\" if torch.cuda.is_available() else \"cpu\")\n",
        "model.to(device)"
      ],
      "metadata": {
        "colab": {
          "base_uri": "https://localhost:8080/",
          "height": 901,
          "referenced_widgets": [
            "f2dcd3b32d6e43d5aec0c8740faacf4a",
            "7b713357f74349699baac0e8da254a0e",
            "3365b1cf0b884f25ae4a0526209bd14b",
            "bfd4f8b4aa1c4c3b8977b1cfd17ca1d4",
            "e69815f562a24c73ad4577b6bafd7900",
            "50e26b79512b480ca6f534e7af27d1e1",
            "a90ac655fbae4cf4b3b816b1c7167800",
            "58d1f68c2be84a89920c8087614c1565",
            "47905f2acd274593af26ccf317a15a6f",
            "aa74f332c2f240b48da644d769e09cc7",
            "3444a1c37bcf441fbe2954141c088fb6"
          ]
        },
        "id": "bXpf4FpsiQMS",
        "outputId": "7d6fc334-7c53-4159-99a5-6e59de80c88e"
      },
      "execution_count": null,
      "outputs": [
        {
          "output_type": "display_data",
          "data": {
            "text/plain": [
              "model.safetensors:   0%|          | 0.00/499M [00:00<?, ?B/s]"
            ],
            "application/vnd.jupyter.widget-view+json": {
              "version_major": 2,
              "version_minor": 0,
              "model_id": "f2dcd3b32d6e43d5aec0c8740faacf4a"
            }
          },
          "metadata": {}
        },
        {
          "output_type": "stream",
          "name": "stderr",
          "text": [
            "Some weights of RobertaForSequenceClassification were not initialized from the model checkpoint at roberta-base and are newly initialized: ['classifier.dense.bias', 'classifier.dense.weight', 'classifier.out_proj.bias', 'classifier.out_proj.weight']\n",
            "You should probably TRAIN this model on a down-stream task to be able to use it for predictions and inference.\n"
          ]
        },
        {
          "output_type": "execute_result",
          "data": {
            "text/plain": [
              "RobertaForSequenceClassification(\n",
              "  (roberta): RobertaModel(\n",
              "    (embeddings): RobertaEmbeddings(\n",
              "      (word_embeddings): Embedding(50265, 768, padding_idx=1)\n",
              "      (position_embeddings): Embedding(514, 768, padding_idx=1)\n",
              "      (token_type_embeddings): Embedding(1, 768)\n",
              "      (LayerNorm): LayerNorm((768,), eps=1e-05, elementwise_affine=True)\n",
              "      (dropout): Dropout(p=0.1, inplace=False)\n",
              "    )\n",
              "    (encoder): RobertaEncoder(\n",
              "      (layer): ModuleList(\n",
              "        (0-11): 12 x RobertaLayer(\n",
              "          (attention): RobertaAttention(\n",
              "            (self): RobertaSelfAttention(\n",
              "              (query): Linear(in_features=768, out_features=768, bias=True)\n",
              "              (key): Linear(in_features=768, out_features=768, bias=True)\n",
              "              (value): Linear(in_features=768, out_features=768, bias=True)\n",
              "              (dropout): Dropout(p=0.1, inplace=False)\n",
              "            )\n",
              "            (output): RobertaSelfOutput(\n",
              "              (dense): Linear(in_features=768, out_features=768, bias=True)\n",
              "              (LayerNorm): LayerNorm((768,), eps=1e-05, elementwise_affine=True)\n",
              "              (dropout): Dropout(p=0.1, inplace=False)\n",
              "            )\n",
              "          )\n",
              "          (intermediate): RobertaIntermediate(\n",
              "            (dense): Linear(in_features=768, out_features=3072, bias=True)\n",
              "            (intermediate_act_fn): GELUActivation()\n",
              "          )\n",
              "          (output): RobertaOutput(\n",
              "            (dense): Linear(in_features=3072, out_features=768, bias=True)\n",
              "            (LayerNorm): LayerNorm((768,), eps=1e-05, elementwise_affine=True)\n",
              "            (dropout): Dropout(p=0.1, inplace=False)\n",
              "          )\n",
              "        )\n",
              "      )\n",
              "    )\n",
              "  )\n",
              "  (classifier): RobertaClassificationHead(\n",
              "    (dense): Linear(in_features=768, out_features=768, bias=True)\n",
              "    (dropout): Dropout(p=0.1, inplace=False)\n",
              "    (out_proj): Linear(in_features=768, out_features=2, bias=True)\n",
              "  )\n",
              ")"
            ]
          },
          "metadata": {},
          "execution_count": 17
        }
      ]
    },
    {
      "cell_type": "code",
      "source": [
        "model.train()\n",
        "optimizer = AdamW(model.parameters(), lr = 2e-5, eps = 1e-8)\n",
        "\n",
        "epochs = 4\n",
        "\n",
        "for epoch in range(epochs):\n",
        "    total_loss = 0\n",
        "\n",
        "    for batch in tqdm(train_dataloader):\n",
        "        b_input_ids = batch['input_ids'].to(device)\n",
        "        b_input_mask = batch['attention_mask'].to(device)\n",
        "        b_labels = batch['labels'].to(device)\n",
        "\n",
        "        optimizer.zero_grad()\n",
        "\n",
        "        outputs = model(b_input_ids,\n",
        "                        token_type_ids=None,\n",
        "                        attention_mask=b_input_mask,\n",
        "                        labels=b_labels)\n",
        "\n",
        "        loss = outputs.loss\n",
        "\n",
        "        loss.backward()\n",
        "        optimizer.step()\n",
        "\n",
        "        total_loss = loss.item()+total_loss\n",
        "        #print(f\"Loss: {loss.item()}\")\n",
        "\n",
        "    print(f\"Loss epoch {epoch}: {total_loss/len(train_dataloader)}\")"
      ],
      "metadata": {
        "colab": {
          "base_uri": "https://localhost:8080/"
        },
        "id": "JwXtTBETiYNg",
        "outputId": "f3edd7b2-720b-47d7-85a2-ffed538e86ea"
      },
      "execution_count": null,
      "outputs": [
        {
          "output_type": "stream",
          "name": "stderr",
          "text": [
            "/usr/local/lib/python3.10/dist-packages/transformers/optimization.py:591: FutureWarning: This implementation of AdamW is deprecated and will be removed in a future version. Use the PyTorch implementation torch.optim.AdamW instead, or set `no_deprecation_warning=True` to disable this warning\n",
            "  warnings.warn(\n",
            "100%|██████████| 674/674 [15:16<00:00,  1.36s/it]\n"
          ]
        },
        {
          "output_type": "stream",
          "name": "stdout",
          "text": [
            "Loss epoch 0: 0.45229101881871236\n"
          ]
        },
        {
          "output_type": "stream",
          "name": "stderr",
          "text": [
            "100%|██████████| 674/674 [15:16<00:00,  1.36s/it]\n"
          ]
        },
        {
          "output_type": "stream",
          "name": "stdout",
          "text": [
            "Loss epoch 1: 0.29669615013375655\n"
          ]
        },
        {
          "output_type": "stream",
          "name": "stderr",
          "text": [
            "100%|██████████| 674/674 [15:16<00:00,  1.36s/it]\n"
          ]
        },
        {
          "output_type": "stream",
          "name": "stdout",
          "text": [
            "Loss epoch 2: 0.17695932155502656\n"
          ]
        },
        {
          "output_type": "stream",
          "name": "stderr",
          "text": [
            "100%|██████████| 674/674 [15:16<00:00,  1.36s/it]"
          ]
        },
        {
          "output_type": "stream",
          "name": "stdout",
          "text": [
            "Loss epoch 3: 0.10548902735167986\n"
          ]
        },
        {
          "output_type": "stream",
          "name": "stderr",
          "text": [
            "\n"
          ]
        }
      ]
    },
    {
      "cell_type": "code",
      "source": [
        "model.save_pretrained('/content/drive/MyDrive/predictions_hate/fine_tuned_roberta')"
      ],
      "metadata": {
        "id": "1B-NeGLxiUHK"
      },
      "execution_count": null,
      "outputs": []
    },
    {
      "cell_type": "code",
      "source": [
        "# Testing del modello\n",
        "\n",
        "def predict_bert_supp(sentences,model):\n",
        "  if model == \"BERT\":\n",
        "    tokenizer = BertTokenizer.from_pretrained('bert-base-uncased')\n",
        "    model = BertForSequenceClassification.from_pretrained('/content/drive/MyDrive/predictions_hate/fine_tuned_bert')\n",
        "  elif model == \"RoBERTa\":\n",
        "    tokenizer = RobertaTokenizer.from_pretrained('roberta-base')\n",
        "    model = RobertaForSequenceClassification.from_pretrained('/content/drive/MyDrive/predictions_hate/fine_tuned_roberta')\n",
        "\n",
        "  model.eval()\n",
        "\n",
        "  device = torch.device(\"cuda\" if torch.cuda.is_available() else \"cpu\")\n",
        "  model.to(device)\n",
        "\n",
        "  input_ids = []\n",
        "  attention_masks = []\n",
        "\n",
        "  for sentence in sentences:\n",
        "      encoded_dict = tokenizer.encode_plus(\n",
        "                        sentence,\n",
        "                        add_special_tokens = True,\n",
        "                        max_length = None, #Uso della massima lunghezza del modello, nel caso di BERT 512 tokens\n",
        "                        padding = \"max_length\",\n",
        "                        truncation = True,\n",
        "                        return_attention_mask = True,\n",
        "                        return_tensors = 'pt',\n",
        "                   )\n",
        "\n",
        "      input_ids.append(encoded_dict['input_ids'])\n",
        "      attention_masks.append(encoded_dict['attention_mask'])\n",
        "\n",
        "  input_ids_tensor = torch.cat(input_ids, dim=0).to(device)\n",
        "  attention_masks_tensor = torch.cat(attention_masks, dim=0).to(device)\n",
        "\n",
        "  with torch.no_grad():\n",
        "    outputs = model(input_ids=input_ids_tensor, attention_mask=attention_masks_tensor)\n",
        "\n",
        "  # Estrai i logits (output non normalizzati del modello)\n",
        "  logits = outputs.logits\n",
        "\n",
        "  # Converti i logits in probabilità (se necessario)\n",
        "  probs = torch.softmax(logits, dim=1)\n",
        "\n",
        "  # Identifica la classe con la probabilità più alta\n",
        "  predicted_class = torch.argmax(probs, dim=1)\n",
        "\n",
        "  return predicted_class"
      ],
      "metadata": {
        "id": "5xXXbSX1lGFP"
      },
      "execution_count": null,
      "outputs": []
    },
    {
      "cell_type": "code",
      "source": [
        "# prova BERT\n",
        "\n",
        "def predict_bert(x_test,model):\n",
        "  y_pred = []\n",
        "  dim_group = 300\n",
        "  for i in range(0, len(x_test), dim_group): #prendo gruppi da 100\n",
        "    group = x_test[i:i + dim_group]\n",
        "    y_bert = predict_bert_supp(group,model)\n",
        "    y_pred.append(y_bert)\n",
        "\n",
        "  y_final = list(torch.cat(y_pred, dim=0).cpu().numpy())\n",
        "  return y_final"
      ],
      "metadata": {
        "id": "bJUlAB5Qsntz"
      },
      "execution_count": null,
      "outputs": []
    },
    {
      "cell_type": "markdown",
      "source": [
        "# LLM"
      ],
      "metadata": {
        "id": "gGaijfAUI01N"
      }
    },
    {
      "cell_type": "code",
      "source": [
        "examples = [\n",
        "    {\"input\": \"We need to keep our culture pure.\", \"output\": \"yes\"},\n",
        "    {\"input\": \"Fuck you.\", \"output\": \"yes\"},\n",
        "    {\"input\": \"It’s important to respect other people's choices.\", \"output\": \"no\"},\n",
        "    {\"input\": \"Some groups of people are bastards\", \"output\": \"yes\"},\n",
        "    {\"input\": \"I think the weather is nice today.\", \"output\": \"no\"},\n",
        "    {\"input\": \"Go back to where you came from, asshole.\", \"output\": \"yes\"},\n",
        "    {\"input\": \"Have a great day!.\", \"output\": \"no\"},\n",
        "    {\"input\": \"They're just different, and that's not a bad thing, but they shouldn't try to change us.\", \"output\": \"yes\"},\n",
        "]"
      ],
      "metadata": {
        "execution": {
          "iopub.status.busy": "2024-08-13T11:13:28.324036Z",
          "iopub.execute_input": "2024-08-13T11:13:28.324325Z",
          "iopub.status.idle": "2024-08-13T11:13:28.330107Z",
          "shell.execute_reply.started": "2024-08-13T11:13:28.324299Z",
          "shell.execute_reply": "2024-08-13T11:13:28.329192Z"
        },
        "trusted": true,
        "id": "Z5s_mU9sv00H"
      },
      "execution_count": null,
      "outputs": []
    },
    {
      "cell_type": "code",
      "source": [
        "from langchain_core.prompts import ChatPromptTemplate, FewShotChatMessagePromptTemplate\n",
        "\n",
        "def create_prompt(shot):\n",
        "    example_prompt  = ChatPromptTemplate.from_messages(\n",
        "        [\n",
        "            (\"user\", \"{input}\"),\n",
        "            (\"assistant\", \"{output}\"),\n",
        "        ]\n",
        "    )\n",
        "\n",
        "    few_shot_prompt = FewShotChatMessagePromptTemplate(\n",
        "        example_prompt=example_prompt ,\n",
        "        examples=examples[:shot], #:2 two-shot, #4: four-shot #8 eight-shot\n",
        "    )\n",
        "\n",
        "    prompt = ChatPromptTemplate.from_messages(\n",
        "        [\n",
        "            (\"system\", \"\"\"You are an helpful assistant who has to detect the presence of hate speech.\n",
        "                Hate speech is speech that attacks a person or group based on attributes such as race, religion, ethnic origin, national origin, sex, disability, sexual orientation, or gender identity.\n",
        "                You have to answer \"yes\" if it contains hate speech, or \"no\" if it doesn't contain hate speech.\n",
        "                Give only the answer \"yes\" or \"no\", NO PREAMBLE, NO EXPLANATIONS.\"\"\"),\n",
        "             few_shot_prompt,\n",
        "            (\"user\", \"{input}\"),\n",
        "        ] if shot>0 else\n",
        "        [\n",
        "            (\"system\", \"\"\"You are an helpful assistant who has to detect the presence of hate speech.\n",
        "                Hate speech is speech that attacks a person or group based on attributes such as race, religion, ethnic origin, national origin, sex, disability, sexual orientation, or gender identity.\n",
        "                You have to answer \"yes\" if it contains hate speech, or \"no\" if it doesn't contain hate speech.\n",
        "                Give only the answer \"yes\" or \"no\", NO PREAMBLE, NO EXPLANATIONS.\"\"\"),\n",
        "            (\"user\", \"{input}\"),\n",
        "        ]\n",
        "    )\n",
        "    return prompt"
      ],
      "metadata": {
        "execution": {
          "iopub.status.busy": "2024-08-13T11:13:28.332988Z",
          "iopub.execute_input": "2024-08-13T11:13:28.333315Z",
          "iopub.status.idle": "2024-08-13T11:13:28.342308Z",
          "shell.execute_reply.started": "2024-08-13T11:13:28.333291Z",
          "shell.execute_reply": "2024-08-13T11:13:28.341333Z"
        },
        "trusted": true,
        "id": "sPTQVSnov00H"
      },
      "execution_count": null,
      "outputs": []
    },
    {
      "cell_type": "code",
      "source": [
        "#import functools\n",
        "import sys\n",
        "import io\n",
        "\n",
        "def hate_speech_detection(llm, shot):\n",
        "    prompt_final = create_prompt(shot)\n",
        "    hate_speech_detection = prompt_final | llm\n",
        "    return hate_speech_detection"
      ],
      "metadata": {
        "execution": {
          "iopub.status.busy": "2024-08-13T11:13:28.343388Z",
          "iopub.execute_input": "2024-08-13T11:13:28.343676Z",
          "iopub.status.idle": "2024-08-13T11:13:28.357996Z",
          "shell.execute_reply.started": "2024-08-13T11:13:28.343632Z",
          "shell.execute_reply": "2024-08-13T11:13:28.357137Z"
        },
        "trusted": true,
        "id": "DQHF3Ghiv00I"
      },
      "execution_count": null,
      "outputs": []
    },
    {
      "cell_type": "code",
      "source": [
        "def predict(llm,x_test,shot):\n",
        "    y_pred = []\n",
        "    chain = hate_speech_detection(llm,shot)\n",
        "    for x in tqdm(x_test):\n",
        "        answer = chain.invoke({\"input\": x})\n",
        "        #print(answer)\n",
        "        if \"no\" in answer.lower(): y_pred.append(0) #no hate speech\n",
        "        else: y_pred.append(1) #hate speech\n",
        "    return y_pred"
      ],
      "metadata": {
        "execution": {
          "iopub.status.busy": "2024-08-13T11:13:28.359152Z",
          "iopub.execute_input": "2024-08-13T11:13:28.359686Z",
          "iopub.status.idle": "2024-08-13T11:13:28.368866Z",
          "shell.execute_reply.started": "2024-08-13T11:13:28.359655Z",
          "shell.execute_reply": "2024-08-13T11:13:28.368009Z"
        },
        "trusted": true,
        "id": "r1aBrss8v00I"
      },
      "execution_count": null,
      "outputs": []
    },
    {
      "cell_type": "markdown",
      "source": [
        "# Testing"
      ],
      "metadata": {
        "id": "00l1pJykQ5Ii"
      }
    },
    {
      "cell_type": "code",
      "source": [
        "import time\n",
        "import json\n",
        "\n",
        "models = [\"RoBERTa\"]\n",
        "shots = [0,2,4,8]\n",
        "\n",
        "def write_file(filename,content):\n",
        "    with open(filename, 'w') as file:\n",
        "        json.dump(content, file, indent=4)\n",
        "\n",
        "for model in models:\n",
        "    if model==\"BERT\" or model==\"RoBERTa\":\n",
        "      y_pred = predict_bert(x_test,model)\n",
        "      y_list = [int(x) for x in y_pred]\n",
        "      write_file(f\"/content/drive/MyDrive/predictions_hate/prediction_hate_speech_{model}.json\", y_list)\n",
        "    else:\n",
        "      start_ollama()\n",
        "      pull_model(model)\n",
        "      start_model(model)\n",
        "      time.sleep(500)\n",
        "      llm = Ollama(model=model, temperature=0)\n",
        "      for shot in shots:\n",
        "          y_pred = predict(llm,x_test,shot)\n",
        "          if model==\"llama3.1\":\n",
        "              write_file(f\"/content/drive/MyDrive/predictions_hate/prediction_hate_speech_llama31_{shot}_shot.json\", y_pred)\n",
        "          else:\n",
        "              write_file(f\"/content/drive/MyDrive/predictions_hate/prediction_hate_speech_{model}_{shot}_shot.json\", y_pred)"
      ],
      "metadata": {
        "execution": {
          "iopub.status.busy": "2024-08-13T11:13:28.369906Z",
          "iopub.execute_input": "2024-08-13T11:13:28.370164Z"
        },
        "trusted": true,
        "id": "j0FLeKKMv00J",
        "colab": {
          "base_uri": "https://localhost:8080/"
        },
        "outputId": "aefabb5d-2c8c-46ac-ec4b-21774f2b1912"
      },
      "execution_count": null,
      "outputs": [
        {
          "output_type": "stream",
          "name": "stderr",
          "text": [
            "/usr/local/lib/python3.10/dist-packages/huggingface_hub/utils/_token.py:89: UserWarning: \n",
            "The secret `HF_TOKEN` does not exist in your Colab secrets.\n",
            "To authenticate with the Hugging Face Hub, create a token in your settings tab (https://huggingface.co/settings/tokens), set it as secret in your Google Colab and restart your session.\n",
            "You will be able to reuse this secret in all of your notebooks.\n",
            "Please note that authentication is recommended but still optional to access public models or datasets.\n",
            "  warnings.warn(\n"
          ]
        }
      ]
    },
    {
      "cell_type": "markdown",
      "source": [
        "# Evaluation"
      ],
      "metadata": {
        "id": "S6F8Q8JuQ7ax"
      }
    },
    {
      "cell_type": "code",
      "source": [
        "import json\n",
        "\n",
        "def load_json(filename):\n",
        "    with open(filename, 'r') as file:\n",
        "        return json.load(file)\n",
        "\n",
        "# Label 0: no hate speech\n",
        "# Label 1: hate speech\n",
        "\n",
        "#model = \"llama31\" #gemma2 #mistral #llama31\n",
        "#shot = 0 #2 #4 #8\n",
        "y_pred = load_json(\"/content/drive/MyDrive/predictions_hate/prediction_hate_speech_BERT.json\")\n",
        "\n",
        "accuracy = accuracy_score(y_test, y_pred)\n",
        "conf_matrix = confusion_matrix(y_test, y_pred)\n",
        "class_report = classification_report(y_test, y_pred, labels=[0,1], output_dict=True)\n",
        "\n",
        "TN, FP, FN, TP = conf_matrix.ravel()\n",
        "\n",
        "print(f\"Accuracy: {accuracy}\")\n",
        "print(f\"Confusion Matrix:\\n{conf_matrix}\")\n",
        "print(f\"Classification Report:\\n{class_report}\")"
      ],
      "metadata": {
        "trusted": true,
        "id": "Ijc6_VIRv00L",
        "colab": {
          "base_uri": "https://localhost:8080/"
        },
        "outputId": "68a844fc-ea39-45d2-acef-713e7f7d359e"
      },
      "execution_count": null,
      "outputs": [
        {
          "output_type": "stream",
          "name": "stdout",
          "text": [
            "Accuracy: 0.8259192948629666\n",
            "Confusion Matrix:\n",
            "[[3177  407]\n",
            " [ 857 2820]]\n",
            "Classification Report:\n",
            "{'0': {'precision': 0.7875557759048091, 'recall': 0.8864397321428571, 'f1-score': 0.8340771856130216, 'support': 3584.0}, '1': {'precision': 0.8738766656337156, 'recall': 0.7669295621430514, 'f1-score': 0.816917728852839, 'support': 3677.0}, 'accuracy': 0.8259192948629666, 'macro avg': {'precision': 0.8307162207692623, 'recall': 0.8266846471429543, 'f1-score': 0.8254974572329303, 'support': 7261.0}, 'weighted avg': {'precision': 0.8312690263569767, 'recall': 0.8259192948629666, 'f1-score': 0.8253875667578788, 'support': 7261.0}}\n"
          ]
        }
      ]
    },
    {
      "cell_type": "code",
      "source": [
        "import json\n",
        "\n",
        "def load_json(filename):\n",
        "    with open(filename, 'r') as file:\n",
        "        return json.load(file)\n",
        "\n",
        "def write_file(filename,content):\n",
        "    with open(filename, 'w') as file:\n",
        "        json.dump(content, file, indent=4)"
      ],
      "metadata": {
        "id": "0p70KBPIv00L"
      },
      "execution_count": null,
      "outputs": []
    },
    {
      "cell_type": "code",
      "source": [
        "def compute_result(model, shot, y_test) -> pd.DataFrame:\n",
        "  if model == \"BERT\" or model == \"RoBERTa\":\n",
        "    y_pred = load_json(f\"/content/drive/MyDrive/predictions_hate/prediction_hate_speech_{model}.json\")\n",
        "  else:\n",
        "    y_pred = load_json(f\"/content/drive/MyDrive/predictions_hate/prediction_hate_speech_{model}_{shot}_shot.json\")\n",
        "\n",
        "  accuracy = accuracy_score(y_test, y_pred)\n",
        "  conf_matrix = confusion_matrix(y_test, y_pred)\n",
        "  class_report = classification_report(y_test, y_pred, labels=[0,1], output_dict=True)\n",
        "\n",
        "  TN, FP, FN, TP = conf_matrix.ravel()\n",
        "\n",
        "  df = pd.DataFrame()\n",
        "  df[\"model\"] = [model]\n",
        "  df[\"shots\"] = [shot]\n",
        "\n",
        "  df[\"precision\"] = class_report[\"1\"][\"precision\"]\n",
        "  df[\"recall\"] = class_report[\"1\"][\"recall\"]\n",
        "  df[\"f1\"] = class_report[\"1\"][\"f1-score\"]\n",
        "  df[\"accuracy\"] = class_report[\"accuracy\"]\n",
        "  df[\"TP\"] = TP\n",
        "  df[\"FP\"] = FP\n",
        "  df[\"TN\"] = TN\n",
        "  df[\"FN\"] = FN\n",
        "\n",
        "  df[\"macro_precision\"] = class_report[\"macro avg\"][\"precision\"]\n",
        "  df[\"macro_recall\"] = class_report[\"macro avg\"][\"recall\"]\n",
        "  df[\"macro_f1\"] = class_report[\"macro avg\"][\"f1-score\"]\n",
        "\n",
        "  df[\"w_precision\"] = class_report[\"weighted avg\"][\"precision\"]\n",
        "  df[\"w_recall\"] = class_report[\"weighted avg\"][\"recall\"]\n",
        "  df[\"w_f1\"] = class_report[\"weighted avg\"][\"f1-score\"]\n",
        "\n",
        "  return df"
      ],
      "metadata": {
        "id": "cQb7lXVheTnF"
      },
      "execution_count": null,
      "outputs": []
    },
    {
      "cell_type": "code",
      "source": [
        "import openpyxl\n",
        "\n",
        "models = [\"llama31\",\"gemma2\",\"mistral\",\"BERT\",\"RoBERTa\"]\n",
        "shots = [0,2,4,8]\n",
        "\n",
        "excel_file = \"/content/drive/MyDrive/predictions_hate/Hate_speech_test.xlsx\"\n",
        "results = pd.DataFrame()\n",
        "for model in models:\n",
        "  if model == \"BERT\" or model == \"RoBERTa\":\n",
        "    new_row = compute_result(model, 0, y_test)\n",
        "    results = pd.concat([results, new_row], ignore_index=True)\n",
        "  else:\n",
        "    for shot in shots:\n",
        "      new_row = compute_result(model, shot, y_test)\n",
        "      results = pd.concat([results, new_row], ignore_index=True)\n",
        "print(results.round(3))\n",
        "\n",
        "results.round(3).to_excel(excel_file, index=False, engine='openpyxl')"
      ],
      "metadata": {
        "id": "0yQ0BPy0v00M"
      },
      "execution_count": null,
      "outputs": []
    },
    {
      "cell_type": "code",
      "source": [
        "# Per la matrice di confusione (modello BERT)\n",
        "import matplotlib.pyplot as plt\n",
        "import seaborn as sns\n",
        "from sklearn.metrics import confusion_matrix\n",
        "\n",
        "y_pred = load_json(\"/content/drive/MyDrive/predictions_hate/prediction_hate_speech_BERT.json\")\n",
        "cm = confusion_matrix(y_test, y_pred)\n",
        "\n",
        "class_names = [\"no hate speech\", \"hate speech\"]\n",
        "plt.figure(figsize=(8, 6))\n",
        "sns.heatmap(cm, annot=True, fmt=\"d\", cmap=\"Blues\", cbar=False,\n",
        "            xticklabels=class_names, yticklabels=class_names)\n",
        "\n",
        "# Aggiungi etichette e titolo\n",
        "plt.xlabel('Predicted Label')\n",
        "plt.ylabel('True Label')\n",
        "plt.title('Confusion Matrix')\n",
        "\n",
        "# Mostra il grafico\n",
        "plt.show()\n"
      ],
      "metadata": {
        "id": "zwTfV71dhSde"
      },
      "execution_count": null,
      "outputs": []
    },
    {
      "cell_type": "code",
      "source": [
        "# Impatto few-shot\n",
        "num_examples = [0, 2, 4, 8]\n",
        "models = [\"llama31\",\"gemma2\",\"mistral\"]\n",
        "metric = \"macro_f1\"\n",
        "\n",
        "for model in models:\n",
        "  df = pd.read_excel(\"/content/drive/MyDrive/predictions_hate/Hate_speech_test.xlsx\")\n",
        "  df_model = df[df[\"model\"] == model]\n",
        "  model_performance = df_model[metric].values\n",
        "  plt.plot(num_examples, model_performance, marker='o', label=f\"Model {model}\")\n",
        "\n",
        "plt.xlabel('Number of Examples')\n",
        "plt.ylabel('Performance Macro F1')\n",
        "plt.title('Model Performance vs. Number of Few-Shot Examples')\n",
        "plt.legend()\n",
        "plt.grid(True)\n",
        "plt.show()"
      ],
      "metadata": {
        "colab": {
          "base_uri": "https://localhost:8080/",
          "height": 472
        },
        "id": "CkvC6oU4p1Tc",
        "outputId": "80bb6c57-dfc2-4ceb-e0e7-2f00bb1fb11d"
      },
      "execution_count": null,
      "outputs": [
        {
          "output_type": "display_data",
          "data": {
            "text/plain": [
              "<Figure size 640x480 with 1 Axes>"
            ],
            "image/png": "[encoded data removed]"
          },
          "metadata": {}
        }
      ]
    },
    {
      "cell_type": "code",
      "source": [
        "x = np.arange(len(num_examples))  # La posizione delle barre\n",
        "width = 0.25  # Larghezza delle barre\n",
        "\n",
        "# Plot\n",
        "fig, ax = plt.subplots()\n",
        "bar_llama = None\n",
        "bar_gemma2 = None\n",
        "bar_mistral = None\n",
        "for model in models:\n",
        "  df = pd.read_excel(\"/content/drive/MyDrive/predictions_hate/Hate_speech_test.xlsx\")\n",
        "  df_model = df[df[\"model\"] == model]\n",
        "  model_performance = df_model[metric].values\n",
        "  if model == \"llama31\":\n",
        "    bar_llama = ax.bar(x - width/2, model_performance, width, label=f'Model {model}')\n",
        "  elif model == \"gemma2\":\n",
        "    bar_gemma2 = ax.bar(x + width/2, model_performance, width, label=f'Model {model}')\n",
        "  elif model == \"mistral\":\n",
        "    bar_mistral = ax.bar(x + width, model_performance, width, label=f'Model {model}')\n",
        "\n",
        "ax.set_xlabel('Number of Examples')\n",
        "ax.set_ylabel('Performance Macro F1')\n",
        "ax.set_title('Model Performance by Number of Few-Shot Examples')\n",
        "ax.set_xticks(x)\n",
        "ax.set_xticklabels(num_examples)\n",
        "ax.legend(loc='lower center', bbox_to_anchor=(0.5, -0.35))\n",
        "\n",
        "plt.show()"
      ],
      "metadata": {
        "colab": {
          "base_uri": "https://localhost:8080/",
          "height": 551
        },
        "id": "U8TpMR7_1YH6",
        "outputId": "e26d70d8-c8a3-4028-fccb-6a729d41cd23"
      },
      "execution_count": null,
      "outputs": [
        {
          "output_type": "display_data",
          "data": {
            "text/plain": [
              "<Figure size 640x480 with 1 Axes>"
            ],
            "image/png": "[encoded data removed]"
          },
          "metadata": {}
        }
      ]
    },
    {
      "cell_type": "markdown",
      "source": [
        "# Evaluation ENTAILMENT"
      ],
      "metadata": {
        "id": "MP9d0Pgobr5w"
      }
    },
    {
      "cell_type": "code",
      "source": [
        "import matplotlib.pyplot as plt\n",
        "import numpy as np\n",
        "\n",
        "# Dati estratti dalla tabella\n",
        "shots = [0, 3, 6, 12]\n",
        "metric = \"f1_0\"\n",
        "\n",
        "# F1 Scores per each combination of Type Acceptance and Neutral\n",
        "df = pd.read_excel(\"/content/drive/MyDrive/predictions_entailment/test_entailment_labels_X.xlsx\")\n",
        "df_ass_contr_no_neutral = df[(df[\"type_acceptance\"] == \"Skeptical\") & (df[\"neutral\"] == \"No-Neutral\")]\n",
        "df_ass_contr_neutral = df[(df[\"type_acceptance\"] == \"Skeptical\") & (df[\"neutral\"] == \"Neutral\")]\n",
        "df_ent_dir_no_neutral = df[(df[\"type_acceptance\"] == \"Credulous\") & (df[\"neutral\"] == \"No-Neutral\")]\n",
        "df_ent_dir_neutral = df[(df[\"type_acceptance\"] == \"Credulous\") & (df[\"neutral\"] == \"Neutral\")]\n",
        "\n",
        "\n",
        "f1_scores = {\n",
        "    \"Ass. Contr. No-Neutral\": df_ass_contr_no_neutral[metric].values,\n",
        "    \"Ass. Contr. Neutral\": df_ass_contr_neutral[metric].values,\n",
        "    \"Ent. dir. No-Neutral\": df_ent_dir_no_neutral[metric].values,\n",
        "    \"Ent. dir. Neutral\": df_ent_dir_neutral[metric].values\n",
        "}\n",
        "\n",
        "# Setting the positions and width for the bars\n",
        "bar_width = 0.2\n",
        "x = np.arange(len(shots))\n",
        "\n",
        "# Plotting the bars\n",
        "fig, ax = plt.subplots(figsize=(10, 6))\n",
        "\n",
        "ax.bar(x - 1.5*bar_width, f1_scores[\"Ass. Contr. No-Neutral\"], bar_width, label='Ass. Contr. No-Neutral', color='#4CAF50')\n",
        "ax.bar(x - 0.5*bar_width, f1_scores[\"Ass. Contr. Neutral\"], bar_width, label='Ass. Contr. Neutral', color='#FF9800')\n",
        "ax.bar(x + 0.5*bar_width, f1_scores[\"Ent. dir. No-Neutral\"], bar_width, label='Ent. dir. No-Neutral', color='#81C784')\n",
        "ax.bar(x + 1.5*bar_width, f1_scores[\"Ent. dir. Neutral\"], bar_width, label='Ent. dir. Neutral', color='#FFB74D')\n",
        "\n",
        "# Adding labels and title\n",
        "ax.set_xlabel('Shots')\n",
        "ax.set_ylabel('F1 Score')\n",
        "ax.set_title('F1 Scores for Acceptance Types and Neutrality Levels Across Real Documents')\n",
        "ax.set_xticks(x)\n",
        "ax.set_xticklabels(shots)\n",
        "ax.legend(loc='lower center', bbox_to_anchor=(0.5, -0.25), ncols=2)\n",
        "\n",
        "# Display the plot\n",
        "plt.show()"
      ],
      "metadata": {
        "id": "6gck_CNIbtjx",
        "colab": {
          "base_uri": "https://localhost:8080/",
          "height": 629
        },
        "outputId": "2c319d36-40ee-4e7f-fded-15124ce63966"
      },
      "execution_count": 13,
      "outputs": [
        {
          "output_type": "display_data",
          "data": {
            "text/plain": [
              "<Figure size 1000x600 with 1 Axes>"
            ],
            "image/png": "[encoded data removed]"
          },
          "metadata": {}
        }
      ]
    },
    {
      "cell_type": "code",
      "source": [
        "# Dati estratti dalla tabella\n",
        "shots = [0, 3, 6, 12]\n",
        "metric = \"f1_1\"\n",
        "\n",
        "# F1 Scores per each combination of Type Acceptance and Neutral\n",
        "df = pd.read_excel(\"/content/drive/MyDrive/predictions_entailment/test_entailment_labels_X.xlsx\")\n",
        "df_ass_contr_no_neutral = df[(df[\"type_acceptance\"] == \"Skeptical\") & (df[\"neutral\"] == \"No-Neutral\")]\n",
        "df_ass_contr_neutral = df[(df[\"type_acceptance\"] == \"Skeptical\") & (df[\"neutral\"] == \"Neutral\")]\n",
        "df_ent_dir_no_neutral = df[(df[\"type_acceptance\"] == \"Credulous\") & (df[\"neutral\"] == \"No-Neutral\")]\n",
        "df_ent_dir_neutral = df[(df[\"type_acceptance\"] == \"Credulous\") & (df[\"neutral\"] == \"Neutral\")]\n",
        "\n",
        "f1_scores = {\n",
        "    \"Ass. Contr. No-Neutral\": df_ass_contr_no_neutral[metric].values,\n",
        "    \"Ass. Contr. Neutral\": df_ass_contr_neutral[metric].values,\n",
        "    \"Ent. dir. No-Neutral\": df_ent_dir_no_neutral[metric].values,\n",
        "    \"Ent. dir. Neutral\": df_ent_dir_neutral[metric].values\n",
        "}\n",
        "\n",
        "# Setting the positions and width for the bars\n",
        "bar_width = 0.2\n",
        "x = np.arange(len(shots))\n",
        "\n",
        "# Plotting the bars\n",
        "fig, ax = plt.subplots(figsize=(10, 6))\n",
        "\n",
        "ax.bar(x - 1.5*bar_width, f1_scores[\"Ass. Contr. No-Neutral\"], bar_width, label='Ass. Contr. No-Neutral', color='#4CAF50')\n",
        "ax.bar(x - 0.5*bar_width, f1_scores[\"Ass. Contr. Neutral\"], bar_width, label='Ass. Contr. Neutral', color='#FF9800')\n",
        "ax.bar(x + 0.5*bar_width, f1_scores[\"Ent. dir. No-Neutral\"], bar_width, label='Ent. dir. No-Neutral', color='#81C784')\n",
        "ax.bar(x + 1.5*bar_width, f1_scores[\"Ent. dir. Neutral\"], bar_width, label='Ent. dir. Neutral', color='#FFB74D')\n",
        "\n",
        "# Adding labels and title\n",
        "ax.set_xlabel('Shots')\n",
        "ax.set_ylabel('F1 Score')\n",
        "ax.set_title('F1 Scores for Acceptance Types and Neutrality Levels Across Fake Documents')\n",
        "ax.set_xticks(x)\n",
        "ax.set_xticklabels(shots)\n",
        "ax.legend(loc='lower center', bbox_to_anchor=(0.5, -0.25), ncols=2)\n",
        "\n",
        "# Display the plot\n",
        "plt.show()"
      ],
      "metadata": {
        "id": "TX6WI7hS2GCc",
        "colab": {
          "base_uri": "https://localhost:8080/",
          "height": 629
        },
        "outputId": "1e6a9169-0045-4fc4-f2b7-b93ba3283ae9"
      },
      "execution_count": 14,
      "outputs": [
        {
          "output_type": "display_data",
          "data": {
            "text/plain": [
              "<Figure size 1000x600 with 1 Axes>"
            ],
            "image/png": "[encoded data removed]"
          },
          "metadata": {}
        }
      ]
    },
    {
      "cell_type": "code",
      "source": [
        "import matplotlib.pyplot as plt\n",
        "import numpy as np\n",
        "\n",
        "# Dati estratti dalla tabella\n",
        "aspects = [\"Health\", \"Governmental\", \"Society\"]\n",
        "\n",
        "# F1 Scores per each combination of Type Acceptance and Neutral 12 shots\n",
        "df = pd.read_excel(\"/content/drive/MyDrive/predictions_entailment/test_entailment_aspects_X.xlsx\")\n",
        "df_ass_contr_no_neutral = df[(df[\"type_acceptance\"] == \"Skeptical\") & (df[\"neutral\"] == \"No-Neutral\") & (df[\"shots\"] ==6)]\n",
        "df_ass_contr_neutral = df[(df[\"type_acceptance\"] == \"Skeptical\") & (df[\"neutral\"] == \"Neutral\") & (df[\"shots\"] ==6)]\n",
        "df_ent_dir_no_neutral = df[(df[\"type_acceptance\"] == \"Credulous\") & (df[\"neutral\"] == \"No-Neutral\") & (df[\"shots\"] ==6)]\n",
        "df_ent_dir_neutral = df[(df[\"type_acceptance\"] == \"Credulous\") & (df[\"neutral\"] == \"Neutral\") & (df[\"shots\"] ==6)]\n",
        "\n",
        "f1_scores = {\n",
        "    \"Ass. Contr. No-Neutral\": [df_ass_contr_no_neutral[f\"f1_{aspect}\"].values[0] for aspect in aspects],\n",
        "    \"Ass. Contr. Neutral\": [df_ass_contr_neutral[f\"f1_{aspect}\"].values[0] for aspect in aspects],\n",
        "    \"Ent. dir. No-Neutral\": [df_ent_dir_no_neutral[f\"f1_{aspect}\"].values[0] for aspect in aspects],\n",
        "    \"Ent. dir. Neutral\": [df_ent_dir_neutral[f\"f1_{aspect}\"].values[0] for aspect in aspects]\n",
        "}\n",
        "\n",
        "# Setting the positions and width for the bars\n",
        "bar_width = 0.2\n",
        "x = np.arange(len(aspects))\n",
        "\n",
        "# Plotting the bars\n",
        "fig, ax = plt.subplots(figsize=(10, 6))\n",
        "\n",
        "ax.bar(x - 1.5*bar_width, f1_scores[\"Ass. Contr. No-Neutral\"], bar_width, label='Ass. Contr. No-Neutral', color='#4CAF50')\n",
        "ax.bar(x - 0.5*bar_width, f1_scores[\"Ass. Contr. Neutral\"], bar_width, label='Ass. Contr. Neutral', color='#FF9800')\n",
        "ax.bar(x + 0.5*bar_width, f1_scores[\"Ent. dir. No-Neutral\"], bar_width, label='Ent. dir. No-Neutral', color='#81C784')\n",
        "ax.bar(x + 1.5*bar_width, f1_scores[\"Ent. dir. Neutral\"], bar_width, label='Ent. dir. Neutral', color='#FFB74D')\n",
        "\n",
        "# Adding labels and title\n",
        "ax.set_ylabel('F1 Score')\n",
        "ax.set_title('F1 Scores for Acceptance Types and Neutrality Levels For Aspect')\n",
        "ax.set_xticks(x)\n",
        "ax.set_xticklabels(aspects)\n",
        "ax.legend(loc='lower center', bbox_to_anchor=(0.5, -0.20), ncols=2)\n",
        "\n",
        "# Display the plot\n",
        "plt.show()"
      ],
      "metadata": {
        "colab": {
          "base_uri": "https://localhost:8080/",
          "height": 606
        },
        "id": "l3fpUkKX5xjj",
        "outputId": "2ac68285-5275-4187-e1dc-d9d83e79a141"
      },
      "execution_count": 21,
      "outputs": [
        {
          "output_type": "display_data",
          "data": {
            "text/plain": [
              "<Figure size 1000x600 with 1 Axes>"
            ],
            "image/png": "[encoded data removed]"
          },
          "metadata": {}
        }
      ]
    },
    {
      "cell_type": "code",
      "source": [],
      "metadata": {
        "id": "bHIkAQcy_XGH"
      },
      "execution_count": null,
      "outputs": []
    }
  ]
}