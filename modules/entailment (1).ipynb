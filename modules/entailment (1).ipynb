{
  "metadata": {
    "kernelspec": {
      "language": "python",
      "display_name": "Python 3",
      "name": "python3"
    },
    "language_info": {
      "name": "python",
      "version": "3.10.13",
      "mimetype": "text/x-python",
      "codemirror_mode": {
        "name": "ipython",
        "version": 3
      },
      "pygments_lexer": "ipython3",
      "nbconvert_exporter": "python",
      "file_extension": ".py"
    },
    "kaggle": {
      "accelerator": "gpu",
      "dataSources": [
        {
          "sourceId": 9116374,
          "sourceType": "datasetVersion",
          "datasetId": 5502671
        }
      ],
      "dockerImageVersionId": 30747,
      "isInternetEnabled": true,
      "language": "python",
      "sourceType": "notebook",
      "isGpuEnabled": true
    },
    "colab": {
      "provenance": [],
      "collapsed_sections": [
        "THiaVU34NG9p",
        "prNFW_htNCii",
        "oQm_rCTVNCio",
        "31Y5Z8FkNPDJ"
      ]
    }
  },
  "nbformat_minor": 0,
  "nbformat": 4,
  "cells": [
    {
      "cell_type": "markdown",
      "source": [
        "# Vector Data Store for entailment"
      ],
      "metadata": {
        "id": "THiaVU34NG9p"
      }
    },
    {
      "cell_type": "markdown",
      "source": [
        "## Preprocessing"
      ],
      "metadata": {
        "id": "prNFW_htNCii"
      }
    },
    {
      "cell_type": "code",
      "source": [
        "import pandas as pd\n",
        "import re"
      ],
      "metadata": {
        "execution": {
          "iopub.status.busy": "2024-08-07T08:39:41.457541Z",
          "iopub.execute_input": "2024-08-07T08:39:41.457988Z",
          "iopub.status.idle": "2024-08-07T08:39:42.474544Z",
          "shell.execute_reply.started": "2024-08-07T08:39:41.457953Z",
          "shell.execute_reply": "2024-08-07T08:39:42.473767Z"
        },
        "trusted": true,
        "id": "GsnXZo2ENCik"
      },
      "execution_count": null,
      "outputs": []
    },
    {
      "cell_type": "code",
      "source": [
        "def text_preprocessing(text):\n",
        "    text = text.lower()\n",
        "    text = re.sub('\\[.*?\\]', '', text)\n",
        "    text = re.sub('https?://\\S+|www\\.\\S+', '', text)\n",
        "    text = re.sub('<.*?>+', '', text)\n",
        "    text = re.sub('\\n', '', text)\n",
        "    text = re.sub('\\w*\\d\\w*', '', text)\n",
        "    text.encode('ascii', 'ignore').decode('ascii')\n",
        "    if text.startswith(\"''\"):\n",
        "        text = text[1:-1]\n",
        "    return text"
      ],
      "metadata": {
        "execution": {
          "iopub.status.busy": "2024-08-07T08:39:49.668310Z",
          "iopub.execute_input": "2024-08-07T08:39:49.669123Z",
          "iopub.status.idle": "2024-08-07T08:39:49.675336Z",
          "shell.execute_reply.started": "2024-08-07T08:39:49.669094Z",
          "shell.execute_reply": "2024-08-07T08:39:49.674351Z"
        },
        "trusted": true,
        "id": "LsFQk2aYNCil"
      },
      "execution_count": null,
      "outputs": []
    },
    {
      "cell_type": "code",
      "source": [
        "data = pd.read_csv(\"/kaggle/input/fake-news-covid/prova\")\n",
        "\n",
        "display(data[\"id\"])"
      ],
      "metadata": {
        "execution": {
          "iopub.status.busy": "2024-08-07T08:39:49.885252Z",
          "iopub.execute_input": "2024-08-07T08:39:49.885837Z",
          "iopub.status.idle": "2024-08-07T08:39:50.227307Z",
          "shell.execute_reply.started": "2024-08-07T08:39:49.885806Z",
          "shell.execute_reply": "2024-08-07T08:39:50.226273Z"
        },
        "trusted": true,
        "id": "hTZ-eaXGNCil",
        "outputId": "5a90e506-09f5-415a-dc1b-50f30c438392"
      },
      "execution_count": null,
      "outputs": [
        {
          "output_type": "display_data",
          "data": {
            "text/plain": "0        1344763058888048643\n1        1344756661567823872\n2        1344733112454942721\n3        1344770503014297602\n4        1344719068520095744\n                ...         \n11425    1413112332385927169\n11426    1413102602410156032\n11427    1413142807024336909\n11428    1413143486568681478\n11429    1413129569662554117\nName: id, Length: 11430, dtype: int64"
          },
          "metadata": {}
        }
      ]
    },
    {
      "cell_type": "code",
      "source": [
        "data_mis = pd.read_csv(\"/kaggle/input/fake-news-covid/VaxMisinfoData.csv\")\n",
        "\n",
        "display(data_mis[\"id\"])"
      ],
      "metadata": {
        "execution": {
          "iopub.status.busy": "2024-08-07T08:39:50.927860Z",
          "iopub.execute_input": "2024-08-07T08:39:50.928194Z",
          "iopub.status.idle": "2024-08-07T08:39:50.949663Z",
          "shell.execute_reply.started": "2024-08-07T08:39:50.928168Z",
          "shell.execute_reply": "2024-08-07T08:39:50.948662Z"
        },
        "trusted": true,
        "id": "kmcAtYhcNCim",
        "outputId": "34ea01da-5049-4ea8-9a9d-83104514e747"
      },
      "execution_count": null,
      "outputs": [
        {
          "output_type": "display_data",
          "data": {
            "text/plain": "0        1344795424855642112\n1        1344794858133860353\n2        1344794822691983360\n3        1344794752819077123\n4        1344792070507134977\n                ...         \n15068    1413087751474397186\n15069    1413087030578401283\n15070    1413085793397186565\n15071    1413085519710363648\n15072    1413085365745774593\nName: id, Length: 15073, dtype: int64"
          },
          "metadata": {}
        }
      ]
    },
    {
      "cell_type": "code",
      "source": [
        "data_final = data_mis.merge(data, on=\"id\")\n",
        "\n",
        "display(data_final[\"id\"])"
      ],
      "metadata": {
        "execution": {
          "iopub.status.busy": "2024-08-07T08:39:51.441757Z",
          "iopub.execute_input": "2024-08-07T08:39:51.442283Z",
          "iopub.status.idle": "2024-08-07T08:39:51.479544Z",
          "shell.execute_reply.started": "2024-08-07T08:39:51.442256Z",
          "shell.execute_reply": "2024-08-07T08:39:51.478618Z"
        },
        "trusted": true,
        "id": "lAZlTDLMNCim",
        "outputId": "5d70b1af-119f-44ee-eb26-997b51eb3e99"
      },
      "execution_count": null,
      "outputs": [
        {
          "output_type": "display_data",
          "data": {
            "text/plain": "0        1344795424855642112\n1        1344794858133860353\n2        1344794822691983360\n3        1344794752819077123\n4        1344790296119422980\n                ...         \n11425    1413088663886573569\n11426    1413087751474397186\n11427    1413087030578401283\n11428    1413085519710363648\n11429    1413085365745774593\nName: id, Length: 11430, dtype: int64"
          },
          "metadata": {}
        }
      ]
    },
    {
      "cell_type": "code",
      "source": [
        "#data_final[\"text\"].head()"
      ],
      "metadata": {
        "execution": {
          "iopub.status.busy": "2024-08-07T08:39:53.131204Z",
          "iopub.execute_input": "2024-08-07T08:39:53.131526Z",
          "iopub.status.idle": "2024-08-07T08:39:53.135612Z",
          "shell.execute_reply.started": "2024-08-07T08:39:53.131502Z",
          "shell.execute_reply": "2024-08-07T08:39:53.134744Z"
        },
        "trusted": true,
        "id": "EAgOaIOsNCin"
      },
      "execution_count": null,
      "outputs": []
    },
    {
      "cell_type": "code",
      "source": [
        "data_final[\"text\"] = data_final[\"text\"].apply(str).apply(lambda x: text_preprocessing(x))\n",
        "\n",
        "#data_final[\"text\"].head()"
      ],
      "metadata": {
        "execution": {
          "iopub.status.busy": "2024-08-07T08:39:53.422426Z",
          "iopub.execute_input": "2024-08-07T08:39:53.422786Z",
          "iopub.status.idle": "2024-08-07T08:39:53.963650Z",
          "shell.execute_reply.started": "2024-08-07T08:39:53.422759Z",
          "shell.execute_reply": "2024-08-07T08:39:53.962877Z"
        },
        "trusted": true,
        "id": "hdTDJSJ_NCin"
      },
      "execution_count": null,
      "outputs": []
    },
    {
      "cell_type": "code",
      "source": [
        "text_data = data_final[\"text\"].values\n",
        "print(len(text_data))\n",
        "\n",
        "labels = data_final[\"is_misinfo\"].values\n",
        "print(len(labels))"
      ],
      "metadata": {
        "execution": {
          "iopub.status.busy": "2024-08-07T08:49:39.327096Z",
          "iopub.execute_input": "2024-08-07T08:49:39.327655Z",
          "iopub.status.idle": "2024-08-07T08:49:39.333856Z",
          "shell.execute_reply.started": "2024-08-07T08:49:39.327627Z",
          "shell.execute_reply": "2024-08-07T08:49:39.332871Z"
        },
        "trusted": true,
        "id": "gxmotNWUNCin",
        "outputId": "7fefe99a-dc0c-4799-9ddd-3b9a72873a43"
      },
      "execution_count": null,
      "outputs": [
        {
          "name": "stdout",
          "text": "11430\n11430\n",
          "output_type": "stream"
        }
      ]
    },
    {
      "cell_type": "markdown",
      "source": [
        "Verifico bilanciamento delle etichette"
      ],
      "metadata": {
        "id": "4jZs2KmfNCin"
      }
    },
    {
      "cell_type": "code",
      "source": [
        "labels_0 = [label for label in labels if label==0]\n",
        "labels_1 = [label for label in labels if label==1]\n",
        "\n",
        "print(len(labels_0))\n",
        "print(len(labels_1))"
      ],
      "metadata": {
        "execution": {
          "iopub.status.busy": "2024-08-07T08:39:56.332851Z",
          "iopub.execute_input": "2024-08-07T08:39:56.333169Z",
          "iopub.status.idle": "2024-08-07T08:39:56.344234Z",
          "shell.execute_reply.started": "2024-08-07T08:39:56.333146Z",
          "shell.execute_reply": "2024-08-07T08:39:56.343269Z"
        },
        "trusted": true,
        "id": "fSPInElFNCin",
        "outputId": "52f9917d-d350-478e-dfba-99787e201834"
      },
      "execution_count": null,
      "outputs": [
        {
          "name": "stdout",
          "text": "7631\n3799\n",
          "output_type": "stream"
        }
      ]
    },
    {
      "cell_type": "markdown",
      "source": [
        "## Preparing vectorstore"
      ],
      "metadata": {
        "id": "oQm_rCTVNCio"
      }
    },
    {
      "cell_type": "markdown",
      "source": [
        "- Label 0: Notizie vere\n",
        "- Label 1: Notizie false"
      ],
      "metadata": {
        "id": "zx1y56vNNCio"
      }
    },
    {
      "cell_type": "code",
      "source": [
        "%%capture --no-stderr\n",
        "%pip install -U langchain_experimental langchain-ai21 langchain-pinecone langchain_community langchainhub langchain langchain-text-splitters"
      ],
      "metadata": {
        "execution": {
          "iopub.status.busy": "2024-08-07T08:39:59.825052Z",
          "iopub.execute_input": "2024-08-07T08:39:59.825748Z",
          "iopub.status.idle": "2024-08-07T08:40:25.201059Z",
          "shell.execute_reply.started": "2024-08-07T08:39:59.825718Z",
          "shell.execute_reply": "2024-08-07T08:40:25.199819Z"
        },
        "trusted": true,
        "id": "NJ6_90CHNCio"
      },
      "execution_count": null,
      "outputs": []
    },
    {
      "cell_type": "code",
      "source": [
        "import os\n",
        "os.environ[\"PINECONE_API_KEY\"] = \"94ef7896-1fae-44d3-b8d2-0bd6f5f664f5\"\n",
        "os.environ[\"AI21_API_KEY\"] = \"KlINkh5QKw3hG1b5Hr75YDO7TwGoQvzn\""
      ],
      "metadata": {
        "execution": {
          "iopub.status.busy": "2024-08-07T08:40:25.202996Z",
          "iopub.execute_input": "2024-08-07T08:40:25.203309Z",
          "iopub.status.idle": "2024-08-07T08:40:25.208880Z",
          "shell.execute_reply.started": "2024-08-07T08:40:25.203281Z",
          "shell.execute_reply": "2024-08-07T08:40:25.207969Z"
        },
        "trusted": true,
        "id": "d4NRC9CNNCio"
      },
      "execution_count": null,
      "outputs": []
    },
    {
      "cell_type": "code",
      "source": [
        "from langchain.schema import Document\n",
        "\n",
        "documents = [Document(page_content=row['text'], metadata={'label': row['is_misinfo']}) for index, row in data_final.iterrows()]\n",
        "\n",
        "print(len(documents))"
      ],
      "metadata": {
        "execution": {
          "iopub.status.busy": "2024-08-07T08:50:01.388211Z",
          "iopub.execute_input": "2024-08-07T08:50:01.388599Z",
          "iopub.status.idle": "2024-08-07T08:50:02.362895Z",
          "shell.execute_reply.started": "2024-08-07T08:50:01.388568Z",
          "shell.execute_reply": "2024-08-07T08:50:02.361982Z"
        },
        "trusted": true,
        "id": "hcLN2WR7NCio",
        "outputId": "12451cf4-82d8-4055-a9a9-2f4631844594"
      },
      "execution_count": null,
      "outputs": [
        {
          "name": "stdout",
          "text": "11430\n",
          "output_type": "stream"
        }
      ]
    },
    {
      "cell_type": "code",
      "source": [
        "import pandas as pd\n",
        "from langchain_pinecone import PineconeVectorStore\n",
        "from langchain_ai21 import AI21Embeddings\n",
        "\n",
        "index_name = \"entailment-test\"\n",
        "\n",
        "# Add to vectorDB\n",
        "vectorstore = PineconeVectorStore.from_documents(\n",
        "    documents=documents,\n",
        "    #embedding=NomicEmbeddings(model=\"nomic-embed-text-v1.5\", inference_mode=\"local\", device=\"cuda\"),\n",
        "    embedding=AI21Embeddings(),\n",
        "    index_name=index_name\n",
        ")"
      ],
      "metadata": {
        "execution": {
          "iopub.status.busy": "2024-08-07T08:40:26.822188Z",
          "iopub.execute_input": "2024-08-07T08:40:26.822625Z",
          "iopub.status.idle": "2024-08-07T08:48:28.478635Z",
          "shell.execute_reply.started": "2024-08-07T08:40:26.822600Z",
          "shell.execute_reply": "2024-08-07T08:48:28.477851Z"
        },
        "trusted": true,
        "id": "lS_XNTBFNCio"
      },
      "execution_count": null,
      "outputs": []
    },
    {
      "cell_type": "markdown",
      "source": [
        "# Entailment evaluation"
      ],
      "metadata": {
        "id": "31Y5Z8FkNPDJ"
      }
    },
    {
      "cell_type": "code",
      "source": [
        "import matplotlib.pyplot as plt\n",
        "import numpy as np\n",
        "\n",
        "# Dati estratti dalla tabella\n",
        "shots = [0, 3, 6, 12]\n",
        "metric = \"f1_0\"\n",
        "\n",
        "# F1 Scores per each combination of Type Acceptance and Neutral\n",
        "df = pd.read_excel(\"/content/drive/MyDrive/predictions_entailment/test_entailment_labels_X.xlsx\")\n",
        "df_ass_contr_no_neutral = df[(df[\"type_acceptance\"] == \"Skeptical\") & (df[\"neutral\"] == \"No-Neutral\")]\n",
        "df_ass_contr_neutral = df[(df[\"type_acceptance\"] == \"Skeptical\") & (df[\"neutral\"] == \"Neutral\")]\n",
        "df_ent_dir_no_neutral = df[(df[\"type_acceptance\"] == \"Credulous\") & (df[\"neutral\"] == \"No-Neutral\")]\n",
        "df_ent_dir_neutral = df[(df[\"type_acceptance\"] == \"Credulous\") & (df[\"neutral\"] == \"Neutral\")]\n",
        "\n",
        "\n",
        "f1_scores = {\n",
        "    \"Ass. Contr. No-Neutral\": df_ass_contr_no_neutral[metric].values,\n",
        "    \"Ass. Contr. Neutral\": df_ass_contr_neutral[metric].values,\n",
        "    \"Ent. dir. No-Neutral\": df_ent_dir_no_neutral[metric].values,\n",
        "    \"Ent. dir. Neutral\": df_ent_dir_neutral[metric].values\n",
        "}\n",
        "\n",
        "# Setting the positions and width for the bars\n",
        "bar_width = 0.2\n",
        "x = np.arange(len(shots))\n",
        "\n",
        "# Plotting the bars\n",
        "fig, ax = plt.subplots(figsize=(10, 6))\n",
        "\n",
        "ax.bar(x - 1.5*bar_width, f1_scores[\"Ass. Contr. No-Neutral\"], bar_width, label='Ass. Contr. No-Neutral', color='#4CAF50')\n",
        "ax.bar(x - 0.5*bar_width, f1_scores[\"Ass. Contr. Neutral\"], bar_width, label='Ass. Contr. Neutral', color='#FF9800')\n",
        "ax.bar(x + 0.5*bar_width, f1_scores[\"Ent. dir. No-Neutral\"], bar_width, label='Ent. dir. No-Neutral', color='#81C784')\n",
        "ax.bar(x + 1.5*bar_width, f1_scores[\"Ent. dir. Neutral\"], bar_width, label='Ent. dir. Neutral', color='#FFB74D')\n",
        "\n",
        "# Adding labels and title\n",
        "ax.set_xlabel('Shots')\n",
        "ax.set_ylabel('F1 Score')\n",
        "ax.set_title('F1 Scores for Acceptance Types and Neutrality Levels Across Real Documents')\n",
        "ax.set_xticks(x)\n",
        "ax.set_xticklabels(shots)\n",
        "ax.legend(loc='lower center', bbox_to_anchor=(0.5, -0.25), ncols=2)\n",
        "\n",
        "# Display the plot\n",
        "plt.show()"
      ],
      "metadata": {
        "id": "sOlV2GxFNNyL"
      },
      "execution_count": null,
      "outputs": []
    },
    {
      "cell_type": "code",
      "source": [
        "# Dati estratti dalla tabella\n",
        "shots = [0, 3, 6, 12]\n",
        "metric = \"f1_1\"\n",
        "\n",
        "# F1 Scores per each combination of Type Acceptance and Neutral\n",
        "df = pd.read_excel(\"/content/drive/MyDrive/predictions_entailment/test_entailment_labels_X.xlsx\")\n",
        "df_ass_contr_no_neutral = df[(df[\"type_acceptance\"] == \"Skeptical\") & (df[\"neutral\"] == \"No-Neutral\")]\n",
        "df_ass_contr_neutral = df[(df[\"type_acceptance\"] == \"Skeptical\") & (df[\"neutral\"] == \"Neutral\")]\n",
        "df_ent_dir_no_neutral = df[(df[\"type_acceptance\"] == \"Credulous\") & (df[\"neutral\"] == \"No-Neutral\")]\n",
        "df_ent_dir_neutral = df[(df[\"type_acceptance\"] == \"Credulous\") & (df[\"neutral\"] == \"Neutral\")]\n",
        "\n",
        "f1_scores = {\n",
        "    \"Ass. Contr. No-Neutral\": df_ass_contr_no_neutral[metric].values,\n",
        "    \"Ass. Contr. Neutral\": df_ass_contr_neutral[metric].values,\n",
        "    \"Ent. dir. No-Neutral\": df_ent_dir_no_neutral[metric].values,\n",
        "    \"Ent. dir. Neutral\": df_ent_dir_neutral[metric].values\n",
        "}\n",
        "\n",
        "# Setting the positions and width for the bars\n",
        "bar_width = 0.2\n",
        "x = np.arange(len(shots))\n",
        "\n",
        "# Plotting the bars\n",
        "fig, ax = plt.subplots(figsize=(10, 6))\n",
        "\n",
        "ax.bar(x - 1.5*bar_width, f1_scores[\"Ass. Contr. No-Neutral\"], bar_width, label='Ass. Contr. No-Neutral', color='#4CAF50')\n",
        "ax.bar(x - 0.5*bar_width, f1_scores[\"Ass. Contr. Neutral\"], bar_width, label='Ass. Contr. Neutral', color='#FF9800')\n",
        "ax.bar(x + 0.5*bar_width, f1_scores[\"Ent. dir. No-Neutral\"], bar_width, label='Ent. dir. No-Neutral', color='#81C784')\n",
        "ax.bar(x + 1.5*bar_width, f1_scores[\"Ent. dir. Neutral\"], bar_width, label='Ent. dir. Neutral', color='#FFB74D')\n",
        "\n",
        "# Adding labels and title\n",
        "ax.set_xlabel('Shots')\n",
        "ax.set_ylabel('F1 Score')\n",
        "ax.set_title('F1 Scores for Acceptance Types and Neutrality Levels Across Fake Documents')\n",
        "ax.set_xticks(x)\n",
        "ax.set_xticklabels(shots)\n",
        "ax.legend(loc='lower center', bbox_to_anchor=(0.5, -0.25), ncols=2)\n",
        "\n",
        "# Display the plot\n",
        "plt.show()"
      ],
      "metadata": {
        "id": "wtXcs93rNmy6"
      },
      "execution_count": null,
      "outputs": []
    },
    {
      "cell_type": "code",
      "source": [
        "import matplotlib.pyplot as plt\n",
        "import numpy as np\n",
        "\n",
        "# Dati estratti dalla tabella\n",
        "aspects = [\"Health\", \"Governmental\", \"Society\"]\n",
        "\n",
        "# F1 Scores per each combination of Type Acceptance and Neutral 12 shots\n",
        "df = pd.read_excel(\"/content/drive/MyDrive/predictions_entailment/test_entailment_aspects_X.xlsx\")\n",
        "df_ass_contr_no_neutral = df[(df[\"type_acceptance\"] == \"Skeptical\") & (df[\"neutral\"] == \"No-Neutral\") & (df[\"shots\"] ==6)]\n",
        "df_ass_contr_neutral = df[(df[\"type_acceptance\"] == \"Skeptical\") & (df[\"neutral\"] == \"Neutral\") & (df[\"shots\"] ==6)]\n",
        "df_ent_dir_no_neutral = df[(df[\"type_acceptance\"] == \"Credulous\") & (df[\"neutral\"] == \"No-Neutral\") & (df[\"shots\"] ==6)]\n",
        "df_ent_dir_neutral = df[(df[\"type_acceptance\"] == \"Credulous\") & (df[\"neutral\"] == \"Neutral\") & (df[\"shots\"] ==6)]\n",
        "\n",
        "f1_scores = {\n",
        "    \"Ass. Contr. No-Neutral\": [df_ass_contr_no_neutral[f\"f1_{aspect}\"].values[0] for aspect in aspects],\n",
        "    \"Ass. Contr. Neutral\": [df_ass_contr_neutral[f\"f1_{aspect}\"].values[0] for aspect in aspects],\n",
        "    \"Ent. dir. No-Neutral\": [df_ent_dir_no_neutral[f\"f1_{aspect}\"].values[0] for aspect in aspects],\n",
        "    \"Ent. dir. Neutral\": [df_ent_dir_neutral[f\"f1_{aspect}\"].values[0] for aspect in aspects]\n",
        "}\n",
        "\n",
        "# Setting the positions and width for the bars\n",
        "bar_width = 0.2\n",
        "x = np.arange(len(aspects))\n",
        "\n",
        "# Plotting the bars\n",
        "fig, ax = plt.subplots(figsize=(10, 6))\n",
        "\n",
        "ax.bar(x - 1.5*bar_width, f1_scores[\"Ass. Contr. No-Neutral\"], bar_width, label='Ass. Contr. No-Neutral', color='#4CAF50')\n",
        "ax.bar(x - 0.5*bar_width, f1_scores[\"Ass. Contr. Neutral\"], bar_width, label='Ass. Contr. Neutral', color='#FF9800')\n",
        "ax.bar(x + 0.5*bar_width, f1_scores[\"Ent. dir. No-Neutral\"], bar_width, label='Ent. dir. No-Neutral', color='#81C784')\n",
        "ax.bar(x + 1.5*bar_width, f1_scores[\"Ent. dir. Neutral\"], bar_width, label='Ent. dir. Neutral', color='#FFB74D')\n",
        "\n",
        "# Adding labels and title\n",
        "ax.set_ylabel('F1 Score')\n",
        "ax.set_title('F1 Scores for Acceptance Types and Neutrality Levels For Aspect')\n",
        "ax.set_xticks(x)\n",
        "ax.set_xticklabels(aspects)\n",
        "ax.legend(loc='lower center', bbox_to_anchor=(0.5, -0.20), ncols=2)\n",
        "\n",
        "# Display the plot\n",
        "plt.show()"
      ],
      "metadata": {
        "id": "epng_czHNs4B"
      },
      "execution_count": null,
      "outputs": []
    }
  ]
}