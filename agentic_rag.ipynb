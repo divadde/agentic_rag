{
  "nbformat": 4,
  "nbformat_minor": 0,
  "metadata": {
    "colab": {
      "provenance": [],
      "collapsed_sections": [
        "Z17cxUk666E_",
        "gJ5m7640AD8x",
        "kNT1n4npE6YP",
        "MFgY6-seHsdQ",
        "0Ot0mK4hISuW",
        "Vky-iraRI7V4",
        "b4jwj6nZJBsA"
      ],
      "gpuType": "T4",
      "authorship_tag": "ABX9TyOnyyYpJzLczVnAf9rckt9n",
      "include_colab_link": true
    },
    "kernelspec": {
      "name": "python3",
      "display_name": "Python 3"
    },
    "language_info": {
      "name": "python"
    },
    "accelerator": "GPU"
  },
  "cells": [
    {
      "cell_type": "markdown",
      "metadata": {
        "id": "view-in-github",
        "colab_type": "text"
      },
      "source": [
        "<a href=\"https://colab.research.google.com/github/divadde/agentic_rag/blob/main/agentic_rag.ipynb\" target=\"_parent\"><img src=\"https://colab.research.google.com/assets/colab-badge.svg\" alt=\"Open In Colab\"/></a>"
      ]
    },
    {
      "cell_type": "markdown",
      "source": [
        "# Libraries and preparation"
      ],
      "metadata": {
        "id": "Z17cxUk666E_"
      }
    },
    {
      "cell_type": "markdown",
      "source": [
        "refs:\n",
        "- https://github.com/langchain-ai/langgraph/blob/main/examples/rag/langgraph_rag_agent_llama3_local.ipynb\n",
        "- https://github.com/langchain-ai/langgraph/blob/main/examples/multi_agent/agent_supervisor.ipynb?ref=blog.langchain.dev\n",
        "- https://github.com/langchain-ai/langgraph/blob/main/examples/multi_agent/hierarchical_agent_teams.ipynb?ref=blog.langchain.dev"
      ],
      "metadata": {
        "id": "FDViz0cXZuzh"
      }
    },
    {
      "cell_type": "markdown",
      "source": [
        "Starting ollama server and pulling llama3"
      ],
      "metadata": {
        "id": "HX2pKChL7-J3"
      }
    },
    {
      "cell_type": "code",
      "source": [
        "import subprocess\n",
        "import threading\n",
        "\n",
        "#istallazione di ollama\n",
        "!curl -fsSL https://ollama.com/install.sh | sh"
      ],
      "metadata": {
        "colab": {
          "base_uri": "https://localhost:8080/"
        },
        "id": "oXVSxKB973-R",
        "outputId": "d7318967-09ea-4dc4-86f7-7070c2864c4c"
      },
      "execution_count": 1,
      "outputs": [
        {
          "output_type": "stream",
          "name": "stdout",
          "text": [
            ">>> Downloading ollama...\n",
            "############################################################################################# 100.0%\n",
            ">>> Installing ollama to /usr/local/bin...\n",
            ">>> Creating ollama user...\n",
            ">>> Adding ollama user to video group...\n",
            ">>> Adding current user to ollama group...\n",
            ">>> Creating ollama systemd service...\n",
            "WARNING: Unable to detect NVIDIA/AMD GPU. Install lspci or lshw to automatically detect and install GPU dependencies.\n",
            ">>> The Ollama API is now available at 127.0.0.1:11434.\n",
            ">>> Install complete. Run \"ollama\" from the command line.\n"
          ]
        }
      ]
    },
    {
      "cell_type": "code",
      "source": [
        "t = threading.Thread(target=lambda: subprocess.run([\"ollama\", \"serve\"]),daemon=True)\n",
        "t.start()"
      ],
      "metadata": {
        "id": "7KINjEkC8vZl"
      },
      "execution_count": 86,
      "outputs": []
    },
    {
      "cell_type": "code",
      "source": [
        "!ollama pull llama3"
      ],
      "metadata": {
        "colab": {
          "base_uri": "https://localhost:8080/"
        },
        "id": "ow0d0MMn6--U",
        "outputId": "b273ebd8-f145-4372-e114-6edec23fa60b"
      },
      "execution_count": 87,
      "outputs": [
        {
          "output_type": "stream",
          "name": "stdout",
          "text": [
            "\u001b[?25lpulling manifest ⠙ \u001b[?25h\u001b[?25l\u001b[2K\u001b[1Gpulling manifest ⠙ \u001b[?25h\u001b[?25l\u001b[2K\u001b[1Gpulling manifest ⠹ \u001b[?25h\u001b[?25l\u001b[2K\u001b[1Gpulling manifest ⠸ \u001b[?25h\u001b[?25l\u001b[2K\u001b[1Gpulling manifest \n",
            "pulling 6a0746a1ec1a... 100% ▕▏ 4.7 GB                         \n",
            "pulling 4fa551d4f938... 100% ▕▏  12 KB                         \n",
            "pulling 8ab4849b038c... 100% ▕▏  254 B                         \n",
            "pulling 577073ffcc6c... 100% ▕▏  110 B                         \n",
            "pulling 3f8eb4da87fa... 100% ▕▏  485 B                         \n",
            "verifying sha256 digest \n",
            "writing manifest \n",
            "removing any unused layers \n",
            "success \u001b[?25h\n"
          ]
        }
      ]
    },
    {
      "cell_type": "code",
      "source": [
        "t2 = threading.Thread(target=lambda: subprocess.run([\"ollama\", \"run\", \"llama3\"]),daemon=True)\n",
        "t2.start()"
      ],
      "metadata": {
        "id": "o2WTtPsM8zxb"
      },
      "execution_count": 88,
      "outputs": []
    },
    {
      "cell_type": "code",
      "source": [
        "%%capture --no-stderr\n",
        "%pip install -U langchain-nomic langchain_community tiktoken langchainhub chromadb langchain langgraph tavily-python nomic[local] langchain-text-splitters"
      ],
      "metadata": {
        "id": "X0zaM9fk9U1O"
      },
      "execution_count": 5,
      "outputs": []
    },
    {
      "cell_type": "code",
      "source": [
        "# choosing llm\n",
        "\n",
        "local_llm = \"llama3\""
      ],
      "metadata": {
        "id": "QqQOyQr49oeW"
      },
      "execution_count": 6,
      "outputs": []
    },
    {
      "cell_type": "code",
      "source": [
        "# Tracing and api-keys\n",
        "\n",
        "import getpass\n",
        "import os\n",
        "\n",
        "def _set_env(key: str):\n",
        "    if key not in os.environ:\n",
        "        os.environ[key] = getpass.getpass(f\"{key}:\")\n",
        "\n",
        "os.environ[\"LANGCHAIN_TRACING_V2\"] = \"true\"\n",
        "os.environ[\"LANGCHAIN_ENDPOINT\"] = \"https://api.smith.langchain.com\"\n",
        "_set_env(\"TAVILY_API_KEY\") #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\n",
        "_set_env(\"LANGCHAIN_API_KEY\") #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"
      ],
      "metadata": {
        "id": "Dy6H1-68Bv8a",
        "colab": {
          "base_uri": "https://localhost:8080/"
        },
        "outputId": "892b2ceb-1d2f-4a93-95cc-539ab8507e00"
      },
      "execution_count": 7,
      "outputs": [
        {
          "name": "stdout",
          "output_type": "stream",
          "text": [
            "TAVILY_API_KEY:··········\n",
            "LANGCHAIN_API_KEY:··········\n"
          ]
        }
      ]
    },
    {
      "cell_type": "markdown",
      "source": [
        "# Tools"
      ],
      "metadata": {
        "id": "rEoV2aHBSVc5"
      }
    },
    {
      "cell_type": "code",
      "source": [
        "### Search\n",
        "from langchain_community.tools.tavily_search import TavilySearchResults\n",
        "\n",
        "web_search_tool = TavilySearchResults(k=3)"
      ],
      "metadata": {
        "id": "37TQnYfuSYjJ"
      },
      "execution_count": 8,
      "outputs": []
    },
    {
      "cell_type": "markdown",
      "source": [
        "# Indexing"
      ],
      "metadata": {
        "id": "gJ5m7640AD8x"
      }
    },
    {
      "cell_type": "markdown",
      "source": [
        "Organizing external sources for the llm. Phase of indexing and chunking of docs refs:\n",
        "- https://python.langchain.com/v0.1/docs/modules/data_connection/document_loaders/\n",
        "- https://python.langchain.com/v0.1/docs/modules/data_connection/vectorstores/\n",
        "- https://python.langchain.com/v0.1/docs/modules/data_connection/document_transformers/recursive_text_splitter/\n",
        "- Nomic embeddings: https://docs.nomic.ai/atlas/capabilities/embeddings#selecting-a-device"
      ],
      "metadata": {
        "id": "taJSlGE5AJcH"
      }
    },
    {
      "cell_type": "code",
      "source": [
        "from langchain_community.document_loaders import WebBaseLoader\n",
        "from langchain_community.vectorstores import Chroma\n",
        "from langchain_nomic.embeddings import NomicEmbeddings #Type of embeddings\n",
        "from langchain_text_splitters import RecursiveCharacterTextSplitter\n",
        "\n",
        "urls = [\n",
        "    \"https://lilianweng.github.io/posts/2023-06-23-agent/\",\n",
        "    \"https://lilianweng.github.io/posts/2023-03-15-prompt-engineering/\",\n",
        "    \"https://lilianweng.github.io/posts/2023-10-25-adv-attack-llm/\",\n",
        "]\n",
        "\n",
        "docs = [WebBaseLoader(url).load() for url in urls] #text + meta-data on docs\n",
        "docs_list = [item for sublist in docs for item in sublist] #ci serve l'attributo page_content\n",
        "\n",
        "# Chunking\n",
        "text_splitter = RecursiveCharacterTextSplitter.from_tiktoken_encoder(\n",
        "    chunk_size=250, chunk_overlap=0\n",
        ")\n",
        "\n",
        "doc_splits = text_splitter.split_documents(docs_list)\n",
        "\n",
        "# Add to vectorDB\n",
        "vectorstore = Chroma.from_documents(\n",
        "    documents=doc_splits,\n",
        "    collection_name=\"rag-chroma\",\n",
        "    embedding=NomicEmbeddings(model=\"nomic-embed-text-v1.5\", inference_mode=\"local\", device=\"cuda\"),\n",
        ")\n",
        "retriever = vectorstore.as_retriever()"
      ],
      "metadata": {
        "id": "Xfgup11aAFly"
      },
      "execution_count": 11,
      "outputs": []
    },
    {
      "cell_type": "markdown",
      "source": [
        "# Query generation (multi-aspects)"
      ],
      "metadata": {
        "id": "ThEK6sQSP4nC"
      }
    },
    {
      "cell_type": "code",
      "source": [
        "from langchain_community.chat_models import ChatOllama\n",
        "from langchain_core.output_parsers import JsonOutputParser\n",
        "from langchain_core.prompts import PromptTemplate\n",
        "\n",
        "prompt = PromptTemplate(\n",
        "    template=\"\"\"<|begin_of_text|><|start_header_id|>system<|end_header_id|> You are a helpful assistant that generates multiple\n",
        "    search queries based on a single input query. <|eot_id|><|start_header_id|>user<|end_header_id|>\n",
        "    Generate 4 multiple search queries related to: {original_query}\n",
        "    Answer: <|eot_id|><|start_header_id|>assistant<|end_header_id|>\"\"\",\n",
        "    input_variables=[\"original_query\"],\n",
        ")\n",
        "\n",
        "llm = ChatOllama(model=local_llm, format=\"json\", temperature=0)\n",
        "\n",
        "query_generator = prompt | llm | JsonOutputParser()\n",
        "\n",
        "# Prova\n",
        "\n",
        "# original_query = \"What about Covid19?\"\n",
        "# generation = query_generator.invoke({\"original_query\": original_query})\n",
        "# print(generation)\n",
        "\n",
        "\n",
        "# # Reciprocal Rank Fusion algorithm\n",
        "# def reciprocal_rank_fusion(search_results_dict, k=60):\n",
        "#     fused_scores = {}\n",
        "#     print(\"Initial individual search result ranks:\")\n",
        "#     for query, doc_scores in search_results_dict.items():\n",
        "#         print(f\"For query '{query}': {doc_scores}\")\n",
        "\n",
        "#     for query, doc_scores in search_results_dict.items():\n",
        "#         for rank, (doc, score) in enumerate(sorted(doc_scores.items(), key=lambda x: x[1], reverse=True)):\n",
        "#             if doc not in fused_scores:\n",
        "#                 fused_scores[doc] = 0\n",
        "#             previous_score = fused_scores[doc]\n",
        "#             fused_scores[doc] += 1 / (rank + k)\n",
        "#             print(f\"Updating score for {doc} from {previous_score} to {fused_scores[doc]} based on rank {rank} in query '{query}'\")\n",
        "\n",
        "#     reranked_results = {doc: score for doc, score in sorted(fused_scores.items(), key=lambda x: x[1], reverse=True)}\n",
        "#     print(\"Final reranked results:\", reranked_results)\n",
        "#     return reranked_results"
      ],
      "metadata": {
        "id": "ovAC1Rg8QACa"
      },
      "execution_count": 12,
      "outputs": []
    },
    {
      "cell_type": "markdown",
      "source": [
        "# Organizing outputs"
      ],
      "metadata": {
        "id": "AeLcJqM3KK_Y"
      }
    },
    {
      "cell_type": "code",
      "source": [
        "prompt = PromptTemplate(\n",
        "    template=\"\"\"<|begin_of_text|><|start_header_id|>system<|end_header_id|> You are a helpful assistant that organizes the final output from multiple\n",
        "    search queries based on a single input query. <|eot_id|><|start_header_id|>user<|end_header_id|>\n",
        "    Here are the answers: {answers}\n",
        "    Answer: <|eot_id|><|start_header_id|>assistant<|end_header_id|>\"\"\",\n",
        "    input_variables=[\"answers\"],\n",
        ")\n",
        "\n",
        "llm = ChatOllama(model=local_llm, format=\"json\", temperature=0)\n",
        "\n",
        "final_answer = prompt | llm | JsonOutputParser()\n",
        "#final_output = final_answer.invoke({\"answers\": answers})\n",
        "#print(final_output)"
      ],
      "metadata": {
        "id": "viQg-NxkKNv4"
      },
      "execution_count": 13,
      "outputs": []
    },
    {
      "cell_type": "markdown",
      "source": [
        "# Retrieval"
      ],
      "metadata": {
        "id": "kNT1n4npE6YP"
      }
    },
    {
      "cell_type": "code",
      "source": [
        "from langchain_community.chat_models import ChatOllama\n",
        "from langchain_core.output_parsers import JsonOutputParser\n",
        "from langchain_core.prompts import PromptTemplate\n",
        "\n",
        "llm = ChatOllama(model=local_llm, format=\"json\", temperature=0) #higher temperature more likely hallucinations\n",
        "\n",
        "prompt = PromptTemplate(\n",
        "    template=\"\"\"<|begin_of_text|><|start_header_id|>system<|end_header_id|> You are a grader assessing relevance\n",
        "    of a retrieved document to a user question. If the document contains keywords related to the user question,\n",
        "    grade it as relevant. It does not need to be a stringent test. The goal is to filter out erroneous retrievals. \\n\n",
        "    Give a binary score 'yes' or 'no' score to indicate whether the document is relevant to the question. \\n\n",
        "    Provide the binary score as a JSON with a single key 'score' and no premable or explanation.\n",
        "     <|eot_id|><|start_header_id|>user<|end_header_id|>\n",
        "    Here is the retrieved document: \\n\\n {document} \\n\\n\n",
        "    Here is the user question: {question} \\n <|eot_id|><|start_header_id|>assistant<|end_header_id|>\n",
        "    \"\"\",\n",
        "    input_variables=[\"question\", \"document\"],\n",
        ")\n",
        "\n",
        "retrieval_grader = prompt | llm | JsonOutputParser()\n",
        "# question = \"agent memory\"\n",
        "# docs = retriever.invoke(question)\n",
        "# doc_txt = docs[1].page_content\n",
        "# print(retrieval_grader.invoke({\"question\": question, \"document\": doc_txt}))"
      ],
      "metadata": {
        "id": "WzXfhJQ-E-mg"
      },
      "execution_count": 14,
      "outputs": []
    },
    {
      "cell_type": "markdown",
      "source": [
        "# Generating answer"
      ],
      "metadata": {
        "id": "MFgY6-seHsdQ"
      }
    },
    {
      "cell_type": "code",
      "source": [
        "from langchain_core.output_parsers import StrOutputParser\n",
        "from langchain_core.prompts import PromptTemplate\n",
        "\n",
        "# Prompt\n",
        "prompt = PromptTemplate(\n",
        "    template=\"\"\"<|begin_of_text|><|start_header_id|>system<|end_header_id|> You are an assistant for question-answering tasks.\n",
        "    Use the following pieces of retrieved context to answer the question. If you don't know the answer, just say that you don't know.\n",
        "    Use three sentences maximum and keep the answer concise <|eot_id|><|start_header_id|>user<|end_header_id|>\n",
        "    Question: {question}\n",
        "    Context: {context}\n",
        "    Answer: <|eot_id|><|start_header_id|>assistant<|end_header_id|>\"\"\",\n",
        "    input_variables=[\"question\", \"document\"],\n",
        ")\n",
        "\n",
        "llm = ChatOllama(model=local_llm, temperature=0)\n",
        "\n",
        "\n",
        "# Post-processing\n",
        "def format_docs(docs):\n",
        "    return \"\\n\\n\".join(doc.page_content for doc in docs)\n",
        "\n",
        "\n",
        "# Chain\n",
        "rag_chain = prompt | llm | StrOutputParser()\n",
        "\n",
        "# Run\n",
        "# question = \"agent memory\"\n",
        "# docs = retriever.invoke(question)\n",
        "# generation = rag_chain.invoke({\"context\": docs, \"question\": question})\n",
        "# print(generation)"
      ],
      "metadata": {
        "id": "DYmsobX4IIQD"
      },
      "execution_count": 15,
      "outputs": []
    },
    {
      "cell_type": "markdown",
      "source": [
        "# Hallucinations check"
      ],
      "metadata": {
        "id": "0Ot0mK4hISuW"
      }
    },
    {
      "cell_type": "code",
      "source": [
        "llm = ChatOllama(model=local_llm, format=\"json\", temperature=0)\n",
        "\n",
        "# Prompt\n",
        "prompt = PromptTemplate(\n",
        "    template=\"\"\" <|begin_of_text|><|start_header_id|>system<|end_header_id|> You are a grader assessing whether\n",
        "    an answer is grounded in / supported by a set of facts. Give a binary 'yes' or 'no' score to indicate\n",
        "    whether the answer is grounded in / supported by a set of facts. Provide the binary score as a JSON with a\n",
        "    single key 'score' and no preamble or explanation. <|eot_id|><|start_header_id|>user<|end_header_id|>\n",
        "    Here are the facts:\n",
        "    \\n ------- \\n\n",
        "    {documents}\n",
        "    \\n ------- \\n\n",
        "    Here is the answer: {generation}  <|eot_id|><|start_header_id|>assistant<|end_header_id|>\"\"\",\n",
        "    input_variables=[\"generation\", \"documents\"],\n",
        ")\n",
        "\n",
        "hallucination_grader = prompt | llm | JsonOutputParser()\n",
        "#hallucination_grader.invoke({\"documents\": docs, \"generation\": generation})"
      ],
      "metadata": {
        "id": "zLqFdBSSIatd"
      },
      "execution_count": 16,
      "outputs": []
    },
    {
      "cell_type": "markdown",
      "source": [
        "# Answer check"
      ],
      "metadata": {
        "id": "Vky-iraRI7V4"
      }
    },
    {
      "cell_type": "code",
      "source": [
        "llm = ChatOllama(model=local_llm, format=\"json\", temperature=0)\n",
        "\n",
        "# Prompt\n",
        "prompt = PromptTemplate(\n",
        "    template=\"\"\"<|begin_of_text|><|start_header_id|>system<|end_header_id|> You are a grader assessing whether an\n",
        "    answer is useful to resolve a question. Give a binary score 'yes' or 'no' to indicate whether the answer is\n",
        "    useful to resolve a question. Provide the binary score as a JSON with a single key 'score' and no preamble or explanation.\n",
        "     <|eot_id|><|start_header_id|>user<|end_header_id|> Here is the answer:\n",
        "    \\n ------- \\n\n",
        "    {generation}\n",
        "    \\n ------- \\n\n",
        "    Here is the question: {question} <|eot_id|><|start_header_id|>assistant<|end_header_id|>\"\"\",\n",
        "    input_variables=[\"generation\", \"question\"],\n",
        ")\n",
        "\n",
        "answer_grader = prompt | llm | JsonOutputParser()\n",
        "#answer_grader.invoke({\"question\": question, \"generation\": generation})"
      ],
      "metadata": {
        "id": "nETsNNGuI9g_"
      },
      "execution_count": 17,
      "outputs": []
    },
    {
      "cell_type": "markdown",
      "source": [
        "# Routing"
      ],
      "metadata": {
        "id": "b4jwj6nZJBsA"
      }
    },
    {
      "cell_type": "code",
      "source": [
        "from langchain_community.chat_models import ChatOllama\n",
        "from langchain_core.output_parsers import JsonOutputParser\n",
        "from langchain_core.prompts import PromptTemplate\n",
        "\n",
        "# LLM\n",
        "llm = ChatOllama(model=local_llm, format=\"json\", temperature=0)\n",
        "\n",
        "prompt = PromptTemplate(\n",
        "    template=\"\"\"<|begin_of_text|><|start_header_id|>system<|end_header_id|> You are an expert at routing a\n",
        "    user question to a vectorstore or web search. Use the vectorstore for questions on LLM  agents,\n",
        "    prompt engineering, and adversarial attacks. You do not need to be stringent with the keywords\n",
        "    in the question related to these topics. Otherwise, use web-search. Give a binary choice 'web_search'\n",
        "    or 'vectorstore' based on the question. Return the a JSON with a single key 'datasource' and\n",
        "    no premable or explanation. Question to route: {question} <|eot_id|><|start_header_id|>assistant<|end_header_id|>\"\"\",\n",
        "    input_variables=[\"question\"],\n",
        ")\n",
        "\n",
        "question_router = prompt | llm | JsonOutputParser()\n",
        "# question = \"llm agent memory\"\n",
        "# docs = retriever.get_relevant_documents(question)\n",
        "# doc_txt = docs[1].page_content\n",
        "# print(question_router.invoke({\"question\": question}))"
      ],
      "metadata": {
        "id": "kDKQ-NA7JG9S"
      },
      "execution_count": 18,
      "outputs": []
    },
    {
      "cell_type": "markdown",
      "source": [
        "refs:\n",
        "- https://python.langchain.com/v0.2/docs/integrations/tools/tavily_search/"
      ],
      "metadata": {
        "id": "7qaK-f48JxFv"
      }
    },
    {
      "cell_type": "markdown",
      "source": [
        "# Control flow (Aspect agents)"
      ],
      "metadata": {
        "id": "50do0z1CLXci"
      }
    },
    {
      "cell_type": "markdown",
      "source": [
        "refs\n",
        "- https://www.langchain.com/langgraph"
      ],
      "metadata": {
        "id": "iSZInKfcMOUn"
      }
    },
    {
      "cell_type": "code",
      "source": [
        "from pprint import pprint\n",
        "from typing import List, Annotated\n",
        "import operator\n",
        "\n",
        "from langchain_core.documents import Document\n",
        "from typing_extensions import TypedDict\n",
        "\n",
        "from langgraph.graph import END, StateGraph, START\n",
        "\n",
        "### State\n",
        "class GraphState(TypedDict):\n",
        "    \"\"\"\n",
        "    Represents the state of graph of aspect agents.\n",
        "\n",
        "    Attributes:\n",
        "        question: question\n",
        "        generation: LLM generation\n",
        "        web_search: whether to add search\n",
        "        documents: list of documents\n",
        "    \"\"\"\n",
        "\n",
        "    queries: List[str]\n",
        "    answers_agent: Annotated[List[str], operator.add]\n",
        "    web_search: str\n",
        "    documents: List[str]\n",
        "\n",
        "\n",
        "### Nodes\n",
        "\n",
        "\n",
        "def retrieve(state):\n",
        "    \"\"\"\n",
        "    Retrieve documents from vectorstore\n",
        "\n",
        "    Args:\n",
        "        state (dict): The current graph state\n",
        "\n",
        "    Returns:\n",
        "        state (dict): New key added to state, documents, that contains retrieved documents\n",
        "    \"\"\"\n",
        "    print(\"---RETRIEVE---\")\n",
        "    print(f\"State: {state}\")\n",
        "    queries = state[\"queries\"]\n",
        "\n",
        "    # Retrieval\n",
        "    documents = retriever.invoke(queries[0])\n",
        "    return {\"documents\": documents, \"queries\": queries}\n",
        "\n",
        "\n",
        "def generate(state):\n",
        "    \"\"\"\n",
        "    Generate answer using RAG on retrieved documents\n",
        "\n",
        "    Args:\n",
        "        state (dict): The current graph state\n",
        "\n",
        "    Returns:\n",
        "        state (dict): New key added to state, generation, that contains LLM generation\n",
        "    \"\"\"\n",
        "    print(\"---GENERATE---\")\n",
        "    print(f\"State: {state}\")\n",
        "    queries = state[\"queries\"]\n",
        "    documents = state[\"documents\"]\n",
        "\n",
        "    # RAG generation\n",
        "    generation = rag_chain.invoke({\"context\": documents, \"question\": queries[0]})\n",
        "    return {\"documents\": documents, \"queries\": queries, \"answers_agent\": [generation]}\n",
        "\n",
        "\n",
        "def grade_documents(state):\n",
        "    \"\"\"\n",
        "    Determines whether the retrieved documents are relevant to the question\n",
        "    If any document is not relevant, we will set a flag to run web search\n",
        "\n",
        "    Args:\n",
        "        state (dict): The current graph state\n",
        "\n",
        "    Returns:\n",
        "        state (dict): Filtered out irrelevant documents and updated web_search state\n",
        "    \"\"\"\n",
        "\n",
        "    print(\"---CHECK DOCUMENT RELEVANCE TO QUESTION---\")\n",
        "    print(f\"State: {state}\")\n",
        "    queries = state[\"queries\"]\n",
        "    documents = state[\"documents\"]\n",
        "\n",
        "    # Score each doc\n",
        "    filtered_docs = []\n",
        "    web_search = \"No\"\n",
        "    for d in documents:\n",
        "        score = retrieval_grader.invoke(\n",
        "            {\"question\": queries[0], \"document\": d.page_content}\n",
        "        )\n",
        "        grade = score[\"score\"]\n",
        "        # Document relevant\n",
        "        if grade.lower() == \"yes\":\n",
        "            print(\"---GRADE: DOCUMENT RELEVANT---\")\n",
        "            filtered_docs.append(d)\n",
        "        # Document not relevant\n",
        "        else:\n",
        "            print(\"---GRADE: DOCUMENT NOT RELEVANT---\")\n",
        "            # We do not include the document in filtered_docs\n",
        "            # We set a flag to indicate that we want to run web search\n",
        "            web_search = \"Yes\"\n",
        "            continue\n",
        "    return {\"documents\": filtered_docs, \"queries\": queries, \"web_search\": web_search}\n",
        "\n",
        "\n",
        "def web_search(state):\n",
        "    \"\"\"\n",
        "    Web search based based on the question\n",
        "\n",
        "    Args:\n",
        "        state (dict): The current graph state\n",
        "\n",
        "    Returns:\n",
        "        state (dict): Appended web results to documents\n",
        "    \"\"\"\n",
        "\n",
        "    print(\"---WEB SEARCH---\")\n",
        "    print(f\"State: {state}\")\n",
        "    queries = state[\"queries\"]\n",
        "    documents = state[\"documents\"]\n",
        "\n",
        "    # Web search\n",
        "    docs = web_search_tool.invoke({\"query\": queries[0]})\n",
        "    web_results = \"\\n\".join([d[\"content\"] for d in docs])\n",
        "    web_results = Document(page_content=web_results)\n",
        "    if documents is not None:\n",
        "        documents.append(web_results)\n",
        "    else:\n",
        "        documents = [web_results]\n",
        "    return {\"documents\": documents, \"queries\": queries}\n",
        "\n",
        "\n",
        "### Conditional edge\n",
        "\n",
        "def route_question(state):\n",
        "    \"\"\"\n",
        "    Route question to web search or RAG.\n",
        "\n",
        "    Args:\n",
        "        state (dict): The current graph state\n",
        "\n",
        "    Returns:\n",
        "        str: Next node to call\n",
        "    \"\"\"\n",
        "\n",
        "    print(\"---ROUTE QUESTION---\")\n",
        "    print(f\"State: {state}\")\n",
        "    queries = state[\"queries\"]\n",
        "    #print(queries)\n",
        "    source = question_router.invoke({\"question\": queries[0]})\n",
        "    #print(source)\n",
        "    #print(source[\"datasource\"])\n",
        "    if source[\"datasource\"] == \"web_search\":\n",
        "        print(\"---ROUTE QUESTION TO WEB SEARCH---\")\n",
        "        return \"websearch\"\n",
        "    elif source[\"datasource\"] == \"vectorstore\":\n",
        "        print(\"---ROUTE QUESTION TO RAG---\")\n",
        "        return \"vectorstore\"\n",
        "\n",
        "\n",
        "def decide_to_generate(state):\n",
        "    \"\"\"\n",
        "    Determines whether to generate an answer, or add web search\n",
        "\n",
        "    Args:\n",
        "        state (dict): The current graph state\n",
        "\n",
        "    Returns:\n",
        "        str: Binary decision for next node to call\n",
        "    \"\"\"\n",
        "\n",
        "    print(\"---ASSESS GRADED DOCUMENTS---\")\n",
        "    print(f\"State: {state}\")\n",
        "    web_search = state[\"web_search\"]\n",
        "\n",
        "    if web_search == \"Yes\":\n",
        "        # All documents have been filtered check_relevance\n",
        "        # We will re-generate a new query\n",
        "        print(\n",
        "            \"---DECISION: ALL DOCUMENTS ARE NOT RELEVANT TO QUESTION, INCLUDE WEB SEARCH---\"\n",
        "        )\n",
        "        return \"websearch\"\n",
        "    else:\n",
        "        # We have relevant documents, so generate answer\n",
        "        print(\"---DECISION: GENERATE---\")\n",
        "        return \"generate\"\n",
        "\n",
        "\n",
        "\n",
        "def grade_generation_v_documents_and_question(state):\n",
        "    \"\"\"\n",
        "    Determines whether the generation is grounded in the document and answers question.\n",
        "\n",
        "    Args:\n",
        "        state (dict): The current graph state\n",
        "\n",
        "    Returns:\n",
        "        str: Decision for next node to call\n",
        "    \"\"\"\n",
        "\n",
        "    print(\"---CHECK HALLUCINATIONS---\")\n",
        "    print(f\"State: {state}\")\n",
        "    queries = state[\"queries\"]\n",
        "    documents = state[\"documents\"]\n",
        "    answers_agent = state[\"answers_agent\"]\n",
        "\n",
        "    score = hallucination_grader.invoke(\n",
        "        {\"documents\": documents, \"generation\": answers_agent[0]} #come faccio a capire l'ordine di arrivo nelle risposte?\n",
        "    )\n",
        "    grade = score[\"score\"]\n",
        "\n",
        "    # Check hallucination\n",
        "    if grade == \"yes\":\n",
        "        print(\"---DECISION: GENERATION IS GROUNDED IN DOCUMENTS---\")\n",
        "        # Check question-answering\n",
        "        print(\"---GRADE GENERATION vs QUESTION---\")\n",
        "        score = answer_grader.invoke({\"question\": queries[0], \"generation\": answers_agent[0]})\n",
        "        grade = score[\"score\"]\n",
        "        if grade == \"yes\":\n",
        "            print(\"---DECISION: GENERATION ADDRESSES QUESTION---\")\n",
        "            return \"useful\"\n",
        "        else:\n",
        "            print(\"---DECISION: GENERATION DOES NOT ADDRESS QUESTION---\")\n",
        "            return \"not useful\"\n",
        "    else:\n",
        "        pprint(\"---DECISION: GENERATION IS NOT GROUNDED IN DOCUMENTS, RE-TRY---\")\n",
        "        return \"not supported\"\n",
        "\n",
        "\n",
        "workflow = StateGraph(GraphState)\n",
        "\n",
        "# Define the nodes\n",
        "workflow.add_node(\"websearch\", web_search)  # web search\n",
        "workflow.add_node(\"retrieve\", retrieve)  # retrieve\n",
        "workflow.add_node(\"grade_documents\", grade_documents)  # grade documents\n",
        "workflow.add_node(\"generate\", generate)  # generatae"
      ],
      "metadata": {
        "id": "6iV1oJJtLcFM"
      },
      "execution_count": 74,
      "outputs": []
    },
    {
      "cell_type": "markdown",
      "source": [
        "**Building graph with edges**"
      ],
      "metadata": {
        "id": "jdiZVS8-3pAC"
      }
    },
    {
      "cell_type": "code",
      "source": [
        "# Build graph\n",
        "workflow.add_conditional_edges(\n",
        "    START,\n",
        "    route_question,\n",
        "    {\n",
        "        \"websearch\": \"websearch\", #se la risposta è websearch, allora vai al nodo websearch\n",
        "        \"vectorstore\": \"retrieve\", #se la risposta è vectorstore, allora vai al nodo retrieve\n",
        "    },\n",
        ")\n",
        "\n",
        "workflow.add_edge(\"retrieve\", \"grade_documents\")\n",
        "workflow.add_conditional_edges(\n",
        "    \"grade_documents\",\n",
        "    decide_to_generate,\n",
        "    {\n",
        "        \"websearch\": \"websearch\",\n",
        "        \"generate\": \"generate\",\n",
        "    },\n",
        ")\n",
        "workflow.add_edge(\"websearch\", \"generate\")\n",
        "workflow.add_conditional_edges(\n",
        "    \"generate\",\n",
        "    grade_generation_v_documents_and_question,\n",
        "    {\n",
        "        \"not supported\": \"generate\",\n",
        "        \"useful\": END,\n",
        "        \"not useful\": \"websearch\",\n",
        "    },\n",
        ")\n",
        "\n",
        "workflow_compiled = workflow.compile()"
      ],
      "metadata": {
        "id": "PL0NHOMy3oQs"
      },
      "execution_count": 75,
      "outputs": []
    },
    {
      "cell_type": "code",
      "source": [
        "from IPython.display import Image, display\n",
        "\n",
        "display(Image(workflow_compiled.get_graph().draw_mermaid_png()))"
      ],
      "metadata": {
        "colab": {
          "base_uri": "https://localhost:8080/",
          "height": 545
        },
        "id": "zoVRqqCwPzCK",
        "outputId": "b7f34450-3301-45ac-d3b2-e76d9cd14e02"
      },
      "execution_count": 76,
      "outputs": [
        {
          "output_type": "display_data",
          "data": {
            "image/jpeg": "[encoded data removed]",
            "text/plain": [
              "<IPython.core.display.Image object>"
            ]
          },
          "metadata": {}
        }
      ]
    },
    {
      "cell_type": "code",
      "source": [
        "# Test\n",
        "\n",
        "inputs = {\"question\": \"What about COVID19?\"}\n",
        "for output in workflow_compiled.stream(inputs):\n",
        "    for key, value in output.items():\n",
        "        pprint(f\"Finished running: {key}:\")\n",
        "pprint(value[\"generation\"])"
      ],
      "metadata": {
        "colab": {
          "base_uri": "https://localhost:8080/",
          "height": 588
        },
        "id": "tnAKcBTfRwc4",
        "outputId": "251e97c3-58c3-4d28-bcc7-1c1ac92b587f"
      },
      "execution_count": 55,
      "outputs": [
        {
          "metadata": {
            "tags": null
          },
          "name": "stdout",
          "output_type": "stream",
          "text": [
            "---ROUTE QUESTION---\n",
            "State: {'question': 'What about COVID19?'}\n",
            "What about COVID19?\n",
            "{'datasource': 'web_search'}\n",
            "web_search\n",
            "---ROUTE QUESTION TO WEB SEARCH---\n",
            "---WEB SEARCH---\n",
            "State: {'question': 'What about COVID19?', 'generation': None, 'web_search': None, 'documents': None}\n",
            "'Finished running: websearch:'\n",
            "---GENERATE---\n",
            "State: {'question': 'What about COVID19?', 'generation': None, 'web_search': None, 'documents': [Document(page_content='CDC’s\\xa0COVID-19 hospital admission levels help individuals and communities decide when to take action to protect yourself and others\\xa0based on the latest data and information from your area.\\n CDC is working with state and local public health officials to monitor the spread of all variants, including Omicron.\\nSearch for and find historical COVID-19 pages and files. In addition to staying up to date with\\xa0COVID-19 vaccines and basic health and hygiene practices like handwashing, CDC recommends some prevention actions at all COVID-19 hospital admission levels.\\n Understanding your COVID-19 risk and the risks that might affect others can help you make decisions to protect yourself and others.\\n About COVID-19\\nWhat is COVID-19?\\nCOVID-19 (coronavirus disease 2019) is a disease caused by a virus named SARS-CoV-2.\\nThis is Margaret Harris in the World Health Organization Headquarters, Geneva,...\\nUpdated working definitions and primary actions for\\nSARS-CoV-2 variants\\nOur work\\nTracking SARS-CoV-2 variants\\nPromoting a fair and equitable response to the COVID-19 pandemic\\nPromoting the health of refugees and migrants during COVID-19 pandemic\\nPreparing and preventing epidemics and pandemics\\nFeature stories\\nPatients’ stories paint a vivid picture of antimicrobial resistance\\nDonors making a difference: the resilient spirit of women providing and receiving health care\\nInfographics\\nDiagnostic testing for SARS-CoV-2 infection\\nWhy testing is important?\\nVideos\\nPandemic preparedness: Introducing WHO\\'s Investigations and Studies (Unity Studies) approach\\nNurses Facing COVID - 2023 Health Emergencies \"GRAND PRIX\" at the 4th Health for All Film Festival\\nWHO\\'s Science in 5: Older adults and COVID-19 vaccines - 14 October 2022\\nWHO’s Science in 5 on COVID-19: News\\nWHO statement on reported clusters of respiratory illness in children in northern China\\nGermany reaffirms its commitment to WHO and key health priorities\\nWHO updates guidelines on treatments for COVID-19\\nWHO recommends R21/Matrix-M vaccine for malaria prevention in updated advice on immunization\\nPublications\\nManaging epidemics: key facts about major deadly diseases, 2nd edition\\nEpidemics and pandemics of infectious diseases are occurring more often, and spreading faster and further than ever, in many different regions of the world....\\nTherapeutics and COVID-19: Living guideline, 10 November 2023\\n The WHO\\xa0Therapeutics and COVID-19: living guideline\\xa0contains the most up-to-date recommendations for the use of therapeutics in the treatment...\\nWHO roadmap on uses of COVID-19 vaccines in the context of Omicron and high population immunity\\nWHO roadmap on uses of COVID-19 vaccines in the context of Omicron and high population immunity: an approach to optimize the global impact of COVID-19...\\n A standard analytic report produced of key COVID-19 vaccine implementation data, including uptake, supply received, and delivery financing across WHO Member...\\nCOVID-19 Epidemiological Update - 27 October 2023\\nGlobally, the number of new cases decreased by 42% during the 28-day period of 25 September to 22 October 2023 as compared to the previous 28-day period,...\\nVirtual press conference on global health issues transcript – 19 October 2023\\n00:00:44MH\\xa0\\xa0\\xa0\\xa0\\xa0\\xa0\\xa0\\xa0 Hello, everybody. This compendium showcases exemplary practices adopted by member states and partners in the WHO South-East Asia Region from the onset of the pandemic until...\\nWHO documents\\nCOVID-19 Vaccine Insights Report - 30 October 2023\\n\\nTo prevent the spread of COVID-19:\\nVaccination against COVID-19 is based on priority groups such as people aged 60 years and over, and those with underlying medical problems such as high blood pressure, diabetes, chronic health problems, immunosuppression (including HIV), obesity, cancer, pregnant persons, and unvaccinated people. The most common symptoms are:\\nLess common symptoms are:\\nPeople with the following symptoms should seek immediate medical attention:\\nPeople who have pre-existing health problems are at higher risk when they have COVID-19; they should seek medical help early if worried about their condition. The Organization works with Member States and partners on all aspects of the pandemic response, including facilitating research, developing guidance, coordinating vaccine development and distribution, and monitoring daily case numbers and trends around the world.\\n COVAX, the vaccines pillar of the ACT-Accelerator is a ground-breaking global collaboration to accelerate the development, production, and equitable access to COVID-19 tests, treatments, and vaccines.\\n Since April 2020, the Access to COVID-19 Tools (ACT) Accelerator, launched by WHO and partners, has supported the fastest, most coordinated, and successful global effort in history to develop tools to fight a disease.\\nA person infected with the coronavirus is contagious to others for up to two days before symptoms appear, and they remain contagious to others for 10 to 20 days, depending upon their immune system and the severity of their illness.\\n Related\\nRelated\\nTrauma Team Puts an Athlete Back in the Saddle\\nPatient Safety Infographic\\nComparación entre la COVID-19 y la gripe\\nRelated Topics\\nHealth What are symptoms of coronavirus?\\nCOVID-19 symptoms include:\\nSome people infected with the coronavirus have mild COVID-19 illness, and others have no symptoms at all. Two COVID-19 vaccines – Pfizer and Moderna - have been fully approved by the FDA and recommended by the CDC as highly effective in preventing serious disease, hospitalization and death from COVID-19.\\n The CDC notes that in most situations the two mRNA vaccines from Pfizer and Moderna are preferred over the Johnson & Johnson vaccine due to a risk of serious adverse events.\\n\\nLearn more about what kind of COVID-19 tests are available\\nWhy testing for SARS-CoV-2 is important\\nUse of Ag-RDTs\\nWhat you need to know about self-testing\\nAntibody tests can tell us whether someone has had an infection\\nin the past, even if they have not had symptoms. People aged 60 years and over, and those with underlying medical\\nproblems like high blood pressure, diabetes, other chronic health problems (for\\nexample those affecting the heart, lungs, kidneys, and brain), low immune\\nfunction / immunosuppression (including HIV), obesity, cancer, and unvaccinated\\npeople are most at risk of severe illness.\\n The most common symptoms of COVID-19 are\\nOther symptoms that are less common and may affect some patients include:\\nSymptoms of severe COVID‐19 disease which need immediate medical attention include:\\nIf possible, call your health care provider, hotline or health facility first, so you can be directed to the right clinic.\\n Related\\nStart the conversation\\nMore\\nCOVID-19 hub\\nAdvice for the public\\nAll COVID-19 Q&As\\nWHO Information Network on Epidemics (EPI-WIN)\\n This is why people\\nwho have been exposed to the virus are advised to remain at home and stay away\\nfrom others in order to prevent the spread of the virus.\\n')]}\n"
          ]
        },
        {
          "output_type": "error",
          "ename": "KeyboardInterrupt",
          "evalue": "",
          "traceback": [
            "\u001b[0;31m---------------------------------------------------------------------------\u001b[0m",
            "\u001b[0;31mKeyboardInterrupt\u001b[0m                         Traceback (most recent call last)",
            "\u001b[0;32m<ipython-input-55-6e05c550403e>\u001b[0m in \u001b[0;36m<cell line: 4>\u001b[0;34m()\u001b[0m\n\u001b[1;32m      2\u001b[0m \u001b[0;34m\u001b[0m\u001b[0m\n\u001b[1;32m      3\u001b[0m \u001b[0minputs\u001b[0m \u001b[0;34m=\u001b[0m \u001b[0;34m{\u001b[0m\u001b[0;34m\"question\"\u001b[0m\u001b[0;34m:\u001b[0m \u001b[0;34m\"What about COVID19?\"\u001b[0m\u001b[0;34m}\u001b[0m\u001b[0;34m\u001b[0m\u001b[0;34m\u001b[0m\u001b[0m\n\u001b[0;32m----> 4\u001b[0;31m \u001b[0;32mfor\u001b[0m \u001b[0moutput\u001b[0m \u001b[0;32min\u001b[0m \u001b[0mworkflow_compiled\u001b[0m\u001b[0;34m.\u001b[0m\u001b[0mstream\u001b[0m\u001b[0;34m(\u001b[0m\u001b[0minputs\u001b[0m\u001b[0;34m)\u001b[0m\u001b[0;34m:\u001b[0m\u001b[0;34m\u001b[0m\u001b[0;34m\u001b[0m\u001b[0m\n\u001b[0m\u001b[1;32m      5\u001b[0m     \u001b[0;32mfor\u001b[0m \u001b[0mkey\u001b[0m\u001b[0;34m,\u001b[0m \u001b[0mvalue\u001b[0m \u001b[0;32min\u001b[0m \u001b[0moutput\u001b[0m\u001b[0;34m.\u001b[0m\u001b[0mitems\u001b[0m\u001b[0;34m(\u001b[0m\u001b[0;34m)\u001b[0m\u001b[0;34m:\u001b[0m\u001b[0;34m\u001b[0m\u001b[0;34m\u001b[0m\u001b[0m\n\u001b[1;32m      6\u001b[0m         \u001b[0mpprint\u001b[0m\u001b[0;34m(\u001b[0m\u001b[0;34mf\"Finished running: {key}:\"\u001b[0m\u001b[0;34m)\u001b[0m\u001b[0;34m\u001b[0m\u001b[0;34m\u001b[0m\u001b[0m\n",
            "\u001b[0;32m/usr/local/lib/python3.10/dist-packages/langgraph/pregel/__init__.py\u001b[0m in \u001b[0;36mstream\u001b[0;34m(self, input, config, stream_mode, output_keys, input_keys, interrupt_before, interrupt_after, debug)\u001b[0m\n\u001b[1;32m   1067\u001b[0m                         \u001b[0mdone\u001b[0m\u001b[0;34m,\u001b[0m \u001b[0minflight\u001b[0m \u001b[0;34m=\u001b[0m \u001b[0mset\u001b[0m\u001b[0;34m(\u001b[0m\u001b[0;34m)\u001b[0m\u001b[0;34m,\u001b[0m \u001b[0mset\u001b[0m\u001b[0;34m(\u001b[0m\u001b[0;34m)\u001b[0m\u001b[0;34m\u001b[0m\u001b[0;34m\u001b[0m\u001b[0m\n\u001b[1;32m   1068\u001b[0m                     \u001b[0;32mwhile\u001b[0m \u001b[0mfutures\u001b[0m\u001b[0;34m:\u001b[0m\u001b[0;34m\u001b[0m\u001b[0;34m\u001b[0m\u001b[0m\n\u001b[0;32m-> 1069\u001b[0;31m                         done, inflight = concurrent.futures.wait(\n\u001b[0m\u001b[1;32m   1070\u001b[0m                             \u001b[0mfutures\u001b[0m\u001b[0;34m,\u001b[0m\u001b[0;34m\u001b[0m\u001b[0;34m\u001b[0m\u001b[0m\n\u001b[1;32m   1071\u001b[0m                             \u001b[0mreturn_when\u001b[0m\u001b[0;34m=\u001b[0m\u001b[0mconcurrent\u001b[0m\u001b[0;34m.\u001b[0m\u001b[0mfutures\u001b[0m\u001b[0;34m.\u001b[0m\u001b[0mFIRST_COMPLETED\u001b[0m\u001b[0;34m,\u001b[0m\u001b[0;34m\u001b[0m\u001b[0;34m\u001b[0m\u001b[0m\n",
            "\u001b[0;32m/usr/lib/python3.10/concurrent/futures/_base.py\u001b[0m in \u001b[0;36mwait\u001b[0;34m(fs, timeout, return_when)\u001b[0m\n\u001b[1;32m    305\u001b[0m         \u001b[0mwaiter\u001b[0m \u001b[0;34m=\u001b[0m \u001b[0m_create_and_install_waiters\u001b[0m\u001b[0;34m(\u001b[0m\u001b[0mfs\u001b[0m\u001b[0;34m,\u001b[0m \u001b[0mreturn_when\u001b[0m\u001b[0;34m)\u001b[0m\u001b[0;34m\u001b[0m\u001b[0;34m\u001b[0m\u001b[0m\n\u001b[1;32m    306\u001b[0m \u001b[0;34m\u001b[0m\u001b[0m\n\u001b[0;32m--> 307\u001b[0;31m     \u001b[0mwaiter\u001b[0m\u001b[0;34m.\u001b[0m\u001b[0mevent\u001b[0m\u001b[0;34m.\u001b[0m\u001b[0mwait\u001b[0m\u001b[0;34m(\u001b[0m\u001b[0mtimeout\u001b[0m\u001b[0;34m)\u001b[0m\u001b[0;34m\u001b[0m\u001b[0;34m\u001b[0m\u001b[0m\n\u001b[0m\u001b[1;32m    308\u001b[0m     \u001b[0;32mfor\u001b[0m \u001b[0mf\u001b[0m \u001b[0;32min\u001b[0m \u001b[0mfs\u001b[0m\u001b[0;34m:\u001b[0m\u001b[0;34m\u001b[0m\u001b[0;34m\u001b[0m\u001b[0m\n\u001b[1;32m    309\u001b[0m         \u001b[0;32mwith\u001b[0m \u001b[0mf\u001b[0m\u001b[0;34m.\u001b[0m\u001b[0m_condition\u001b[0m\u001b[0;34m:\u001b[0m\u001b[0;34m\u001b[0m\u001b[0;34m\u001b[0m\u001b[0m\n",
            "\u001b[0;32m/usr/lib/python3.10/threading.py\u001b[0m in \u001b[0;36mwait\u001b[0;34m(self, timeout)\u001b[0m\n\u001b[1;32m    605\u001b[0m             \u001b[0msignaled\u001b[0m \u001b[0;34m=\u001b[0m \u001b[0mself\u001b[0m\u001b[0;34m.\u001b[0m\u001b[0m_flag\u001b[0m\u001b[0;34m\u001b[0m\u001b[0;34m\u001b[0m\u001b[0m\n\u001b[1;32m    606\u001b[0m             \u001b[0;32mif\u001b[0m \u001b[0;32mnot\u001b[0m \u001b[0msignaled\u001b[0m\u001b[0;34m:\u001b[0m\u001b[0;34m\u001b[0m\u001b[0;34m\u001b[0m\u001b[0m\n\u001b[0;32m--> 607\u001b[0;31m                 \u001b[0msignaled\u001b[0m \u001b[0;34m=\u001b[0m \u001b[0mself\u001b[0m\u001b[0;34m.\u001b[0m\u001b[0m_cond\u001b[0m\u001b[0;34m.\u001b[0m\u001b[0mwait\u001b[0m\u001b[0;34m(\u001b[0m\u001b[0mtimeout\u001b[0m\u001b[0;34m)\u001b[0m\u001b[0;34m\u001b[0m\u001b[0;34m\u001b[0m\u001b[0m\n\u001b[0m\u001b[1;32m    608\u001b[0m             \u001b[0;32mreturn\u001b[0m \u001b[0msignaled\u001b[0m\u001b[0;34m\u001b[0m\u001b[0;34m\u001b[0m\u001b[0m\n\u001b[1;32m    609\u001b[0m \u001b[0;34m\u001b[0m\u001b[0m\n",
            "\u001b[0;32m/usr/lib/python3.10/threading.py\u001b[0m in \u001b[0;36mwait\u001b[0;34m(self, timeout)\u001b[0m\n\u001b[1;32m    318\u001b[0m         \u001b[0;32mtry\u001b[0m\u001b[0;34m:\u001b[0m    \u001b[0;31m# restore state no matter what (e.g., KeyboardInterrupt)\u001b[0m\u001b[0;34m\u001b[0m\u001b[0;34m\u001b[0m\u001b[0m\n\u001b[1;32m    319\u001b[0m             \u001b[0;32mif\u001b[0m \u001b[0mtimeout\u001b[0m \u001b[0;32mis\u001b[0m \u001b[0;32mNone\u001b[0m\u001b[0;34m:\u001b[0m\u001b[0;34m\u001b[0m\u001b[0;34m\u001b[0m\u001b[0m\n\u001b[0;32m--> 320\u001b[0;31m                 \u001b[0mwaiter\u001b[0m\u001b[0;34m.\u001b[0m\u001b[0macquire\u001b[0m\u001b[0;34m(\u001b[0m\u001b[0;34m)\u001b[0m\u001b[0;34m\u001b[0m\u001b[0;34m\u001b[0m\u001b[0m\n\u001b[0m\u001b[1;32m    321\u001b[0m                 \u001b[0mgotit\u001b[0m \u001b[0;34m=\u001b[0m \u001b[0;32mTrue\u001b[0m\u001b[0;34m\u001b[0m\u001b[0;34m\u001b[0m\u001b[0m\n\u001b[1;32m    322\u001b[0m             \u001b[0;32melse\u001b[0m\u001b[0;34m:\u001b[0m\u001b[0;34m\u001b[0m\u001b[0;34m\u001b[0m\u001b[0m\n",
            "\u001b[0;31mKeyboardInterrupt\u001b[0m: "
          ]
        }
      ]
    },
    {
      "cell_type": "markdown",
      "source": [
        "# PROVE"
      ],
      "metadata": {
        "id": "1yscRsu3MlpB"
      }
    },
    {
      "cell_type": "markdown",
      "source": [
        "Apps:"
      ],
      "metadata": {
        "id": "7lleBeXp4Btq"
      }
    },
    {
      "cell_type": "code",
      "source": [
        "# app = workflow.compile()\n",
        "\n",
        "# # Test\n",
        "\n",
        "# inputs = {\"question\": \"What are the types of agent memory?\"}\n",
        "# for output in app.stream(inputs):\n",
        "#     for key, value in output.items():\n",
        "#         pprint(f\"Finished running: {key}:\")\n",
        "# pprint(value[\"generation\"])"
      ],
      "metadata": {
        "id": "-oBjy3gr4WYb"
      },
      "execution_count": null,
      "outputs": []
    },
    {
      "cell_type": "code",
      "source": [
        "# from IPython.display import Image, display\n",
        "\n",
        "# display(Image(app.get_graph(xray=True).draw_mermaid_png()))"
      ],
      "metadata": {
        "id": "CXQDIKEg_CnE"
      },
      "execution_count": null,
      "outputs": []
    },
    {
      "cell_type": "code",
      "source": [
        "# from typing import List, Optional\n",
        "\n",
        "# from langchain.agents import AgentExecutor, create_openai_functions_agent\n",
        "# from langchain.output_parsers.openai_functions import JsonOutputFunctionsParser\n",
        "# from langchain_core.prompts import ChatPromptTemplate, MessagesPlaceholder\n",
        "# from langchain_openai import ChatOpenAI\n",
        "\n",
        "# from langgraph.graph import END, StateGraph, START\n",
        "\n",
        "\n",
        "# def create_agent(\n",
        "#     llm: ChatOpenAI,\n",
        "#     tools: list,\n",
        "#     system_prompt: str,\n",
        "# ) -> str:\n",
        "#     \"\"\"Create a function-calling agent and add it to the graph.\"\"\"\n",
        "#     system_prompt += \"\\nWork autonomously according to your specialty, using the tools available to you.\"\n",
        "#     \" Do not ask for clarification.\"\n",
        "#     \" Your other team members (and other teams) will collaborate with you with their own specialties.\"\n",
        "#     \" You are chosen for a reason! You are one of the following team members: {team_members}.\"\n",
        "#     prompt = ChatPromptTemplate.from_messages(\n",
        "#         [\n",
        "#             (\n",
        "#                 \"system\",\n",
        "#                 system_prompt,\n",
        "#             ),\n",
        "#             MessagesPlaceholder(variable_name=\"messages\"),\n",
        "#             MessagesPlaceholder(variable_name=\"agent_scratchpad\"),\n",
        "#         ]\n",
        "#     )\n",
        "#     agent = create_openai_functions_agent(llm, tools, prompt)\n",
        "#     executor = AgentExecutor(agent=agent, tools=tools)\n",
        "#     return executor\n",
        "\n",
        "\n",
        "# def agent_node(state, agent, name):\n",
        "#     result = agent.invoke(state)\n",
        "#     return {\"messages\": [HumanMessage(content=result[\"output\"], name=name)]}\n",
        "\n",
        "\n",
        "# def create_master(llm, system_prompt, members) -> str:\n",
        "#     \"\"\"An LLM-based router.\"\"\"\n",
        "#     options = [\"FINISH\"] + members\n",
        "#     function_def = {\n",
        "#         \"name\": \"route\",\n",
        "#         \"description\": \"Select the next role.\",\n",
        "#         \"parameters\": {\n",
        "#             \"title\": \"routeSchema\",\n",
        "#             \"type\": \"object\",\n",
        "#             \"properties\": {\n",
        "#                 \"next\": {\n",
        "#                     \"title\": \"Next\",\n",
        "#                     \"anyOf\": [\n",
        "#                         {\"enum\": options},\n",
        "#                     ],\n",
        "#                 },\n",
        "#             },\n",
        "#             \"required\": [\"next\"],\n",
        "#         },\n",
        "#     }\n",
        "#     prompt = ChatPromptTemplate.from_messages(\n",
        "#         [\n",
        "#             (\"system\", system_prompt),\n",
        "#             MessagesPlaceholder(variable_name=\"messages\"),\n",
        "#             (\n",
        "#                 \"system\",\n",
        "#                 \"Given the conversation above, who should act next?\"\n",
        "#                 \" Or should we FINISH? Select one of: {options}\",\n",
        "#             ),\n",
        "#         ]\n",
        "#     ).partial(options=str(options), team_members=\", \".join(members))\n",
        "#     return (\n",
        "#         prompt\n",
        "#         | llm.bind_functions(functions=[function_def], function_call=\"route\")\n",
        "#         | JsonOutputFunctionsParser()\n",
        "#     )"
      ],
      "metadata": {
        "id": "RIIjGVymCs3u"
      },
      "execution_count": null,
      "outputs": []
    },
    {
      "cell_type": "code",
      "source": [
        "# import functools\n",
        "# import operator\n",
        "\n",
        "# from langchain_core.messages import BaseMessage, HumanMessage\n",
        "# from langchain_openai.chat_models import ChatOpenAI\n",
        "\n",
        "\n",
        "# # ResearchTeam graph state\n",
        "# class ResearchTeamState(TypedDict):\n",
        "#     # A message is added after each team member finishes\n",
        "#     messages: Annotated[List[BaseMessage], operator.add]\n",
        "#     # The team members are tracked so they are aware of\n",
        "#     # the others' skill-sets\n",
        "#     team_members: List[str]\n",
        "#     # Used to route work. The supervisor calls a function\n",
        "#     # that will update this every time it makes a decision\n",
        "#     next: str\n",
        "\n",
        "\n",
        "# llm = ChatOpenAI(model=\"gpt-4-1106-preview\")\n",
        "\n",
        "# search_agent = create_agent(\n",
        "#     llm,\n",
        "#     [tavily_tool],\n",
        "#     \"You are a research assistant who can search for up-to-date info using the tavily search engine.\",\n",
        "# )\n",
        "# search_node = functools.partial(agent_node, agent=search_agent, name=\"Search\")\n",
        "\n",
        "# research_agent = create_agent(\n",
        "#     llm,\n",
        "#     [scrape_webpages],\n",
        "#     \"You are a research assistant who can scrape specified urls for more detailed information using the scrape_webpages function.\",\n",
        "# )\n",
        "# research_node = functools.partial(agent_node, agent=research_agent, name=\"WebScraper\")\n",
        "\n",
        "# supervisor_agent = create_team_supervisor(\n",
        "#     llm,\n",
        "#     \"You are a supervisor tasked with managing a conversation between the\"\n",
        "#     \" following workers:  Search, WebScraper. Given the following user request,\"\n",
        "#     \" respond with the worker to act next. Each worker will perform a\"\n",
        "#     \" task and respond with their results and status. When finished,\"\n",
        "#     \" respond with FINISH.\",\n",
        "#     [\"Search\", \"WebScraper\"],\n",
        "# )"
      ],
      "metadata": {
        "id": "UvYsI7kE2lEQ"
      },
      "execution_count": null,
      "outputs": []
    },
    {
      "cell_type": "markdown",
      "source": [
        "# Control flow (Master)"
      ],
      "metadata": {
        "id": "DP_LbMBpCEfm"
      }
    },
    {
      "cell_type": "markdown",
      "source": [
        "refs:\n",
        "- https://langchain-ai.github.io/langgraph/how-tos/branching/#parallel-node-fan-out-and-fan-in"
      ],
      "metadata": {
        "id": "0qPD-To2-oG_"
      }
    },
    {
      "cell_type": "code",
      "source": [
        "# from langchain_core.messages import BaseMessage\n",
        "\n",
        "# llm = local_llm\n",
        "\n",
        "# master_node = create_master(\n",
        "#     llm,\n",
        "#     \"You are a supervisor tasked with managing a conversation between the\"\n",
        "#     \" following teams: {team_members}. Given the following user request,\"\n",
        "#     \" respond with the worker to act next. Each worker will perform a\"\n",
        "#     \" task and respond with their results and status. When finished,\"\n",
        "#     \" respond with FINISH.\",\n",
        "#     [\"Aspect_Agent\"],\n",
        "# )"
      ],
      "metadata": {
        "id": "5Td3PFcY2wZO"
      },
      "execution_count": null,
      "outputs": []
    },
    {
      "cell_type": "code",
      "source": [
        "# # Top-level graph state\n",
        "# class State(TypedDict):\n",
        "#     messages: Annotated[List[BaseMessage], operator.add]\n",
        "#     next: str\n",
        "\n",
        "\n",
        "# # Define the graph.\n",
        "# super_graph = StateGraph(State)\n",
        "\n",
        "# # First add the nodes, which will do the work\n",
        "# super_graph.add_node(\"aspect_agent\", aspectAgent_node)\n",
        "# super_graph.add_node(\"master\", master_node)\n",
        "\n",
        "# # Define the graph connections, which controls how the logic\n",
        "# # propagates through the program\n",
        "# super_graph.add_edge(START, \"master\")\n",
        "# super_graph.add_conditional_edges(\n",
        "#     \"aspect_agent\",\n",
        "#     \"master\",\n",
        "#     {\n",
        "\n",
        "#     },\n",
        "# )\n",
        "# super_graph.add_conditional_edges(\n",
        "#     \"master\",\n",
        "#     \"aspect_agent\",\n",
        "#     {\n",
        "\n",
        "#     },\n",
        "# )\n",
        "# super_graph.add_edge(\"master\", END)\n",
        "\n",
        "# super_graph = super_graph.compile()"
      ],
      "metadata": {
        "id": "hiv__6C728RX"
      },
      "execution_count": null,
      "outputs": []
    },
    {
      "cell_type": "code",
      "source": [
        "# from IPython.display import Image, display\n",
        "\n",
        "# display(Image(super_graph.get_graph().draw_mermaid_png()))"
      ],
      "metadata": {
        "id": "Y4HXtJpG2-uP"
      },
      "execution_count": null,
      "outputs": []
    },
    {
      "cell_type": "markdown",
      "source": [
        "# Application"
      ],
      "metadata": {
        "id": "tsNAEoSTCps4"
      }
    },
    {
      "cell_type": "code",
      "source": [
        "from typing import Annotated\n",
        "import operator\n",
        "\n",
        "### Super Graph State\n",
        "class SuperGraphState(TypedDict):\n",
        "    \"\"\"\n",
        "    Represents the state of our super-graph.\n",
        "\n",
        "    Attributes:\n",
        "        question: question\n",
        "        generation: LLM generation\n",
        "        agents_answer: generation of agents\n",
        "        answer: the final answer\n",
        "    \"\"\"\n",
        "\n",
        "    question: str\n",
        "    queries: List[str]\n",
        "    answers_agent: Annotated[List[str], operator.add]\n",
        "    final_answer: str\n",
        "\n",
        "\n",
        "def generate_queries(state):\n",
        "    \"\"\"\n",
        "    Generate multi-aspect queries from the starting question.\n",
        "\n",
        "    Args:\n",
        "        state (dict): The current graph state\n",
        "\n",
        "    Returns:\n",
        "        state (dict): New key added to state, generation, that contains the multi aspect queries\n",
        "    \"\"\"\n",
        "    print(\"---GENERATE MULTI-ASPECTS QUERIES---\")\n",
        "    print(f\"State: {state}\")\n",
        "    question = state[\"question\"]\n",
        "\n",
        "    generation = query_generator.invoke({\"original_query\": question})\n",
        "    #print(generation)\n",
        "    return {\"queries\": list(generation.values())[0]}\n",
        "\n",
        "def organize_outputs(state):\n",
        "    \"\"\"\n",
        "    Organize the outputs of the agents.\n",
        "\n",
        "    Args:\n",
        "        state (dict): The current graph state\n",
        "\n",
        "    Returns:\n",
        "        state (dict): New key added to state, answer, that contains the final answer to give to user\n",
        "    \"\"\"\n",
        "    print(\"---ORGANIZE OUTPUTS---\")\n",
        "    print(f\"State: {state}\")\n",
        "    answers_agent = state[\"answers_agent\"]\n",
        "\n",
        "    final_output =final_answer.invoke({\"answers\": answers_agent})\n",
        "    return {\"final_answer\": final_output}\n",
        "\n",
        "master_flow = StateGraph(SuperGraphState)\n",
        "\n",
        "# Define the nodes\n",
        "master_flow.add_node(\"generate_queries\", generate_queries)\n",
        "master_flow.add_node(\"organize_queries\", organize_outputs)\n",
        "new_compile = workflow.compile()\n",
        "master_flow.add_node(\"aspect_agent_node\",new_compile)\n",
        "# for i in range(4):\n",
        "#   new_compile = workflow.compile()\n",
        "#   master_flow.add_node(f\"aspect_agent_node_{i}\", new_compile)\n",
        "\n",
        "# Build graph\n",
        "master_flow.add_edge(START, \"generate_queries\")\n",
        "master_flow.add_edge(\"generate_queries\", \"aspect_agent_node\")\n",
        "master_flow.add_edge(\"aspect_agent_node\", \"organize_queries\")\n",
        "# for i in range(4):\n",
        "#   master_flow.add_edge(\"generate_queries\", f\"aspect_agent_node_{i}\")\n",
        "# for i in range(4):\n",
        "#   master_flow.add_edge(f\"aspect_agent_node_{i}\", \"organize_queries\")\n",
        "master_flow.add_edge(\"organize_queries\", END)\n",
        "\n",
        "app = master_flow.compile()"
      ],
      "metadata": {
        "id": "TxQR9nC5FEUw"
      },
      "execution_count": 90,
      "outputs": []
    },
    {
      "cell_type": "code",
      "source": [
        "from IPython.display import Image, display\n",
        "\n",
        "# Setting xray to 1 will show the internal structure of the nested graph\n",
        "display(Image(app.get_graph.draw_mermaid_png()))"
      ],
      "metadata": {
        "colab": {
          "base_uri": "https://localhost:8080/",
          "height": 182
        },
        "id": "l49vdfQsMU1R",
        "outputId": "b3ded57f-fdc3-4c42-ef30-dc37cbd8d43c"
      },
      "execution_count": 61,
      "outputs": [
        {
          "output_type": "error",
          "ename": "AttributeError",
          "evalue": "'function' object has no attribute 'draw_mermaid_png'",
          "traceback": [
            "\u001b[0;31m---------------------------------------------------------------------------\u001b[0m",
            "\u001b[0;31mAttributeError\u001b[0m                            Traceback (most recent call last)",
            "\u001b[0;32m<ipython-input-61-712095a0d7ee>\u001b[0m in \u001b[0;36m<cell line: 4>\u001b[0;34m()\u001b[0m\n\u001b[1;32m      2\u001b[0m \u001b[0;34m\u001b[0m\u001b[0m\n\u001b[1;32m      3\u001b[0m \u001b[0;31m# Setting xray to 1 will show the internal structure of the nested graph\u001b[0m\u001b[0;34m\u001b[0m\u001b[0;34m\u001b[0m\u001b[0m\n\u001b[0;32m----> 4\u001b[0;31m \u001b[0mdisplay\u001b[0m\u001b[0;34m(\u001b[0m\u001b[0mImage\u001b[0m\u001b[0;34m(\u001b[0m\u001b[0mapp\u001b[0m\u001b[0;34m.\u001b[0m\u001b[0mget_graph\u001b[0m\u001b[0;34m.\u001b[0m\u001b[0mdraw_mermaid_png\u001b[0m\u001b[0;34m(\u001b[0m\u001b[0;34m)\u001b[0m\u001b[0;34m)\u001b[0m\u001b[0;34m)\u001b[0m\u001b[0;34m\u001b[0m\u001b[0;34m\u001b[0m\u001b[0m\n\u001b[0m",
            "\u001b[0;31mAttributeError\u001b[0m: 'function' object has no attribute 'draw_mermaid_png'"
          ]
        }
      ]
    },
    {
      "cell_type": "code",
      "source": [
        "# Test\n",
        "\n",
        "inputs = {\"question\": \"What about COVID19?\"}\n",
        "for output in app.stream(inputs):\n",
        "    for key, value in output.items():\n",
        "        pprint(f\"Finished running: {key}:\")\n",
        "pprint(value[\"final_answer\"])"
      ],
      "metadata": {
        "id": "dJ4IKnHrFfEk",
        "colab": {
          "base_uri": "https://localhost:8080/",
          "height": 600
        },
        "outputId": "8252fb79-9128-4431-cec4-912bc0318d00"
      },
      "execution_count": 91,
      "outputs": [
        {
          "output_type": "stream",
          "name": "stdout",
          "text": [
            "---GENERATE MULTI-ASPECTS QUERIES---\n",
            "State: {'question': 'What about COVID19?', 'queries': None, 'answers_agent': [], 'final_answer': None}\n",
            "'Finished running: generate_queries:'\n",
            "---ROUTE QUESTION---\n",
            "State: {'question': 'What about COVID19?', 'queries': ['COVID-19 symptoms', 'Coronavirus updates', 'Pandemic news', 'Vaccine information'], 'answers_agent': [], 'final_answer': None}\n",
            "['COVID-19 symptoms', 'Coronavirus updates', 'Pandemic news', 'Vaccine information']\n",
            "{'datasource': 'web_search'}\n",
            "web_search\n",
            "---ROUTE QUESTION TO WEB SEARCH---\n",
            "---WEB SEARCH---\n",
            "State: {'queries': ['COVID-19 symptoms', 'Coronavirus updates', 'Pandemic news', 'Vaccine information'], 'answers_agent': [], 'web_search': None, 'documents': None}\n",
            "---GENERATE---\n",
            "State: {'queries': ['COVID-19 symptoms', 'Coronavirus updates', 'Pandemic news', 'Vaccine information'], 'answers_agent': [], 'web_search': None, 'documents': [Document(page_content=\"CDC: “Coronavirus disease 2019 (COVID-19) and you,” “Symptoms of coronavirus disease 2019,” “Symptoms,”\\xa0“Coronavirus Disease 2019 (COVID-19).”\\xa0“Symptoms of COVID-19,” “Treatments Your Healthcare Provider Might Recommend If You Are Sick,” “COVID-19 In Children and Teens,” “Test For Current Infection,” “What To Do If You Are Sick,” “Pfizer-BioNTech COVID-19 Vaccine: Vaccine Preparation and Administration Summary,” “Moderna COVID-19 Vaccine: Vaccine Preparation and Administration Summary,” “Janssen COVID-19 Vaccine (Johnson & Johnson): Vaccine Preparation and Administration Summary,” “Interim Clinical Considerations for Use of COVID-19 Vaccines Currently Authorized in the United States,”\\xa0“CDC Endorses ACIP’s Updated COVID-19 Vaccine Recommendations,” “Most Children and All Teens Can Get COVID-19 Vaccines,”\\xa0“Quarantine and Isolation,” “Types of Masks and Respirators,” “Stay Up to Date with COVID-19 Vaccines.”\\nUniversity of Alabama at Birmingham: “Sorting out symptoms of COVID-19, influenza, colds and allergies.”\\nMerck Manual Consumer Version: “Fever in Adults,” “Shortness of Breath.”\\n The Journal of Clinical and Aesthetic Dermatology: “Dermatological Conditions in SKIN OF COLOR—: Managing Atopic Dermatitis.”\\nMayo Clinic: “Unusual COVID-19 symptoms: What are they?”\\nJohns Hopkins Medicine: “Coronavirus Diagnosis: What Should I Expect?”\\nTop Picks\\nMore on COVID-19\\nExpert Opinion\\nToday on WebMD\\nHere’s what you need to know.\\n Recommended for You\\nTop doctors in ,\\nFind more top doctors on\\nHealth Solutions from Our Sponsors\\nMore from WebMD\\nRelated Links\\nPolicies\\nAbout\\nOur Apps\\nFor Advertisers\\n© 2005 - 2023 WebMD LLC, an Internet Brands company. The New England Journal of Medicine: “Large-Vessel Stroke as Presenting Feature of Covid-19 in the Young.”\\nAmerican Stroke Association: “Stroke Symptoms.”\\nBoston Children’s Hospital: “COVID-19 and a serious inflammatory syndrome in children: Unpacking recent warnings.”\\n COVID-19 SYMPTOM CHECKER\\nSee what to do about your symptoms and whether to call a doctor\\nOther COVID-19 symptoms\\nLess common problems that the virus can cause include:\\nSome doctors have reported rashes tied to this virus, including on children’s toes and feet.\\nCritical COVID-19 illness means the lung and breathing system, called the respiratory system, has failed and there is damage throughout the body. Rarely, people who catch the coronavirus can develop a group of symptoms linked to inflamed organs or tissues. The illness is called multisystem inflammatory syndrome.\\nCOVID-19 is caused by infection with a coronavirus named SARS-CoV-2, and flu is caused by infection with one of the influenza viruses. You cannot tell the difference between flu and COVID-19 by symptoms alone because some of the symptoms are the same. Some PCR tests can differentiate between flu and COVID-19 at the same time.\\nOther COVID-19 symptoms\\nAccording to the CDC, COVID-19 symptoms could include the following alongside a sore throat:\\nSome people will experience severe symptoms, such as:\\nPeople who experience these symptoms must seek immediate medical attention.\\n Last medically reviewed on\\nJuly 29, 2021\\nHow we reviewed this article:\\nShare this article\\nLatest news\\nRelated Coverage\\nCOVID-19 can cause a variety of symptoms that may appear gradually. Contagiousness\\nAccording to the CDC, most people can be around other people after 10 days since their symptoms first appeared, as long as they have not experienced fever for 24 hours and other symptoms are improving.\\n However, it is critical to contact a health professional for symptoms that include:\\nSummary\\nCOVID-19 can cause a range of symptoms for around two weeks. Read this article for a symptom-by-symptom guide to the SARS-CoV-2 virus' severity…\\nThe main symptoms of COVID-19 are fever, dry cough, and shortness of breath.\\nEmergency Warning Signs of Severe COVID-19 — When to Call 911\\nIf you or someone in your household is experiencing any of the following symptoms, call 911 or your local emergency room right away and let the operator know that you are calling for someone who might have COVID-19:\\nThere are other possible symptoms of COVID-19. A fever is one of the common symptoms of COVID-19, but you can be infected with the coronavirus and have a cough or other symptoms with no fever, or a very low-grade one — especially in the first few days. A\\xa0study\\xa0led by researchers at the Johns Hopkins Bloomberg School of Public Health shows that the median time for symptoms to show up is about five days, however, CDC research suggests that the median time for omicron symptoms to develop is about three days.\\n The most common symptoms are:\\nSome of these symptoms are very common and can occur due to many conditions other than COVID-19, the disease caused by the coronavirus called SARS CoV-2. If you have symptoms that might be due to the coronavirus, contact a health care provider, describe your symptoms and follow the provider’s recommendations.\\n\")]}\n",
            "---CHECK HALLUCINATIONS---\n",
            "State: {'documents': [Document(page_content=\"CDC: “Coronavirus disease 2019 (COVID-19) and you,” “Symptoms of coronavirus disease 2019,” “Symptoms,”\\xa0“Coronavirus Disease 2019 (COVID-19).”\\xa0“Symptoms of COVID-19,” “Treatments Your Healthcare Provider Might Recommend If You Are Sick,” “COVID-19 In Children and Teens,” “Test For Current Infection,” “What To Do If You Are Sick,” “Pfizer-BioNTech COVID-19 Vaccine: Vaccine Preparation and Administration Summary,” “Moderna COVID-19 Vaccine: Vaccine Preparation and Administration Summary,” “Janssen COVID-19 Vaccine (Johnson & Johnson): Vaccine Preparation and Administration Summary,” “Interim Clinical Considerations for Use of COVID-19 Vaccines Currently Authorized in the United States,”\\xa0“CDC Endorses ACIP’s Updated COVID-19 Vaccine Recommendations,” “Most Children and All Teens Can Get COVID-19 Vaccines,”\\xa0“Quarantine and Isolation,” “Types of Masks and Respirators,” “Stay Up to Date with COVID-19 Vaccines.”\\nUniversity of Alabama at Birmingham: “Sorting out symptoms of COVID-19, influenza, colds and allergies.”\\nMerck Manual Consumer Version: “Fever in Adults,” “Shortness of Breath.”\\n The Journal of Clinical and Aesthetic Dermatology: “Dermatological Conditions in SKIN OF COLOR—: Managing Atopic Dermatitis.”\\nMayo Clinic: “Unusual COVID-19 symptoms: What are they?”\\nJohns Hopkins Medicine: “Coronavirus Diagnosis: What Should I Expect?”\\nTop Picks\\nMore on COVID-19\\nExpert Opinion\\nToday on WebMD\\nHere’s what you need to know.\\n Recommended for You\\nTop doctors in ,\\nFind more top doctors on\\nHealth Solutions from Our Sponsors\\nMore from WebMD\\nRelated Links\\nPolicies\\nAbout\\nOur Apps\\nFor Advertisers\\n© 2005 - 2023 WebMD LLC, an Internet Brands company. The New England Journal of Medicine: “Large-Vessel Stroke as Presenting Feature of Covid-19 in the Young.”\\nAmerican Stroke Association: “Stroke Symptoms.”\\nBoston Children’s Hospital: “COVID-19 and a serious inflammatory syndrome in children: Unpacking recent warnings.”\\n COVID-19 SYMPTOM CHECKER\\nSee what to do about your symptoms and whether to call a doctor\\nOther COVID-19 symptoms\\nLess common problems that the virus can cause include:\\nSome doctors have reported rashes tied to this virus, including on children’s toes and feet.\\nCritical COVID-19 illness means the lung and breathing system, called the respiratory system, has failed and there is damage throughout the body. Rarely, people who catch the coronavirus can develop a group of symptoms linked to inflamed organs or tissues. The illness is called multisystem inflammatory syndrome.\\nCOVID-19 is caused by infection with a coronavirus named SARS-CoV-2, and flu is caused by infection with one of the influenza viruses. You cannot tell the difference between flu and COVID-19 by symptoms alone because some of the symptoms are the same. Some PCR tests can differentiate between flu and COVID-19 at the same time.\\nOther COVID-19 symptoms\\nAccording to the CDC, COVID-19 symptoms could include the following alongside a sore throat:\\nSome people will experience severe symptoms, such as:\\nPeople who experience these symptoms must seek immediate medical attention.\\n Last medically reviewed on\\nJuly 29, 2021\\nHow we reviewed this article:\\nShare this article\\nLatest news\\nRelated Coverage\\nCOVID-19 can cause a variety of symptoms that may appear gradually. Contagiousness\\nAccording to the CDC, most people can be around other people after 10 days since their symptoms first appeared, as long as they have not experienced fever for 24 hours and other symptoms are improving.\\n However, it is critical to contact a health professional for symptoms that include:\\nSummary\\nCOVID-19 can cause a range of symptoms for around two weeks. Read this article for a symptom-by-symptom guide to the SARS-CoV-2 virus' severity…\\nThe main symptoms of COVID-19 are fever, dry cough, and shortness of breath.\\nEmergency Warning Signs of Severe COVID-19 — When to Call 911\\nIf you or someone in your household is experiencing any of the following symptoms, call 911 or your local emergency room right away and let the operator know that you are calling for someone who might have COVID-19:\\nThere are other possible symptoms of COVID-19. A fever is one of the common symptoms of COVID-19, but you can be infected with the coronavirus and have a cough or other symptoms with no fever, or a very low-grade one — especially in the first few days. A\\xa0study\\xa0led by researchers at the Johns Hopkins Bloomberg School of Public Health shows that the median time for symptoms to show up is about five days, however, CDC research suggests that the median time for omicron symptoms to develop is about three days.\\n The most common symptoms are:\\nSome of these symptoms are very common and can occur due to many conditions other than COVID-19, the disease caused by the coronavirus called SARS CoV-2. If you have symptoms that might be due to the coronavirus, contact a health care provider, describe your symptoms and follow the provider’s recommendations.\\n\")], 'queries': ['COVID-19 symptoms', 'Coronavirus updates', 'Pandemic news', 'Vaccine information'], 'answers_agent': [\"According to the provided context, COVID-19 symptoms can include:\\n\\n* Fever\\n* Dry cough\\n* Shortness of breath\\n* Sore throat\\n* Rashes on children's toes and feet (less common)\\n* Multisystem inflammatory syndrome (rare)\\n\\nSome people may experience severe symptoms that require immediate medical attention.\"]}\n",
            "---DECISION: GENERATION IS GROUNDED IN DOCUMENTS---\n",
            "---GRADE GENERATION vs QUESTION---\n",
            "---DECISION: GENERATION ADDRESSES QUESTION---\n",
            "'Finished running: aspect_agent_node:'\n",
            "---ORGANIZE OUTPUTS---\n",
            "State: {'question': 'What about COVID19?', 'queries': ['COVID-19 symptoms', 'Coronavirus updates', 'Pandemic news', 'Vaccine information'], 'answers_agent': [\"According to the provided context, COVID-19 symptoms can include:\\n\\n* Fever\\n* Dry cough\\n* Shortness of breath\\n* Sore throat\\n* Rashes on children's toes and feet (less common)\\n* Multisystem inflammatory syndrome (rare)\\n\\nSome people may experience severe symptoms that require immediate medical attention.\"], 'final_answer': None}\n",
            "'Finished running: organize_queries:'\n"
          ]
        },
        {
          "output_type": "error",
          "ename": "KeyError",
          "evalue": "'answer'",
          "traceback": [
            "\u001b[0;31m---------------------------------------------------------------------------\u001b[0m",
            "\u001b[0;31mKeyError\u001b[0m                                  Traceback (most recent call last)",
            "\u001b[0;32m<ipython-input-91-5eed21b5f8f3>\u001b[0m in \u001b[0;36m<cell line: 7>\u001b[0;34m()\u001b[0m\n\u001b[1;32m      5\u001b[0m     \u001b[0;32mfor\u001b[0m \u001b[0mkey\u001b[0m\u001b[0;34m,\u001b[0m \u001b[0mvalue\u001b[0m \u001b[0;32min\u001b[0m \u001b[0moutput\u001b[0m\u001b[0;34m.\u001b[0m\u001b[0mitems\u001b[0m\u001b[0;34m(\u001b[0m\u001b[0;34m)\u001b[0m\u001b[0;34m:\u001b[0m\u001b[0;34m\u001b[0m\u001b[0;34m\u001b[0m\u001b[0m\n\u001b[1;32m      6\u001b[0m         \u001b[0mpprint\u001b[0m\u001b[0;34m(\u001b[0m\u001b[0;34mf\"Finished running: {key}:\"\u001b[0m\u001b[0;34m)\u001b[0m\u001b[0;34m\u001b[0m\u001b[0;34m\u001b[0m\u001b[0m\n\u001b[0;32m----> 7\u001b[0;31m \u001b[0mpprint\u001b[0m\u001b[0;34m(\u001b[0m\u001b[0mvalue\u001b[0m\u001b[0;34m[\u001b[0m\u001b[0;34m\"answer\"\u001b[0m\u001b[0;34m]\u001b[0m\u001b[0;34m)\u001b[0m\u001b[0;34m\u001b[0m\u001b[0;34m\u001b[0m\u001b[0m\n\u001b[0m",
            "\u001b[0;31mKeyError\u001b[0m: 'answer'"
          ]
        }
      ]
    },
    {
      "cell_type": "code",
      "source": [],
      "metadata": {
        "id": "vGZ8Dn1KOMp5"
      },
      "execution_count": null,
      "outputs": []
    }
  ]
}